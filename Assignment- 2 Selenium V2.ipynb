{
 "cells": [
  {
   "cell_type": "markdown",
   "id": "e038d02b",
   "metadata": {},
   "source": [
    "# Assignment-2 :Selenium"
   ]
  },
  {
   "cell_type": "code",
   "execution_count": 1,
   "id": "3d57e33a",
   "metadata": {},
   "outputs": [
    {
     "name": "stdout",
     "output_type": "stream",
     "text": [
      "Requirement already satisfied: selenium in c:\\users\\bhavith\\anaconda3\\lib\\site-packages (4.9.1)\n",
      "Requirement already satisfied: trio-websocket~=0.9 in c:\\users\\bhavith\\anaconda3\\lib\\site-packages (from selenium) (0.10.2)\n",
      "Requirement already satisfied: urllib3[socks]<3,>=1.26 in c:\\users\\bhavith\\anaconda3\\lib\\site-packages (from selenium) (1.26.11)\n",
      "Requirement already satisfied: certifi>=2021.10.8 in c:\\users\\bhavith\\anaconda3\\lib\\site-packages (from selenium) (2022.9.14)\n",
      "Requirement already satisfied: trio~=0.17 in c:\\users\\bhavith\\anaconda3\\lib\\site-packages (from selenium) (0.22.0)\n",
      "Requirement already satisfied: exceptiongroup>=1.0.0rc9 in c:\\users\\bhavith\\anaconda3\\lib\\site-packages (from trio~=0.17->selenium) (1.1.1)\n",
      "Requirement already satisfied: sortedcontainers in c:\\users\\bhavith\\anaconda3\\lib\\site-packages (from trio~=0.17->selenium) (2.4.0)\n",
      "Requirement already satisfied: async-generator>=1.9 in c:\\users\\bhavith\\anaconda3\\lib\\site-packages (from trio~=0.17->selenium) (1.10)\n",
      "Requirement already satisfied: cffi>=1.14 in c:\\users\\bhavith\\anaconda3\\lib\\site-packages (from trio~=0.17->selenium) (1.15.1)\n",
      "Requirement already satisfied: outcome in c:\\users\\bhavith\\anaconda3\\lib\\site-packages (from trio~=0.17->selenium) (1.2.0)\n",
      "Requirement already satisfied: sniffio in c:\\users\\bhavith\\anaconda3\\lib\\site-packages (from trio~=0.17->selenium) (1.2.0)\n",
      "Requirement already satisfied: idna in c:\\users\\bhavith\\anaconda3\\lib\\site-packages (from trio~=0.17->selenium) (3.3)\n",
      "Requirement already satisfied: attrs>=19.2.0 in c:\\users\\bhavith\\anaconda3\\lib\\site-packages (from trio~=0.17->selenium) (21.4.0)\n",
      "Requirement already satisfied: wsproto>=0.14 in c:\\users\\bhavith\\anaconda3\\lib\\site-packages (from trio-websocket~=0.9->selenium) (1.2.0)\n",
      "Requirement already satisfied: PySocks!=1.5.7,<2.0,>=1.5.6 in c:\\users\\bhavith\\anaconda3\\lib\\site-packages (from urllib3[socks]<3,>=1.26->selenium) (1.7.1)\n",
      "Requirement already satisfied: pycparser in c:\\users\\bhavith\\anaconda3\\lib\\site-packages (from cffi>=1.14->trio~=0.17->selenium) (2.21)\n",
      "Requirement already satisfied: h11<1,>=0.9.0 in c:\\users\\bhavith\\anaconda3\\lib\\site-packages (from wsproto>=0.14->trio-websocket~=0.9->selenium) (0.14.0)\n"
     ]
    }
   ],
   "source": [
    "!pip install selenium"
   ]
  },
  {
   "cell_type": "code",
   "execution_count": 2,
   "id": "f7bf1289",
   "metadata": {},
   "outputs": [],
   "source": [
    "import selenium\n",
    "\n",
    "import pandas as pd\n",
    "from selenium import webdriver\n",
    "import warnings\n",
    "warnings.filterwarnings('ignore')\n",
    "from selenium.webdriver.common.by import By\n",
    "import time\n",
    "from selenium.common.exceptions import NoSuchElementException"
   ]
  },
  {
   "cell_type": "code",
   "execution_count": 3,
   "id": "f08efa03",
   "metadata": {},
   "outputs": [],
   "source": [
    "driver=webdriver.Chrome(r\"chromedriver.exe\")"
   ]
  },
  {
   "cell_type": "raw",
   "id": "1ce1ec10",
   "metadata": {},
   "source": [
    "Question-1\n",
    "Write a python program to scrape data for “Data Analyst” Job position in “Bangalore” location\n",
    "You \n",
    "have to scrape the job-title, job-location, company_name, experience_required"
   ]
  },
  {
   "cell_type": "code",
   "execution_count": 4,
   "id": "c7963427",
   "metadata": {},
   "outputs": [],
   "source": [
    "driver.get(\"https://www.naukri.com/\")"
   ]
  },
  {
   "cell_type": "code",
   "execution_count": 5,
   "id": "9b364828",
   "metadata": {},
   "outputs": [],
   "source": [
    "designation=driver.find_element(By.CLASS_NAME,\"suggestor-input \")\n",
    "designation.send_keys('Data Analyst')"
   ]
  },
  {
   "cell_type": "code",
   "execution_count": 6,
   "id": "d7f07afd",
   "metadata": {},
   "outputs": [],
   "source": [
    "location=driver.find_element(By.XPATH,\"/html/body/div[1]/div[7]/div/div/div[5]/div/div/div/div[1]/div/input\")\n",
    "location.send_keys('Bangalore') "
   ]
  },
  {
   "cell_type": "code",
   "execution_count": 7,
   "id": "0ac9b9de",
   "metadata": {},
   "outputs": [],
   "source": [
    "search=driver.find_element(By.CLASS_NAME,\"qsbSubmit\")\n",
    "search.click()"
   ]
  },
  {
   "cell_type": "code",
   "execution_count": 33,
   "id": "e8da56f4",
   "metadata": {},
   "outputs": [],
   "source": [
    "job_title=[]\n",
    "job_location=[]\n",
    "company_name=[]\n",
    "experience_required=[]"
   ]
  },
  {
   "cell_type": "code",
   "execution_count": 34,
   "id": "eeea7e1b",
   "metadata": {},
   "outputs": [],
   "source": [
    "# Scraping job title from the given page\n",
    "\n",
    "title_tags=driver.find_elements(By.XPATH,'//a[@class=\"title ellipsis\"]')\n",
    "for i in title_tags[0:10]:\n",
    "    title=i.text\n",
    "    job_title.append(title)\n",
    "\n",
    "#scraping job loaction from the given page\n",
    "\n",
    "location_tags=driver.find_elements(By.XPATH,'//span[@class=\"ellipsis fleft locWdth\"]')\n",
    "for i in location_tags[0:10]:\n",
    "    location=i.text\n",
    "    job_location.append(location)\n",
    "\n",
    "#scraping company from the given page\n",
    "\n",
    "compant_tags=driver.find_elements(By.XPATH,'//a[@class=\"subTitle ellipsis fleft\"]')\n",
    "for i in compant_tags[0:10]:\n",
    "    company=i.text\n",
    "    company_name.append(company)\n",
    "    \n",
    "  #scraping Job Experince from the given page\n",
    "\n",
    "experience_tags=driver.find_elements(By.XPATH,'//span[@class=\"ellipsis fleft expwdth\"]')\n",
    "for i in experience_tags[0:10]:\n",
    "    experience=i.text\n",
    "    experience_required.append(experience)\n"
   ]
  },
  {
   "cell_type": "code",
   "execution_count": 35,
   "id": "78ccfeb8",
   "metadata": {},
   "outputs": [
    {
     "name": "stdout",
     "output_type": "stream",
     "text": [
      "10 10 10 10\n"
     ]
    }
   ],
   "source": [
    "print(len(job_title),len(job_location),len(company_name),len(experience_required))"
   ]
  },
  {
   "cell_type": "code",
   "execution_count": 38,
   "id": "b65ee74a",
   "metadata": {},
   "outputs": [
    {
     "data": {
      "text/html": [
       "<div>\n",
       "<style scoped>\n",
       "    .dataframe tbody tr th:only-of-type {\n",
       "        vertical-align: middle;\n",
       "    }\n",
       "\n",
       "    .dataframe tbody tr th {\n",
       "        vertical-align: top;\n",
       "    }\n",
       "\n",
       "    .dataframe thead th {\n",
       "        text-align: right;\n",
       "    }\n",
       "</style>\n",
       "<table border=\"1\" class=\"dataframe\">\n",
       "  <thead>\n",
       "    <tr style=\"text-align: right;\">\n",
       "      <th></th>\n",
       "      <th>Title</th>\n",
       "      <th>Location</th>\n",
       "      <th>Company</th>\n",
       "      <th>Experience</th>\n",
       "    </tr>\n",
       "  </thead>\n",
       "  <tbody>\n",
       "    <tr>\n",
       "      <th>0</th>\n",
       "      <td>Data Analyst</td>\n",
       "      <td>Bangalore/Bengaluru</td>\n",
       "      <td>USHA International</td>\n",
       "      <td>2-5 Yrs</td>\n",
       "    </tr>\n",
       "    <tr>\n",
       "      <th>1</th>\n",
       "      <td>Data Analyst</td>\n",
       "      <td>Bangalore/ Bengaluru, Karnataka</td>\n",
       "      <td>Jobwaala.com</td>\n",
       "      <td>0-5 Yrs</td>\n",
       "    </tr>\n",
       "    <tr>\n",
       "      <th>2</th>\n",
       "      <td>Data Analyst</td>\n",
       "      <td>Bangalore/Bengaluru, Gurgaon/Gurugram</td>\n",
       "      <td>Maruti Suzuki</td>\n",
       "      <td>2-5 Yrs</td>\n",
       "    </tr>\n",
       "    <tr>\n",
       "      <th>3</th>\n",
       "      <td>Data Analyst</td>\n",
       "      <td>Bangalore/Bengaluru</td>\n",
       "      <td>Target</td>\n",
       "      <td>2-4 Yrs</td>\n",
       "    </tr>\n",
       "    <tr>\n",
       "      <th>4</th>\n",
       "      <td>Data Analyst</td>\n",
       "      <td>Bangalore/Bengaluru</td>\n",
       "      <td>Fabzen Technologies</td>\n",
       "      <td>2-4 Yrs</td>\n",
       "    </tr>\n",
       "    <tr>\n",
       "      <th>5</th>\n",
       "      <td>Opening For Data Analyst - Bangalore</td>\n",
       "      <td>Bangalore/Bengaluru</td>\n",
       "      <td>Select Source International</td>\n",
       "      <td>6-10 Yrs</td>\n",
       "    </tr>\n",
       "    <tr>\n",
       "      <th>6</th>\n",
       "      <td>Data Analyst</td>\n",
       "      <td>Bangalore/Bengaluru, Kolkata, Mumbai, New Delh...</td>\n",
       "      <td>RCG Global Services</td>\n",
       "      <td>3-5 Yrs</td>\n",
       "    </tr>\n",
       "    <tr>\n",
       "      <th>7</th>\n",
       "      <td>Commercial Data Analyst</td>\n",
       "      <td>Bangalore/Bengaluru</td>\n",
       "      <td>Ametek Instruments India</td>\n",
       "      <td>2-6 Yrs</td>\n",
       "    </tr>\n",
       "    <tr>\n",
       "      <th>8</th>\n",
       "      <td>Commercial Data Analyst</td>\n",
       "      <td>Bangalore/ Bengaluru, Karnataka</td>\n",
       "      <td>Ametek Instruments India</td>\n",
       "      <td>3-5 Yrs</td>\n",
       "    </tr>\n",
       "    <tr>\n",
       "      <th>9</th>\n",
       "      <td>Commercial Data Analyst</td>\n",
       "      <td>Bangalore/Bengaluru</td>\n",
       "      <td>Ametek Instruments India</td>\n",
       "      <td>3-5 Yrs</td>\n",
       "    </tr>\n",
       "  </tbody>\n",
       "</table>\n",
       "</div>"
      ],
      "text/plain": [
       "                                  Title  \\\n",
       "0                          Data Analyst   \n",
       "1                          Data Analyst   \n",
       "2                          Data Analyst   \n",
       "3                          Data Analyst   \n",
       "4                          Data Analyst   \n",
       "5  Opening For Data Analyst - Bangalore   \n",
       "6                          Data Analyst   \n",
       "7               Commercial Data Analyst   \n",
       "8               Commercial Data Analyst   \n",
       "9               Commercial Data Analyst   \n",
       "\n",
       "                                            Location  \\\n",
       "0                                Bangalore/Bengaluru   \n",
       "1                    Bangalore/ Bengaluru, Karnataka   \n",
       "2              Bangalore/Bengaluru, Gurgaon/Gurugram   \n",
       "3                                Bangalore/Bengaluru   \n",
       "4                                Bangalore/Bengaluru   \n",
       "5                                Bangalore/Bengaluru   \n",
       "6  Bangalore/Bengaluru, Kolkata, Mumbai, New Delh...   \n",
       "7                                Bangalore/Bengaluru   \n",
       "8                    Bangalore/ Bengaluru, Karnataka   \n",
       "9                                Bangalore/Bengaluru   \n",
       "\n",
       "                       Company Experience  \n",
       "0           USHA International    2-5 Yrs  \n",
       "1                 Jobwaala.com    0-5 Yrs  \n",
       "2                Maruti Suzuki    2-5 Yrs  \n",
       "3                       Target    2-4 Yrs  \n",
       "4          Fabzen Technologies    2-4 Yrs  \n",
       "5  Select Source International   6-10 Yrs  \n",
       "6          RCG Global Services    3-5 Yrs  \n",
       "7     Ametek Instruments India    2-6 Yrs  \n",
       "8     Ametek Instruments India    3-5 Yrs  \n",
       "9     Ametek Instruments India    3-5 Yrs  "
      ]
     },
     "execution_count": 38,
     "metadata": {},
     "output_type": "execute_result"
    }
   ],
   "source": [
    "import pandas as pd\n",
    "\n",
    "df=pd.DataFrame({'Title':job_title,'Location':job_location,'Company':company_name,'Experience':experience_required})\n",
    "df"
   ]
  },
  {
   "cell_type": "code",
   "execution_count": null,
   "id": "95c62fe3",
   "metadata": {},
   "outputs": [],
   "source": []
  },
  {
   "cell_type": "raw",
   "id": "012df0af",
   "metadata": {},
   "source": [
    "Question-2\n",
    "Q2:Write a python program to scrape data for “Data Scientist” Job position in “Bangalore” location. You \n",
    "have to scrape the job-title, job-location, company_name. You have to scrape first 10 jobs data"
   ]
  },
  {
   "cell_type": "code",
   "execution_count": 41,
   "id": "0deed6ff",
   "metadata": {},
   "outputs": [],
   "source": [
    "driver=webdriver.Chrome(r\"chromedriver.exe\")"
   ]
  },
  {
   "cell_type": "code",
   "execution_count": 42,
   "id": "e8bda028",
   "metadata": {},
   "outputs": [],
   "source": [
    "driver.get(\"https://www.naukri.com/\")"
   ]
  },
  {
   "cell_type": "code",
   "execution_count": 45,
   "id": "3eb970d7",
   "metadata": {},
   "outputs": [],
   "source": [
    "designation=driver.find_element(By.CLASS_NAME,\"suggestor-input \")\n",
    "designation.send_keys('Data Scientist')"
   ]
  },
  {
   "cell_type": "code",
   "execution_count": 47,
   "id": "c4085f6d",
   "metadata": {},
   "outputs": [],
   "source": [
    "location=driver.find_element(By.XPATH,'/html/body/div[1]/div[6]/div/div/div[5]/div/div/div/div[1]/div/input')\n",
    "location.send_keys('Bangalore') "
   ]
  },
  {
   "cell_type": "code",
   "execution_count": 48,
   "id": "7b800b22",
   "metadata": {},
   "outputs": [],
   "source": [
    "search=driver.find_element(By.CLASS_NAME,\"qsbSubmit\")\n",
    "search.click()"
   ]
  },
  {
   "cell_type": "code",
   "execution_count": 49,
   "id": "f5d0054e",
   "metadata": {},
   "outputs": [],
   "source": [
    "DScientist_title=[]\n",
    "DScientist_location=[]\n",
    "DScompany_name=[]\n",
    "DScientist_experience=[]"
   ]
  },
  {
   "cell_type": "code",
   "execution_count": 50,
   "id": "6d3faf89",
   "metadata": {},
   "outputs": [],
   "source": [
    "# Scraping job title from the given page\n",
    "\n",
    "title_tags1=driver.find_elements(By.XPATH,'//a[@class=\"title ellipsis\"]')\n",
    "for i in title_tags1[0:10]:\n",
    "    title=i.text\n",
    "    DScientist_title.append(title)\n",
    "\n",
    "#scraping job loaction from the given page\n",
    "\n",
    "location_tags1=driver.find_elements(By.XPATH,'//span[@class=\"ellipsis fleft locWdth\"]')\n",
    "for i in location_tags1[0:10]:\n",
    "    location=i.text\n",
    "    DScientist_location.append(location)\n",
    "\n",
    "#scraping company from the given page\n",
    "\n",
    "compant_tags1=driver.find_elements(By.XPATH,'//a[@class=\"subTitle ellipsis fleft\"]')\n",
    "for i in compant_tags1[0:10]:\n",
    "    company=i.text\n",
    "    DScompany_name.append(company)\n",
    "    \n",
    "  #scraping Job Experince from the given page\n",
    "\n",
    "experience_tags1=driver.find_elements(By.XPATH,'//span[@class=\"ellipsis fleft expwdth\"]')\n",
    "for i in experience_tags1[0:10]:\n",
    "    experience=i.text\n",
    "    DScientist_experience.append(experience)"
   ]
  },
  {
   "cell_type": "code",
   "execution_count": 52,
   "id": "348e4274",
   "metadata": {},
   "outputs": [
    {
     "name": "stdout",
     "output_type": "stream",
     "text": [
      "10 10 10 10\n"
     ]
    }
   ],
   "source": [
    "print(len(DScientist_title),len(DScientist_location),len(DScompany_name),len(DScientist_experience))"
   ]
  },
  {
   "cell_type": "code",
   "execution_count": 53,
   "id": "51ce556e",
   "metadata": {},
   "outputs": [
    {
     "data": {
      "text/html": [
       "<div>\n",
       "<style scoped>\n",
       "    .dataframe tbody tr th:only-of-type {\n",
       "        vertical-align: middle;\n",
       "    }\n",
       "\n",
       "    .dataframe tbody tr th {\n",
       "        vertical-align: top;\n",
       "    }\n",
       "\n",
       "    .dataframe thead th {\n",
       "        text-align: right;\n",
       "    }\n",
       "</style>\n",
       "<table border=\"1\" class=\"dataframe\">\n",
       "  <thead>\n",
       "    <tr style=\"text-align: right;\">\n",
       "      <th></th>\n",
       "      <th>Title</th>\n",
       "      <th>Location</th>\n",
       "      <th>Company</th>\n",
       "      <th>Experience</th>\n",
       "    </tr>\n",
       "  </thead>\n",
       "  <tbody>\n",
       "    <tr>\n",
       "      <th>0</th>\n",
       "      <td>Permanent Opportunity - Data Scientist(Snaplog...</td>\n",
       "      <td>Hybrid - Bangalore/Bengaluru, Kolkata, Hyderab...</td>\n",
       "      <td>Deloitte</td>\n",
       "      <td>9-14 Yrs</td>\n",
       "    </tr>\n",
       "    <tr>\n",
       "      <th>1</th>\n",
       "      <td>Analystics &amp; Modeling Specialist</td>\n",
       "      <td>Bangalore/Bengaluru, Kolkata, Mumbai, Hyderaba...</td>\n",
       "      <td>Accenture</td>\n",
       "      <td>6-8 Yrs</td>\n",
       "    </tr>\n",
       "    <tr>\n",
       "      <th>2</th>\n",
       "      <td>Machine Learning (AI) Architect</td>\n",
       "      <td>Bangalore/Bengaluru, Kolkata, Mumbai, New Delh...</td>\n",
       "      <td>Persistent</td>\n",
       "      <td>5-12 Yrs</td>\n",
       "    </tr>\n",
       "    <tr>\n",
       "      <th>3</th>\n",
       "      <td>Patient Analytics and AI/ML/Databricks</td>\n",
       "      <td>Hybrid - Bangalore/ Bengaluru, Karnataka, Noid...</td>\n",
       "      <td>Axtria</td>\n",
       "      <td>4-9 Yrs</td>\n",
       "    </tr>\n",
       "    <tr>\n",
       "      <th>4</th>\n",
       "      <td>Machine Learning Data Science Practitioner</td>\n",
       "      <td>Bangalore/Bengaluru</td>\n",
       "      <td>Accenture</td>\n",
       "      <td>2-4 Yrs</td>\n",
       "    </tr>\n",
       "    <tr>\n",
       "      <th>5</th>\n",
       "      <td>Data Scientist</td>\n",
       "      <td>Hybrid - Bangalore/Bengaluru, Pune, Delhi / NC...</td>\n",
       "      <td>Infogain</td>\n",
       "      <td>3-6 Yrs</td>\n",
       "    </tr>\n",
       "    <tr>\n",
       "      <th>6</th>\n",
       "      <td>Senior Data Scientist - Retail</td>\n",
       "      <td>Bangalore/Bengaluru, Kolkata, Mumbai, New Delh...</td>\n",
       "      <td>Tredence</td>\n",
       "      <td>4-7 Yrs</td>\n",
       "    </tr>\n",
       "    <tr>\n",
       "      <th>7</th>\n",
       "      <td>Hiring Data Science Engineers - Tata Elxsi, Ba...</td>\n",
       "      <td>Bangalore/Bengaluru</td>\n",
       "      <td>Tata Elxsi</td>\n",
       "      <td>4-8 Yrs</td>\n",
       "    </tr>\n",
       "    <tr>\n",
       "      <th>8</th>\n",
       "      <td>Lead Data Scientist</td>\n",
       "      <td>Bangalore/ Bengaluru, Karnataka</td>\n",
       "      <td>Wakefit Innovations</td>\n",
       "      <td>5-8 Yrs</td>\n",
       "    </tr>\n",
       "    <tr>\n",
       "      <th>9</th>\n",
       "      <td>Senior Data Scientist</td>\n",
       "      <td>Bangalore/Bengaluru</td>\n",
       "      <td>Visa Inc</td>\n",
       "      <td>10-20 Yrs</td>\n",
       "    </tr>\n",
       "  </tbody>\n",
       "</table>\n",
       "</div>"
      ],
      "text/plain": [
       "                                               Title  \\\n",
       "0  Permanent Opportunity - Data Scientist(Snaplog...   \n",
       "1                   Analystics & Modeling Specialist   \n",
       "2                    Machine Learning (AI) Architect   \n",
       "3             Patient Analytics and AI/ML/Databricks   \n",
       "4         Machine Learning Data Science Practitioner   \n",
       "5                                     Data Scientist   \n",
       "6                     Senior Data Scientist - Retail   \n",
       "7  Hiring Data Science Engineers - Tata Elxsi, Ba...   \n",
       "8                                Lead Data Scientist   \n",
       "9                              Senior Data Scientist   \n",
       "\n",
       "                                            Location              Company  \\\n",
       "0  Hybrid - Bangalore/Bengaluru, Kolkata, Hyderab...             Deloitte   \n",
       "1  Bangalore/Bengaluru, Kolkata, Mumbai, Hyderaba...            Accenture   \n",
       "2  Bangalore/Bengaluru, Kolkata, Mumbai, New Delh...           Persistent   \n",
       "3  Hybrid - Bangalore/ Bengaluru, Karnataka, Noid...               Axtria   \n",
       "4                                Bangalore/Bengaluru            Accenture   \n",
       "5  Hybrid - Bangalore/Bengaluru, Pune, Delhi / NC...             Infogain   \n",
       "6  Bangalore/Bengaluru, Kolkata, Mumbai, New Delh...             Tredence   \n",
       "7                                Bangalore/Bengaluru           Tata Elxsi   \n",
       "8                    Bangalore/ Bengaluru, Karnataka  Wakefit Innovations   \n",
       "9                                Bangalore/Bengaluru             Visa Inc   \n",
       "\n",
       "  Experience  \n",
       "0   9-14 Yrs  \n",
       "1    6-8 Yrs  \n",
       "2   5-12 Yrs  \n",
       "3    4-9 Yrs  \n",
       "4    2-4 Yrs  \n",
       "5    3-6 Yrs  \n",
       "6    4-7 Yrs  \n",
       "7    4-8 Yrs  \n",
       "8    5-8 Yrs  \n",
       "9  10-20 Yrs  "
      ]
     },
     "execution_count": 53,
     "metadata": {},
     "output_type": "execute_result"
    }
   ],
   "source": [
    "import pandas as pd\n",
    "\n",
    "df1=pd.DataFrame({'Title':DScientist_title,'Location':DScientist_location,'Company':DScompany_name,'Experience':DScientist_experience})\n",
    "df1"
   ]
  },
  {
   "cell_type": "code",
   "execution_count": null,
   "id": "b37ac679",
   "metadata": {},
   "outputs": [],
   "source": []
  },
  {
   "cell_type": "raw",
   "id": "02fc8865",
   "metadata": {},
   "source": [
    "Question-3"
   ]
  },
  {
   "cell_type": "raw",
   "id": "4858312e",
   "metadata": {},
   "source": [
    " In this question you have to scrape data using the filters available on the webpage as shown below:\n"
   ]
  },
  {
   "cell_type": "code",
   "execution_count": 54,
   "id": "75cabd84",
   "metadata": {},
   "outputs": [],
   "source": [
    "driver=webdriver.Chrome(r\"chromedriver.exe\")"
   ]
  },
  {
   "cell_type": "code",
   "execution_count": 55,
   "id": "0582c141",
   "metadata": {},
   "outputs": [],
   "source": [
    "driver.get(\"https://www.naukri.com/\")"
   ]
  },
  {
   "cell_type": "code",
   "execution_count": 56,
   "id": "9653250f",
   "metadata": {},
   "outputs": [],
   "source": [
    "designation=driver.find_element(By.CLASS_NAME,\"suggestor-input \")\n",
    "designation.send_keys('Data Scientist')"
   ]
  },
  {
   "cell_type": "code",
   "execution_count": 58,
   "id": "c5073ced",
   "metadata": {},
   "outputs": [],
   "source": [
    "location=driver.find_element(By.XPATH,'/html/body/div[1]/div[7]/div/div/div[5]/div/div/div/div[1]/div/input')\n",
    "location.send_keys('Delhi/NCR') "
   ]
  },
  {
   "cell_type": "code",
   "execution_count": 60,
   "id": "586f21ff",
   "metadata": {},
   "outputs": [],
   "source": [
    "search=driver.find_element(By.CLASS_NAME,\"qsbSubmit\")\n",
    "search.click()"
   ]
  },
  {
   "cell_type": "code",
   "execution_count": 64,
   "id": "6c44ee6f",
   "metadata": {},
   "outputs": [],
   "source": [
    "DSDelhi_title=[]\n",
    "DSDelhi_location=[]\n",
    "DSDelhi_company=[]\n",
    "DSDelhi_experience=[]"
   ]
  },
  {
   "cell_type": "code",
   "execution_count": 65,
   "id": "af2381b7",
   "metadata": {},
   "outputs": [],
   "source": [
    "# Scraping job title from the given page\n",
    "\n",
    "title_tags2=driver.find_elements(By.XPATH,'//a[@class=\"title ellipsis\"]')\n",
    "for i in title_tags2[0:10]:\n",
    "    title=i.text\n",
    "    DSDelhi_title.append(title)\n",
    "\n",
    "#scraping job loaction from the given page\n",
    "\n",
    "location_tags2=driver.find_elements(By.XPATH,'//span[@class=\"ellipsis fleft locWdth\"]')\n",
    "for i in location_tags2[0:10]:\n",
    "    location=i.text\n",
    "    DSDelhi_location.append(location)\n",
    "\n",
    "#scraping company from the given page\n",
    "\n",
    "compant_tags2=driver.find_elements(By.XPATH,'//a[@class=\"subTitle ellipsis fleft\"]')\n",
    "for i in compant_tags2[0:10]:\n",
    "    company=i.text\n",
    "    DSDelhi_company.append(company)\n",
    "    \n",
    "  #scraping Job Experince from the given page\n",
    "\n",
    "experience_tags2=driver.find_elements(By.XPATH,'//span[@class=\"ellipsis fleft expwdth\"]')\n",
    "for i in experience_tags2[0:10]:\n",
    "    experience=i.text\n",
    "    DSDelhi_experience.append(experience)"
   ]
  },
  {
   "cell_type": "code",
   "execution_count": 66,
   "id": "a6d31d7d",
   "metadata": {},
   "outputs": [
    {
     "name": "stdout",
     "output_type": "stream",
     "text": [
      "10 10 10 10\n"
     ]
    }
   ],
   "source": [
    "print(len(DSDelhi_title),len(DSDelhi_location),len(DSDelhi_company),len(DSDelhi_experience))"
   ]
  },
  {
   "cell_type": "code",
   "execution_count": 67,
   "id": "6b85e9f1",
   "metadata": {},
   "outputs": [
    {
     "data": {
      "text/html": [
       "<div>\n",
       "<style scoped>\n",
       "    .dataframe tbody tr th:only-of-type {\n",
       "        vertical-align: middle;\n",
       "    }\n",
       "\n",
       "    .dataframe tbody tr th {\n",
       "        vertical-align: top;\n",
       "    }\n",
       "\n",
       "    .dataframe thead th {\n",
       "        text-align: right;\n",
       "    }\n",
       "</style>\n",
       "<table border=\"1\" class=\"dataframe\">\n",
       "  <thead>\n",
       "    <tr style=\"text-align: right;\">\n",
       "      <th></th>\n",
       "      <th>Title</th>\n",
       "      <th>Location</th>\n",
       "      <th>Company</th>\n",
       "      <th>Experience</th>\n",
       "    </tr>\n",
       "  </thead>\n",
       "  <tbody>\n",
       "    <tr>\n",
       "      <th>0</th>\n",
       "      <td>Junior Data Scientist</td>\n",
       "      <td>Kolkata, Mumbai, New Delhi, Hyderabad/Secunder...</td>\n",
       "      <td>Analytos</td>\n",
       "      <td>0-2 Yrs</td>\n",
       "    </tr>\n",
       "    <tr>\n",
       "      <th>1</th>\n",
       "      <td>Data Scientist</td>\n",
       "      <td>Gurgaon/Gurugram, Bangalore/Bengaluru</td>\n",
       "      <td>Blackbuck</td>\n",
       "      <td>3-7 Yrs</td>\n",
       "    </tr>\n",
       "    <tr>\n",
       "      <th>2</th>\n",
       "      <td>Data Scientist</td>\n",
       "      <td>Kolkata, Mumbai, New Delhi, Hyderabad/Secunder...</td>\n",
       "      <td>Analytos</td>\n",
       "      <td>2-4 Yrs</td>\n",
       "    </tr>\n",
       "    <tr>\n",
       "      <th>3</th>\n",
       "      <td>Looking For Data Scientist (Finance Background...</td>\n",
       "      <td>Hybrid - Gurgaon/ Gurugram, Haryana</td>\n",
       "      <td>Evalueserve</td>\n",
       "      <td>3-7 Yrs</td>\n",
       "    </tr>\n",
       "    <tr>\n",
       "      <th>4</th>\n",
       "      <td>Python and ML Trainer</td>\n",
       "      <td>Hyderabad/Secunderabad, New Delhi, Pune, Gurga...</td>\n",
       "      <td>Thescholar</td>\n",
       "      <td>3-8 Yrs</td>\n",
       "    </tr>\n",
       "    <tr>\n",
       "      <th>5</th>\n",
       "      <td>Data Scientist</td>\n",
       "      <td>Delhi / NCR</td>\n",
       "      <td>Tata Consultancy Services (TCS)</td>\n",
       "      <td>7-12 Yrs</td>\n",
       "    </tr>\n",
       "    <tr>\n",
       "      <th>6</th>\n",
       "      <td>Intern</td>\n",
       "      <td>Gurgaon/Gurugram</td>\n",
       "      <td>Tower Research Capital</td>\n",
       "      <td>0-1 Yrs</td>\n",
       "    </tr>\n",
       "    <tr>\n",
       "      <th>7</th>\n",
       "      <td>Data Scientist</td>\n",
       "      <td>Noida</td>\n",
       "      <td>Innovaccer</td>\n",
       "      <td>2-4 Yrs</td>\n",
       "    </tr>\n",
       "    <tr>\n",
       "      <th>8</th>\n",
       "      <td>Junior Data Scientist</td>\n",
       "      <td>Gurgaon/Gurugram, United States (USA), Bulgaria</td>\n",
       "      <td>Adidas</td>\n",
       "      <td>1-6 Yrs</td>\n",
       "    </tr>\n",
       "    <tr>\n",
       "      <th>9</th>\n",
       "      <td>Lead Assistant Manager</td>\n",
       "      <td>Gurgaon/Gurugram</td>\n",
       "      <td>EXL</td>\n",
       "      <td>2-6 Yrs</td>\n",
       "    </tr>\n",
       "  </tbody>\n",
       "</table>\n",
       "</div>"
      ],
      "text/plain": [
       "                                               Title  \\\n",
       "0                              Junior Data Scientist   \n",
       "1                                     Data Scientist   \n",
       "2                                     Data Scientist   \n",
       "3  Looking For Data Scientist (Finance Background...   \n",
       "4                              Python and ML Trainer   \n",
       "5                                     Data Scientist   \n",
       "6                                             Intern   \n",
       "7                                     Data Scientist   \n",
       "8                              Junior Data Scientist   \n",
       "9                             Lead Assistant Manager   \n",
       "\n",
       "                                            Location  \\\n",
       "0  Kolkata, Mumbai, New Delhi, Hyderabad/Secunder...   \n",
       "1              Gurgaon/Gurugram, Bangalore/Bengaluru   \n",
       "2  Kolkata, Mumbai, New Delhi, Hyderabad/Secunder...   \n",
       "3                Hybrid - Gurgaon/ Gurugram, Haryana   \n",
       "4  Hyderabad/Secunderabad, New Delhi, Pune, Gurga...   \n",
       "5                                        Delhi / NCR   \n",
       "6                                   Gurgaon/Gurugram   \n",
       "7                                              Noida   \n",
       "8    Gurgaon/Gurugram, United States (USA), Bulgaria   \n",
       "9                                   Gurgaon/Gurugram   \n",
       "\n",
       "                           Company Experience  \n",
       "0                         Analytos    0-2 Yrs  \n",
       "1                        Blackbuck    3-7 Yrs  \n",
       "2                         Analytos    2-4 Yrs  \n",
       "3                      Evalueserve    3-7 Yrs  \n",
       "4                       Thescholar    3-8 Yrs  \n",
       "5  Tata Consultancy Services (TCS)   7-12 Yrs  \n",
       "6           Tower Research Capital    0-1 Yrs  \n",
       "7                       Innovaccer    2-4 Yrs  \n",
       "8                           Adidas    1-6 Yrs  \n",
       "9                              EXL    2-6 Yrs  "
      ]
     },
     "execution_count": 67,
     "metadata": {},
     "output_type": "execute_result"
    }
   ],
   "source": [
    "import pandas as pd\n",
    "\n",
    "df2=pd.DataFrame({'Title':DSDelhi_title,'Location':DSDelhi_location,'Company':DSDelhi_company,'Experience':DSDelhi_experience})\n",
    "df2"
   ]
  },
  {
   "cell_type": "code",
   "execution_count": null,
   "id": "bcfef3da",
   "metadata": {},
   "outputs": [],
   "source": []
  },
  {
   "cell_type": "raw",
   "id": "e24ec74c",
   "metadata": {},
   "source": [
    "Question-4"
   ]
  },
  {
   "cell_type": "raw",
   "id": "c0d843e4",
   "metadata": {},
   "source": [
    ": Scrape data of first 100 sunglasses listings on flipkart.com. You have to scrape four attributes:\n",
    "1. Brand\n",
    "2. ProductDescription\n",
    "3. Price\n",
    "The attributes which you have to scrape is ticked marked in the below image."
   ]
  },
  {
   "cell_type": "code",
   "execution_count": 68,
   "id": "cd718b10",
   "metadata": {},
   "outputs": [],
   "source": [
    "driver=webdriver.Chrome(r\"chromedriver.exe\")"
   ]
  },
  {
   "cell_type": "code",
   "execution_count": 69,
   "id": "a2462f05",
   "metadata": {},
   "outputs": [],
   "source": [
    "driver.get(\"https://www.flipkart.com/\")"
   ]
  },
  {
   "cell_type": "code",
   "execution_count": 71,
   "id": "bdbcfcda",
   "metadata": {},
   "outputs": [],
   "source": [
    "designation=driver.find_element(By.CLASS_NAME,\"_3704LK\")\n",
    "designation.send_keys('sunglasses')"
   ]
  },
  {
   "cell_type": "code",
   "execution_count": 73,
   "id": "ba0e766f",
   "metadata": {},
   "outputs": [],
   "source": [
    "search=driver.find_element(By.CLASS_NAME,\"L0Z3Pu\")\n",
    "search.click()"
   ]
  },
  {
   "cell_type": "code",
   "execution_count": 121,
   "id": "6eecd499",
   "metadata": {},
   "outputs": [],
   "source": [
    "Brand_Name=[]\n",
    "Price=[]\n",
    "Product_Description=[]\n"
   ]
  },
  {
   "cell_type": "code",
   "execution_count": 124,
   "id": "2424bce4",
   "metadata": {},
   "outputs": [],
   "source": [
    "start=0\n",
    "end=3\n",
    "for page in range(start,end):\n",
    "    Brands=driver.find_elements(By.XPATH,'//div[@class=\"_2WkVRV\"]')\n",
    "    for i in Brands:\n",
    "        Brand_Name.append(i.text)\n",
    "    next_button=driver.find_element(By.XPATH,'//nav[@class=\"yFHi8N\"]')\n",
    "    next_button.click()\n",
    "    time.sleep(5)"
   ]
  },
  {
   "cell_type": "code",
   "execution_count": 125,
   "id": "f2475348",
   "metadata": {},
   "outputs": [
    {
     "data": {
      "text/plain": [
       "200"
      ]
     },
     "execution_count": 125,
     "metadata": {},
     "output_type": "execute_result"
    }
   ],
   "source": [
    "len(Brand_Name)"
   ]
  },
  {
   "cell_type": "code",
   "execution_count": 128,
   "id": "4df79c71",
   "metadata": {},
   "outputs": [],
   "source": [
    "start=0\n",
    "end=3\n",
    "for page in range(start,end):\n",
    "    Prices=driver.find_elements(By.XPATH,'//div[@class=\"_30jeq3\"]')\n",
    "    for i in Prices:\n",
    "        Price.append(i.text)\n",
    "    next_button=driver.find_element(By.XPATH,'//nav[@class=\"yFHi8N\"]')\n",
    "    next_button.click()\n",
    "    time.sleep(5)"
   ]
  },
  {
   "cell_type": "code",
   "execution_count": 129,
   "id": "054e88e8",
   "metadata": {},
   "outputs": [
    {
     "data": {
      "text/plain": [
       "200"
      ]
     },
     "execution_count": 129,
     "metadata": {},
     "output_type": "execute_result"
    }
   ],
   "source": [
    "len(Price)"
   ]
  },
  {
   "cell_type": "code",
   "execution_count": 130,
   "id": "a9e87668",
   "metadata": {},
   "outputs": [],
   "source": [
    "start=0\n",
    "end=3\n",
    "for page in range(start,end):\n",
    "    PDescription=driver.find_elements(By.XPATH,'//div[@class=\"X3BRps\"]')\n",
    "    for i in PDescription[0:100]:\n",
    "        Product_Description.append(i.text)\n",
    "    next_button=driver.find_element(By.XPATH,'//nav[@class=\"yFHi8N\"]')\n",
    "    next_button.click()\n",
    "    time.sleep(5)"
   ]
  },
  {
   "cell_type": "code",
   "execution_count": 132,
   "id": "4e0ccaba",
   "metadata": {},
   "outputs": [
    {
     "data": {
      "text/plain": [
       "['VINCENT CHASE',\n",
       " 'VINCENT CHASE',\n",
       " 'Singco India',\n",
       " 'Ray-Ban',\n",
       " 'ROZZETTA CRAFT',\n",
       " 'NuVew',\n",
       " 'OCHILA',\n",
       " 'VINCENT CHASE',\n",
       " 'john jacobs',\n",
       " 'VINCENT CHASE',\n",
       " 'GRECCY',\n",
       " 'VINCENT CHASE',\n",
       " 'Fastrack',\n",
       " 'Ray-Ban',\n",
       " 'AISLIN',\n",
       " 'Ray-Ban',\n",
       " 'OCHILA',\n",
       " 'Singco India',\n",
       " 'Singco India',\n",
       " 'Ray-Ban',\n",
       " 'ROYAL SON',\n",
       " 'VINCENT CHASE',\n",
       " 'ROYAL SON',\n",
       " 'VINCENT CHASE',\n",
       " 'AISLIN',\n",
       " 'SUNBEE',\n",
       " 'ROYAL SON',\n",
       " 'VINCENT CHASE',\n",
       " 'john jacobs',\n",
       " 'john jacobs',\n",
       " 'style guru',\n",
       " 'Resist',\n",
       " 'GANSTA',\n",
       " 'VINCENT CHASE',\n",
       " 'VINCENT CHASE',\n",
       " 'GANSTA',\n",
       " 'Eyenaks',\n",
       " 'Resist',\n",
       " 'Sukart',\n",
       " 'New Specs',\n",
       " 'VINCENT CHASE',\n",
       " 'VINCENT CHASE',\n",
       " 'Singco India',\n",
       " 'Ray-Ban',\n",
       " 'ROZZETTA CRAFT',\n",
       " 'NuVew',\n",
       " 'OCHILA',\n",
       " 'VINCENT CHASE',\n",
       " 'john jacobs',\n",
       " 'VINCENT CHASE',\n",
       " 'GRECCY',\n",
       " 'VINCENT CHASE',\n",
       " 'Fastrack',\n",
       " 'Ray-Ban',\n",
       " 'AISLIN',\n",
       " 'Ray-Ban',\n",
       " 'OCHILA',\n",
       " 'Singco India',\n",
       " 'Singco India',\n",
       " 'Ray-Ban',\n",
       " 'ROYAL SON',\n",
       " 'VINCENT CHASE',\n",
       " 'ROYAL SON',\n",
       " 'VINCENT CHASE',\n",
       " 'AISLIN',\n",
       " 'SUNBEE',\n",
       " 'ROYAL SON',\n",
       " 'VINCENT CHASE',\n",
       " 'john jacobs',\n",
       " 'john jacobs',\n",
       " 'style guru',\n",
       " 'Resist',\n",
       " 'GANSTA',\n",
       " 'VINCENT CHASE',\n",
       " 'VINCENT CHASE',\n",
       " 'GANSTA',\n",
       " 'Eyenaks',\n",
       " 'Resist',\n",
       " 'Sukart',\n",
       " 'New Specs',\n",
       " 'VINCENT CHASE',\n",
       " 'VINCENT CHASE',\n",
       " 'Singco India',\n",
       " 'Ray-Ban',\n",
       " 'ROZZETTA CRAFT',\n",
       " 'NuVew',\n",
       " 'OCHILA',\n",
       " 'VINCENT CHASE',\n",
       " 'john jacobs',\n",
       " 'VINCENT CHASE',\n",
       " 'GRECCY',\n",
       " 'VINCENT CHASE',\n",
       " 'Fastrack',\n",
       " 'Ray-Ban',\n",
       " 'AISLIN',\n",
       " 'Ray-Ban',\n",
       " 'OCHILA',\n",
       " 'Singco India',\n",
       " 'Singco India',\n",
       " 'Ray-Ban',\n",
       " 'ROYAL SON',\n",
       " 'VINCENT CHASE',\n",
       " 'ROYAL SON',\n",
       " 'VINCENT CHASE',\n",
       " 'AISLIN',\n",
       " 'SUNBEE',\n",
       " 'ROYAL SON',\n",
       " 'VINCENT CHASE',\n",
       " 'john jacobs',\n",
       " 'john jacobs',\n",
       " 'style guru',\n",
       " 'Resist',\n",
       " 'GANSTA',\n",
       " 'VINCENT CHASE',\n",
       " 'VINCENT CHASE',\n",
       " 'GANSTA',\n",
       " 'Eyenaks',\n",
       " 'Resist',\n",
       " 'Sukart',\n",
       " 'New Specs',\n",
       " 'VINCENT CHASE',\n",
       " 'VINCENT CHASE',\n",
       " 'Singco India',\n",
       " 'Ray-Ban',\n",
       " 'ROZZETTA CRAFT',\n",
       " 'NuVew',\n",
       " 'OCHILA',\n",
       " 'VINCENT CHASE',\n",
       " 'john jacobs',\n",
       " 'VINCENT CHASE',\n",
       " 'GRECCY',\n",
       " 'VINCENT CHASE',\n",
       " 'Fastrack',\n",
       " 'Ray-Ban',\n",
       " 'AISLIN',\n",
       " 'Ray-Ban',\n",
       " 'OCHILA',\n",
       " 'Singco India',\n",
       " 'Singco India',\n",
       " 'Ray-Ban',\n",
       " 'ROYAL SON',\n",
       " 'VINCENT CHASE',\n",
       " 'ROYAL SON',\n",
       " 'VINCENT CHASE',\n",
       " 'AISLIN',\n",
       " 'SUNBEE',\n",
       " 'ROYAL SON',\n",
       " 'VINCENT CHASE',\n",
       " 'john jacobs',\n",
       " 'john jacobs',\n",
       " 'style guru',\n",
       " 'Resist',\n",
       " 'GANSTA',\n",
       " 'VINCENT CHASE',\n",
       " 'VINCENT CHASE',\n",
       " 'GANSTA',\n",
       " 'Eyenaks',\n",
       " 'Resist',\n",
       " 'Sukart',\n",
       " 'New Specs',\n",
       " 'VINCENT CHASE',\n",
       " 'VINCENT CHASE',\n",
       " 'Singco India',\n",
       " 'Ray-Ban',\n",
       " 'ROZZETTA CRAFT',\n",
       " 'NuVew',\n",
       " 'OCHILA',\n",
       " 'VINCENT CHASE',\n",
       " 'john jacobs',\n",
       " 'VINCENT CHASE',\n",
       " 'GRECCY',\n",
       " 'VINCENT CHASE',\n",
       " 'Fastrack',\n",
       " 'Ray-Ban',\n",
       " 'AISLIN',\n",
       " 'Ray-Ban',\n",
       " 'OCHILA',\n",
       " 'Singco India',\n",
       " 'Singco India',\n",
       " 'Ray-Ban',\n",
       " 'ROYAL SON',\n",
       " 'VINCENT CHASE',\n",
       " 'ROYAL SON',\n",
       " 'VINCENT CHASE',\n",
       " 'AISLIN',\n",
       " 'SUNBEE',\n",
       " 'ROYAL SON',\n",
       " 'VINCENT CHASE',\n",
       " 'john jacobs',\n",
       " 'john jacobs',\n",
       " 'style guru',\n",
       " 'Resist',\n",
       " 'GANSTA',\n",
       " 'VINCENT CHASE',\n",
       " 'VINCENT CHASE',\n",
       " 'GANSTA',\n",
       " 'Eyenaks',\n",
       " 'Resist',\n",
       " 'Sukart',\n",
       " 'New Specs']"
      ]
     },
     "execution_count": 132,
     "metadata": {},
     "output_type": "execute_result"
    }
   ],
   "source": [
    "Brand_Name"
   ]
  },
  {
   "cell_type": "code",
   "execution_count": 133,
   "id": "cc2e8974",
   "metadata": {},
   "outputs": [
    {
     "data": {
      "text/plain": [
       "['₹669',\n",
       " '₹769',\n",
       " '₹466',\n",
       " '₹5,659',\n",
       " '₹449',\n",
       " '₹125',\n",
       " '₹248',\n",
       " '₹749',\n",
       " '₹1,890',\n",
       " '₹873',\n",
       " '₹186',\n",
       " '₹962',\n",
       " '₹1,889',\n",
       " '₹6,779',\n",
       " '₹415',\n",
       " '₹4,889',\n",
       " '₹189',\n",
       " '₹396',\n",
       " '₹225',\n",
       " '₹4,119',\n",
       " '₹497',\n",
       " '₹829',\n",
       " '₹664',\n",
       " '₹689',\n",
       " '₹423',\n",
       " '₹179',\n",
       " '₹664',\n",
       " '₹2,500',\n",
       " '₹2,200',\n",
       " '₹1,928',\n",
       " '₹899',\n",
       " '₹1,599',\n",
       " '₹279',\n",
       " '₹879',\n",
       " '₹870',\n",
       " '₹288',\n",
       " '₹416',\n",
       " '₹1,599',\n",
       " '₹298',\n",
       " '₹299',\n",
       " '₹669',\n",
       " '₹769',\n",
       " '₹466',\n",
       " '₹5,659',\n",
       " '₹449',\n",
       " '₹125',\n",
       " '₹248',\n",
       " '₹749',\n",
       " '₹1,890',\n",
       " '₹873',\n",
       " '₹186',\n",
       " '₹962',\n",
       " '₹1,889',\n",
       " '₹6,779',\n",
       " '₹415',\n",
       " '₹4,889',\n",
       " '₹189',\n",
       " '₹396',\n",
       " '₹225',\n",
       " '₹4,119',\n",
       " '₹497',\n",
       " '₹829',\n",
       " '₹664',\n",
       " '₹689',\n",
       " '₹423',\n",
       " '₹179',\n",
       " '₹664',\n",
       " '₹2,500',\n",
       " '₹2,200',\n",
       " '₹1,928',\n",
       " '₹899',\n",
       " '₹1,599',\n",
       " '₹279',\n",
       " '₹879',\n",
       " '₹870',\n",
       " '₹288',\n",
       " '₹416',\n",
       " '₹1,599',\n",
       " '₹298',\n",
       " '₹299',\n",
       " '₹669',\n",
       " '₹769',\n",
       " '₹466',\n",
       " '₹5,659',\n",
       " '₹449',\n",
       " '₹125',\n",
       " '₹248',\n",
       " '₹749',\n",
       " '₹1,890',\n",
       " '₹873',\n",
       " '₹186',\n",
       " '₹962',\n",
       " '₹1,889',\n",
       " '₹6,779',\n",
       " '₹415',\n",
       " '₹4,889',\n",
       " '₹189',\n",
       " '₹396',\n",
       " '₹225',\n",
       " '₹4,119',\n",
       " '₹497',\n",
       " '₹829',\n",
       " '₹664',\n",
       " '₹689',\n",
       " '₹423',\n",
       " '₹179',\n",
       " '₹664',\n",
       " '₹2,500',\n",
       " '₹2,200',\n",
       " '₹1,928',\n",
       " '₹899',\n",
       " '₹1,599',\n",
       " '₹279',\n",
       " '₹879',\n",
       " '₹870',\n",
       " '₹288',\n",
       " '₹416',\n",
       " '₹1,599',\n",
       " '₹298',\n",
       " '₹299',\n",
       " '₹669',\n",
       " '₹769',\n",
       " '₹466',\n",
       " '₹5,659',\n",
       " '₹449',\n",
       " '₹125',\n",
       " '₹248',\n",
       " '₹749',\n",
       " '₹1,890',\n",
       " '₹873',\n",
       " '₹186',\n",
       " '₹962',\n",
       " '₹1,889',\n",
       " '₹6,779',\n",
       " '₹415',\n",
       " '₹4,889',\n",
       " '₹189',\n",
       " '₹396',\n",
       " '₹225',\n",
       " '₹4,119',\n",
       " '₹497',\n",
       " '₹829',\n",
       " '₹664',\n",
       " '₹689',\n",
       " '₹423',\n",
       " '₹179',\n",
       " '₹664',\n",
       " '₹2,500',\n",
       " '₹2,200',\n",
       " '₹1,928',\n",
       " '₹899',\n",
       " '₹1,599',\n",
       " '₹279',\n",
       " '₹879',\n",
       " '₹870',\n",
       " '₹288',\n",
       " '₹416',\n",
       " '₹1,599',\n",
       " '₹298',\n",
       " '₹299',\n",
       " '₹669',\n",
       " '₹769',\n",
       " '₹466',\n",
       " '₹5,659',\n",
       " '₹449',\n",
       " '₹125',\n",
       " '₹248',\n",
       " '₹749',\n",
       " '₹1,890',\n",
       " '₹873',\n",
       " '₹186',\n",
       " '₹962',\n",
       " '₹1,889',\n",
       " '₹6,779',\n",
       " '₹415',\n",
       " '₹4,889',\n",
       " '₹189',\n",
       " '₹396',\n",
       " '₹225',\n",
       " '₹4,119',\n",
       " '₹497',\n",
       " '₹829',\n",
       " '₹664',\n",
       " '₹689',\n",
       " '₹423',\n",
       " '₹179',\n",
       " '₹664',\n",
       " '₹2,500',\n",
       " '₹2,200',\n",
       " '₹1,928',\n",
       " '₹899',\n",
       " '₹1,599',\n",
       " '₹279',\n",
       " '₹879',\n",
       " '₹870',\n",
       " '₹288',\n",
       " '₹416',\n",
       " '₹1,599',\n",
       " '₹298',\n",
       " '₹299']"
      ]
     },
     "execution_count": 133,
     "metadata": {},
     "output_type": "execute_result"
    }
   ],
   "source": [
    "Price"
   ]
  },
  {
   "cell_type": "code",
   "execution_count": 174,
   "id": "ac2662bd",
   "metadata": {},
   "outputs": [],
   "source": [
    "driver=webdriver.Chrome(r\"chromedriver.exe\")"
   ]
  },
  {
   "cell_type": "code",
   "execution_count": 175,
   "id": "7cfd3be7",
   "metadata": {},
   "outputs": [],
   "source": [
    "driver.get(\"https://www.flipkart.com/\")"
   ]
  },
  {
   "cell_type": "code",
   "execution_count": 176,
   "id": "49944ea0",
   "metadata": {},
   "outputs": [],
   "source": [
    "designation=driver.find_element(By.CLASS_NAME,\"_3704LK\")\n",
    "designation.send_keys('sunglasses')"
   ]
  },
  {
   "cell_type": "code",
   "execution_count": 177,
   "id": "59d323b3",
   "metadata": {},
   "outputs": [],
   "source": [
    "search=driver.find_element(By.CLASS_NAME,\"_34RNph\")\n",
    "search.click()"
   ]
  },
  {
   "cell_type": "code",
   "execution_count": null,
   "id": "1a21f9fd",
   "metadata": {},
   "outputs": [],
   "source": [
    "# Product URL code"
   ]
  },
  {
   "cell_type": "code",
   "execution_count": 186,
   "id": "8e1f4853",
   "metadata": {},
   "outputs": [],
   "source": [
    "URL= []\n",
    "start=0\n",
    "end=3\n",
    "\n",
    "for page in range(start,end):\n",
    "    url=driver.find_elements(By.XPATH,'//a[@class=\"IRpwTa\"]')\n",
    "    for i in url:\n",
    "        URL.append(i.get_attribute('href'))\n",
    "    next_button=driver.find_elements(By.XPATH,'/html/body/div/div/div[3]/div/div[2]/div[12]/div/div/nav')    "
   ]
  },
  {
   "cell_type": "code",
   "execution_count": 187,
   "id": "9a049464",
   "metadata": {},
   "outputs": [
    {
     "data": {
      "text/plain": [
       "114"
      ]
     },
     "execution_count": 187,
     "metadata": {},
     "output_type": "execute_result"
    }
   ],
   "source": [
    "len(URL)"
   ]
  },
  {
   "cell_type": "code",
   "execution_count": 188,
   "id": "29601e33",
   "metadata": {},
   "outputs": [
    {
     "data": {
      "text/plain": [
       "['https://www.flipkart.com/vincent-chase-lenskart-cat-eye-sunglasses/p/itmba54fc7e93beb?pid=SGLFZSPFKMA4HN5A&lid=LSTSGLFZSPFKMA4HN5AQZ1E6J&marketplace=FLIPKART&q=sunglasses&store=26x&srno=s_1_1&otracker=search&otracker1=search&fm=Search&iid=en_jbgSX3FR%2FgwD%2FSyW8T%2BDA5EgX35210ejSfPuIWnvgDT6txcT59OJQrLiaoIZItVbTvN4q0IsoL0SVrf6dAufww%3D%3D&ppt=sp&ppn=sp&ssid=ntytsc1yrk0000001686475006056&qH=2cc465e3eef5bff0',\n",
       " 'https://www.flipkart.com/vincent-chase-lenskart-clubmaster-sunglasses/p/itmff2248ea36e2e?pid=SGLG4XY53GBGNZGH&lid=LSTSGLG4XY53GBGNZGH3BI1UO&marketplace=FLIPKART&q=sunglasses&store=26x&srno=s_1_2&otracker=search&otracker1=search&fm=Search&iid=en_jbgSX3FR%2FgwD%2FSyW8T%2BDA5EgX35210ejSfPuIWnvgDQDjyAQ6MnLs5QK19UORDVOKYpndAXlx5yz1M7v6zh2ow%3D%3D&ppt=sp&ppn=sp&ssid=ntytsc1yrk0000001686475006056&qH=2cc465e3eef5bff0',\n",
       " 'https://www.flipkart.com/elligator-round-sunglasses/p/itmfhsbqywv36y54?pid=SGLFHRKF5GPR6ZBY&lid=LSTSGLFHRKF5GPR6ZBY1Z1BRU&marketplace=FLIPKART&q=sunglasses&store=26x&srno=s_1_3&otracker=search&otracker1=search&fm=Search&iid=3cae9721-6553-4988-9fa4-9350b26c36e6.SGLFHRKF5GPR6ZBY.SEARCH&ppt=sp&ppn=sp&ssid=ntytsc1yrk0000001686475006056&qH=2cc465e3eef5bff0',\n",
       " 'https://www.flipkart.com/bkge-retro-square-sunglasses/p/itm0581544ee32c4?pid=SGLFZEWEAWZGBFZU&lid=LSTSGLFZEWEAWZGBFZUBMQG4O&marketplace=FLIPKART&q=sunglasses&store=26x&srno=s_1_5&otracker=search&otracker1=search&fm=Search&iid=3cae9721-6553-4988-9fa4-9350b26c36e6.SGLFZEWEAWZGBFZU.SEARCH&ppt=sp&ppn=sp&ssid=ntytsc1yrk0000001686475006056&qH=2cc465e3eef5bff0',\n",
       " 'https://www.flipkart.com/icopertina-retro-square-sunglasses/p/itm90c6cb3734bc4?pid=SGLGZDVBRF8J7NKH&lid=LSTSGLGZDVBRF8J7NKHPO7BMO&marketplace=FLIPKART&q=sunglasses&store=26x&srno=s_1_6&otracker=search&otracker1=search&fm=Search&iid=3cae9721-6553-4988-9fa4-9350b26c36e6.SGLGZDVBRF8J7NKH.SEARCH&ppt=sp&ppn=sp&ssid=ntytsc1yrk0000001686475006056&qH=2cc465e3eef5bff0',\n",
       " 'https://www.flipkart.com/nuvew-wayfarer-sunglasses/p/itma8b9bdd1c17be?pid=SGLFPKXRSGVRBFRH&lid=LSTSGLFPKXRSGVRBFRHY6EOOD&marketplace=FLIPKART&q=sunglasses&store=26x&srno=s_1_7&otracker=search&otracker1=search&fm=Search&iid=3cae9721-6553-4988-9fa4-9350b26c36e6.SGLFPKXRSGVRBFRH.SEARCH&ppt=sp&ppn=sp&ssid=ntytsc1yrk0000001686475006056&qH=2cc465e3eef5bff0',\n",
       " 'https://www.flipkart.com/rich-club-rectangular-sunglasses/p/itma16c31d395d4d?pid=SGLGMFHCYYWJPAUS&lid=LSTSGLGMFHCYYWJPAUSKQQNLZ&marketplace=FLIPKART&q=sunglasses&store=26x&srno=s_1_9&otracker=search&otracker1=search&fm=Search&iid=3cae9721-6553-4988-9fa4-9350b26c36e6.SGLGMFHCYYWJPAUS.SEARCH&ppt=sp&ppn=sp&ssid=ntytsc1yrk0000001686475006056&qH=2cc465e3eef5bff0',\n",
       " 'https://www.flipkart.com/rich-club-retro-square-sunglasses/p/itm36b32b2852761?pid=SGLGDVVBXSTKDRUQ&lid=LSTSGLGDVVBXSTKDRUQ2DLC9T&marketplace=FLIPKART&q=sunglasses&store=26x&srno=s_1_10&otracker=search&otracker1=search&fm=Search&iid=3cae9721-6553-4988-9fa4-9350b26c36e6.SGLGDVVBXSTKDRUQ.SEARCH&ppt=sp&ppn=sp&ssid=ntytsc1yrk0000001686475006056&qH=2cc465e3eef5bff0',\n",
       " 'https://www.flipkart.com/rich-club-round-sunglasses/p/itm027470f537cc5?pid=SGLFF2YC9EPWGHQS&lid=LSTSGLFF2YC9EPWGHQSBIJO0K&marketplace=FLIPKART&q=sunglasses&store=26x&srno=s_1_11&otracker=search&otracker1=search&fm=Search&iid=3cae9721-6553-4988-9fa4-9350b26c36e6.SGLFF2YC9EPWGHQS.SEARCH&ppt=sp&ppn=sp&ssid=ntytsc1yrk0000001686475006056&qH=2cc465e3eef5bff0',\n",
       " 'https://www.flipkart.com/singco-india-rectangular-sunglasses/p/itm7967491f8c1c6?pid=SGLGN3GGGFJ66ZSW&lid=LSTSGLGN3GGGFJ66ZSWDIXLAE&marketplace=FLIPKART&q=sunglasses&store=26x&srno=s_1_12&otracker=search&otracker1=search&fm=Search&iid=en_jbgSX3FR%2FgwD%2FSyW8T%2BDA5EgX35210ejSfPuIWnvgDQ0Mfwtw7L71UYJKDnTn%2BriL1VGZPzMwn56g4KatTm59w%3D%3D&ppt=sp&ppn=sp&ssid=ntytsc1yrk0000001686475006056&qH=2cc465e3eef5bff0',\n",
       " 'https://www.flipkart.com/elligator-round-sunglasses/p/itmfgu57xzab7wag?pid=SGLFGTWZYB34UACM&lid=LSTSGLFGTWZYB34UACMJPZAHD&marketplace=FLIPKART&q=sunglasses&store=26x&srno=s_1_13&otracker=search&otracker1=search&fm=Search&iid=3cae9721-6553-4988-9fa4-9350b26c36e6.SGLFGTWZYB34UACM.SEARCH&ppt=sp&ppn=sp&ssid=ntytsc1yrk0000001686475006056&qH=2cc465e3eef5bff0',\n",
       " 'https://www.flipkart.com/srpm-wayfarer-sunglasses/p/itmf7dffafeb6b90?pid=SGLGM3HCWHWZUHVA&lid=LSTSGLGM3HCWHWZUHVAMYKW78&marketplace=FLIPKART&q=sunglasses&store=26x&srno=s_1_14&otracker=search&otracker1=search&fm=Search&iid=3cae9721-6553-4988-9fa4-9350b26c36e6.SGLGM3HCWHWZUHVA.SEARCH&ppt=sp&ppn=sp&ssid=ntytsc1yrk0000001686475006056&qH=2cc465e3eef5bff0',\n",
       " 'https://www.flipkart.com/rich-club-retro-square-sunglasses/p/itm3bf97b54b6bea?pid=SGLGHRHFFH2RGTTD&lid=LSTSGLGHRHFFH2RGTTDRN1IAW&marketplace=FLIPKART&q=sunglasses&store=26x&srno=s_1_15&otracker=search&otracker1=search&fm=Search&iid=3cae9721-6553-4988-9fa4-9350b26c36e6.SGLGHRHFFH2RGTTD.SEARCH&ppt=sp&ppn=sp&ssid=ntytsc1yrk0000001686475006056&qH=2cc465e3eef5bff0',\n",
       " 'https://www.flipkart.com/vincent-chase-round-sunglasses/p/itmbcd3fdb477cfd?pid=SGLG8D9ASG5VMKGY&lid=LSTSGLG8D9ASG5VMKGY43G08U&marketplace=FLIPKART&q=sunglasses&store=26x&srno=s_1_16&otracker=search&otracker1=search&fm=Search&iid=en_jbgSX3FR%2FgwD%2FSyW8T%2BDA5EgX35210ejSfPuIWnvgDTWh%2ByYMvNFKgrZ%2FkHLUdqU7%2BS9YVQvVxtNsLDay44Y3A%3D%3D&ppt=sp&ppn=sp&ssid=ntytsc1yrk0000001686475006056&qH=2cc465e3eef5bff0',\n",
       " 'https://www.flipkart.com/piraso-round-sunglasses/p/itm629f9f56db680?pid=SGLFQ77R5S6YH2HV&lid=LSTSGLFQ77R5S6YH2HVCMRW4Y&marketplace=FLIPKART&q=sunglasses&store=26x&srno=s_1_17&otracker=search&otracker1=search&fm=Search&iid=3cae9721-6553-4988-9fa4-9350b26c36e6.SGLFQ77R5S6YH2HV.SEARCH&ppt=sp&ppn=sp&ssid=ntytsc1yrk0000001686475006056&qH=2cc465e3eef5bff0',\n",
       " 'https://www.flipkart.com/sukart-wayfarer-sunglasses/p/itm4daa54100d254?pid=SGLGMHYF5PW4BYSK&lid=LSTSGLGMHYF5PW4BYSKH76YWY&marketplace=FLIPKART&q=sunglasses&store=26x&spotlightTagId=TrendingId_26x&srno=s_1_18&otracker=search&otracker1=search&fm=Search&iid=3cae9721-6553-4988-9fa4-9350b26c36e6.SGLGMHYF5PW4BYSK.SEARCH&ppt=sp&ppn=sp&ssid=ntytsc1yrk0000001686475006056&qH=2cc465e3eef5bff0',\n",
       " 'https://www.flipkart.com/elligator-cat-eye-retro-square-oval-round-sunglasses/p/itm66596f152a3af?pid=SGLGGV2EVRWE9H9J&lid=LSTSGLGGV2EVRWE9H9JPS3A7W&marketplace=FLIPKART&q=sunglasses&store=26x&spotlightTagId=BestsellerId_26x&srno=s_1_19&otracker=search&otracker1=search&fm=Search&iid=3cae9721-6553-4988-9fa4-9350b26c36e6.SGLGGV2EVRWE9H9J.SEARCH&ppt=sp&ppn=sp&ssid=ntytsc1yrk0000001686475006056&qH=2cc465e3eef5bff0',\n",
       " 'https://www.flipkart.com/royal-son-wayfarer-retro-square-sunglasses/p/itmd7ae2e889e7aa?pid=SGLG5NC2REZF2J2Z&lid=LSTSGLG5NC2REZF2J2ZA6NY7H&marketplace=FLIPKART&q=sunglasses&store=26x&srno=s_1_20&otracker=search&otracker1=search&fm=Search&iid=en_jbgSX3FR%2FgwD%2FSyW8T%2BDA5EgX35210ejSfPuIWnvgDTGKw7z9K%2BDb%2B5yQNqMQmwaNmmMPyDouroTzqdvgCH8Xw%3D%3D&ppt=sp&ppn=sp&ssid=ntytsc1yrk0000001686475006056&qH=2cc465e3eef5bff0',\n",
       " 'https://www.flipkart.com/elligator-cat-eye-retro-square-oval-round-sunglasses/p/itmc4ec56504c25d?pid=SGLGHBTW8H9SZFWE&lid=LSTSGLGHBTW8H9SZFWECL7RUU&marketplace=FLIPKART&q=sunglasses&store=26x&srno=s_1_21&otracker=search&otracker1=search&fm=Search&iid=3cae9721-6553-4988-9fa4-9350b26c36e6.SGLGHBTW8H9SZFWE.SEARCH&ppt=sp&ppn=sp&ssid=ntytsc1yrk0000001686475006056&qH=2cc465e3eef5bff0',\n",
       " 'https://www.flipkart.com/elligator-round-sunglasses/p/itm3c981fc444358?pid=SGLFPHP5BVBJTCDB&lid=LSTSGLFPHP5BVBJTCDB7P4T6G&marketplace=FLIPKART&q=sunglasses&store=26x&srno=s_1_22&otracker=search&otracker1=search&fm=Search&iid=3cae9721-6553-4988-9fa4-9350b26c36e6.SGLFPHP5BVBJTCDB.SEARCH&ppt=sp&ppn=sp&ssid=ntytsc1yrk0000001686475006056&qH=2cc465e3eef5bff0',\n",
       " 'https://www.flipkart.com/nuvew-aviator-sunglasses/p/itmf5zfcm3uzayat?pid=SGLF5ZDGMGAFDRHR&lid=LSTSGLF5ZDGMGAFDRHRGWJJJI&marketplace=FLIPKART&q=sunglasses&store=26x&srno=s_1_23&otracker=search&otracker1=search&fm=Search&iid=3cae9721-6553-4988-9fa4-9350b26c36e6.SGLF5ZDGMGAFDRHR.SEARCH&ppt=sp&ppn=sp&ssid=ntytsc1yrk0000001686475006056&qH=2cc465e3eef5bff0',\n",
       " 'https://www.flipkart.com/vincent-chase-lenskart-round-sunglasses/p/itm5d6f43f7e4294?pid=SGLGFYDTHZHG26ZV&lid=LSTSGLGFYDTHZHG26ZV0KFHMS&marketplace=FLIPKART&q=sunglasses&store=26x&srno=s_1_24&otracker=search&otracker1=search&fm=Search&iid=en_jbgSX3FR%2FgwD%2FSyW8T%2BDA5EgX35210ejSfPuIWnvgDQxh9J3bpp%2FU6ROlUG0S04C5AtL15TGNw5BGPaGLJ5CPg%3D%3D&ppt=sp&ppn=sp&ssid=ntytsc1yrk0000001686475006056&qH=2cc465e3eef5bff0',\n",
       " 'https://www.flipkart.com/elligator-wayfarer-sunglasses/p/itm5007cea5e2a48?pid=SGLGEFTJDVDTZZBY&lid=LSTSGLGEFTJDVDTZZBYY6ROKL&marketplace=FLIPKART&q=sunglasses&store=26x&srno=s_1_25&otracker=search&otracker1=search&fm=Search&iid=3cae9721-6553-4988-9fa4-9350b26c36e6.SGLGEFTJDVDTZZBY.SEARCH&ppt=sp&ppn=sp&ssid=ntytsc1yrk0000001686475006056&qH=2cc465e3eef5bff0',\n",
       " 'https://www.flipkart.com/piraso-aviator-sunglasses/p/itme10cb1c3329df?pid=SGLFZGE6GMSXZGRP&lid=LSTSGLFZGE6GMSXZGRPN2FYWJ&marketplace=FLIPKART&q=sunglasses&store=26x&srno=s_1_26&otracker=search&otracker1=search&fm=Search&iid=3cae9721-6553-4988-9fa4-9350b26c36e6.SGLFZGE6GMSXZGRP.SEARCH&ppt=sp&ppn=sp&ssid=ntytsc1yrk0000001686475006056&qH=2cc465e3eef5bff0',\n",
       " 'https://www.flipkart.com/srpm-wayfarer-sunglasses/p/itm72f1335147fe2?pid=SGLFGBCAWZHBUPCZ&lid=LSTSGLFGBCAWZHBUPCZTIHSGU&marketplace=FLIPKART&q=sunglasses&store=26x&srno=s_1_27&otracker=search&otracker1=search&fm=Search&iid=3cae9721-6553-4988-9fa4-9350b26c36e6.SGLFGBCAWZHBUPCZ.SEARCH&ppt=sp&ppn=sp&ssid=ntytsc1yrk0000001686475006056&qH=2cc465e3eef5bff0',\n",
       " 'https://www.flipkart.com/resist-eyewear-wayfarer-sunglasses/p/itmaf0ff6008ec9b?pid=SGLGBKPVUPYZRZCF&lid=LSTSGLGBKPVUPYZRZCF5EVKHE&marketplace=FLIPKART&q=sunglasses&store=26x&srno=s_1_28&otracker=search&otracker1=search&fm=Search&iid=en_jbgSX3FR%2FgwD%2FSyW8T%2BDA5EgX35210ejSfPuIWnvgDQgpPOQLV5xEAjZLAoLRaRAquyDOVCljxGbQcVQqfhcFg%3D%3D&ppt=sp&ppn=sp&ssid=ntytsc1yrk0000001686475006056&qH=2cc465e3eef5bff0',\n",
       " 'https://www.flipkart.com/liza-angel-clubmaster-spectacle-wrap-around-retro-square-sunglasses/p/itm12d34d6c1565b?pid=SGLGJJ8W5HXF2G7W&lid=LSTSGLGJJ8W5HXF2G7WPRZD1Z&marketplace=FLIPKART&q=sunglasses&store=26x&srno=s_1_29&otracker=search&otracker1=search&fm=Search&iid=3cae9721-6553-4988-9fa4-9350b26c36e6.SGLGJJ8W5HXF2G7W.SEARCH&ppt=sp&ppn=sp&ssid=ntytsc1yrk0000001686475006056&qH=2cc465e3eef5bff0',\n",
       " 'https://www.flipkart.com/srpm-wayfarer-sunglasses/p/itmaf19ae5820c06?pid=SGLFHQPHY2GZ4HFP&lid=LSTSGLFHQPHY2GZ4HFP0AZWKY&marketplace=FLIPKART&q=sunglasses&store=26x&spotlightTagId=BestsellerId_26x&srno=s_1_30&otracker=search&otracker1=search&fm=Search&iid=3cae9721-6553-4988-9fa4-9350b26c36e6.SGLFHQPHY2GZ4HFP.SEARCH&ppt=sp&ppn=sp&ssid=ntytsc1yrk0000001686475006056&qH=2cc465e3eef5bff0',\n",
       " 'https://www.flipkart.com/metronaut-uv-protection-sunglass/p/itm55a79fec3c250?pid=SGLGEERZCJKACGMA&lid=LSTSGLGEERZCJKACGMAJXCG9S&marketplace=FLIPKART&q=sunglasses&store=26x&srno=s_1_31&otracker=search&otracker1=search&fm=Search&iid=3cae9721-6553-4988-9fa4-9350b26c36e6.SGLGEERZCJKACGMA.SEARCH&ppt=sp&ppn=sp&ssid=ntytsc1yrk0000001686475006056&qH=2cc465e3eef5bff0',\n",
       " 'https://www.flipkart.com/vincent-chase-lenskart-wayfarer-sunglasses/p/itm98a773db44f91?pid=SGLG4XY5W5GXEMHY&lid=LSTSGLG4XY5W5GXEMHYFWBQAH&marketplace=FLIPKART&q=sunglasses&store=26x&srno=s_1_32&otracker=search&otracker1=search&fm=Search&iid=en_jbgSX3FR%2FgwD%2FSyW8T%2BDA5EgX35210ejSfPuIWnvgDQrtBGAQQsGt0mvu0Zy%2FmwSSquEyJH9FH796r1r%2FdjKSg%3D%3D&ppt=sp&ppn=sp&ssid=ntytsc1yrk0000001686475006056&qH=2cc465e3eef5bff0',\n",
       " 'https://www.flipkart.com/sunbee-retro-square-sunglasses/p/itmb89a15e6ca52a?pid=SGLG3HZUQWBQTKMZ&lid=LSTSGLG3HZUQWBQTKMZIWGU63&marketplace=FLIPKART&q=sunglasses&store=26x&srno=s_1_33&otracker=search&otracker1=search&fm=Search&iid=3cae9721-6553-4988-9fa4-9350b26c36e6.SGLG3HZUQWBQTKMZ.SEARCH&ppt=sp&ppn=sp&ssid=ntytsc1yrk0000001686475006056&qH=2cc465e3eef5bff0',\n",
       " 'https://www.flipkart.com/silver-kartz-wayfarer-sunglasses/p/itmf3ykz37jypbdd?pid=SGLEXSP4CY6G2ZTY&lid=LSTSGLEXSP4CY6G2ZTYGHVAAN&marketplace=FLIPKART&q=sunglasses&store=26x&srno=s_1_34&otracker=search&otracker1=search&fm=Search&iid=3cae9721-6553-4988-9fa4-9350b26c36e6.SGLEXSP4CY6G2ZTY.SEARCH&ppt=sp&ppn=sp&ssid=ntytsc1yrk0000001686475006056&qH=2cc465e3eef5bff0',\n",
       " 'https://www.flipkart.com/kingsunglasses-rectangular-sunglasses/p/itm36dfcfe5b2f10?pid=SGLGHWSSZGEJY4WH&lid=LSTSGLGHWSSZGEJY4WHFG4B8K&marketplace=FLIPKART&q=sunglasses&store=26x&srno=s_1_35&otracker=search&otracker1=search&fm=Search&iid=3cae9721-6553-4988-9fa4-9350b26c36e6.SGLGHWSSZGEJY4WH.SEARCH&ppt=sp&ppn=sp&ssid=ntytsc1yrk0000001686475006056&qH=2cc465e3eef5bff0',\n",
       " 'https://www.flipkart.com/rich-club-retro-square-sunglasses/p/itm8e0c711c28de3?pid=SGLGMYDATMC26MMD&lid=LSTSGLGMYDATMC26MMDQ0SPBV&marketplace=FLIPKART&q=sunglasses&store=26x&srno=s_1_36&otracker=search&otracker1=search&fm=Search&iid=en_jbgSX3FR%2FgwD%2FSyW8T%2BDA5EgX35210ejSfPuIWnvgDRZnrx8LAJJbAaFv97Cpk54O8K7SWFnOdgkAF%2FXiTwU7w%3D%3D&ppt=sp&ppn=sp&ssid=ntytsc1yrk0000001686475006056&qH=2cc465e3eef5bff0',\n",
       " 'https://www.flipkart.com/sukart-wayfarer-spectacle-over-sized-retro-square-sunglasses/p/itmef6ec7c3b4d33?pid=SGLGMVJKFCQKBBYH&lid=LSTSGLGMVJKFCQKBBYHK2CPEE&marketplace=FLIPKART&q=sunglasses&store=26x&srno=s_1_37&otracker=search&otracker1=search&fm=Search&iid=3cae9721-6553-4988-9fa4-9350b26c36e6.SGLGMVJKFCQKBBYH.SEARCH&ppt=sp&ppn=sp&ssid=ntytsc1yrk0000001686475006056&qH=2cc465e3eef5bff0',\n",
       " 'https://www.flipkart.com/nuvew-sports-sunglasses/p/itm25a14991e2d37?pid=SGLG4YGYEQKTKD8U&lid=LSTSGLG4YGYEQKTKD8UPDIJCX&marketplace=FLIPKART&q=sunglasses&store=26x&srno=s_1_38&otracker=search&otracker1=search&fm=Search&iid=3cae9721-6553-4988-9fa4-9350b26c36e6.SGLG4YGYEQKTKD8U.SEARCH&ppt=sp&ppn=sp&ssid=ntytsc1yrk0000001686475006056&qH=2cc465e3eef5bff0',\n",
       " 'https://www.flipkart.com/nuvew-aviator-sunglasses/p/itmf9qm5fec5xdwv?pid=SGLF9QJ4UVX8U9GD&lid=LSTSGLF9QJ4UVX8U9GDHH9MPT&marketplace=FLIPKART&q=sunglasses&store=26x&srno=s_1_39&otracker=search&otracker1=search&fm=Search&iid=3cae9721-6553-4988-9fa4-9350b26c36e6.SGLF9QJ4UVX8U9GD.SEARCH&ppt=sp&ppn=sp&ssid=ntytsc1yrk0000001686475006056&qH=2cc465e3eef5bff0',\n",
       " 'https://www.flipkart.com/vincent-chase-round-sunglasses/p/itm660d3371266b4?pid=SGLG8D97VVNMB4HK&lid=LSTSGLG8D97VVNMB4HKPEULBS&marketplace=FLIPKART&q=sunglasses&store=26x&srno=s_1_40&otracker=search&otracker1=search&fm=Search&iid=en_jbgSX3FR%2FgwD%2FSyW8T%2BDA5EgX35210ejSfPuIWnvgDRw2NWtlz4ajumM%2FB95N%2FSkfRy66uQo8uKn9n7jJKHosQ%3D%3D&ppt=sp&ppn=sp&ssid=ntytsc1yrk0000001686475006056&qH=2cc465e3eef5bff0',\n",
       " 'https://www.flipkart.com/vincent-chase-lenskart-cat-eye-sunglasses/p/itmba54fc7e93beb?pid=SGLFZSPFKMA4HN5A&lid=LSTSGLFZSPFKMA4HN5AQZ1E6J&marketplace=FLIPKART&q=sunglasses&store=26x&srno=s_1_1&otracker=search&otracker1=search&fm=Search&iid=en_jbgSX3FR%2FgwD%2FSyW8T%2BDA5EgX35210ejSfPuIWnvgDT6txcT59OJQrLiaoIZItVbTvN4q0IsoL0SVrf6dAufww%3D%3D&ppt=sp&ppn=sp&ssid=ntytsc1yrk0000001686475006056&qH=2cc465e3eef5bff0',\n",
       " 'https://www.flipkart.com/vincent-chase-lenskart-clubmaster-sunglasses/p/itmff2248ea36e2e?pid=SGLG4XY53GBGNZGH&lid=LSTSGLG4XY53GBGNZGH3BI1UO&marketplace=FLIPKART&q=sunglasses&store=26x&srno=s_1_2&otracker=search&otracker1=search&fm=Search&iid=en_jbgSX3FR%2FgwD%2FSyW8T%2BDA5EgX35210ejSfPuIWnvgDQDjyAQ6MnLs5QK19UORDVOKYpndAXlx5yz1M7v6zh2ow%3D%3D&ppt=sp&ppn=sp&ssid=ntytsc1yrk0000001686475006056&qH=2cc465e3eef5bff0',\n",
       " 'https://www.flipkart.com/elligator-round-sunglasses/p/itmfhsbqywv36y54?pid=SGLFHRKF5GPR6ZBY&lid=LSTSGLFHRKF5GPR6ZBY1Z1BRU&marketplace=FLIPKART&q=sunglasses&store=26x&srno=s_1_3&otracker=search&otracker1=search&fm=Search&iid=3cae9721-6553-4988-9fa4-9350b26c36e6.SGLFHRKF5GPR6ZBY.SEARCH&ppt=sp&ppn=sp&ssid=ntytsc1yrk0000001686475006056&qH=2cc465e3eef5bff0',\n",
       " 'https://www.flipkart.com/bkge-retro-square-sunglasses/p/itm0581544ee32c4?pid=SGLFZEWEAWZGBFZU&lid=LSTSGLFZEWEAWZGBFZUBMQG4O&marketplace=FLIPKART&q=sunglasses&store=26x&srno=s_1_5&otracker=search&otracker1=search&fm=Search&iid=3cae9721-6553-4988-9fa4-9350b26c36e6.SGLFZEWEAWZGBFZU.SEARCH&ppt=sp&ppn=sp&ssid=ntytsc1yrk0000001686475006056&qH=2cc465e3eef5bff0',\n",
       " 'https://www.flipkart.com/icopertina-retro-square-sunglasses/p/itm90c6cb3734bc4?pid=SGLGZDVBRF8J7NKH&lid=LSTSGLGZDVBRF8J7NKHPO7BMO&marketplace=FLIPKART&q=sunglasses&store=26x&srno=s_1_6&otracker=search&otracker1=search&fm=Search&iid=3cae9721-6553-4988-9fa4-9350b26c36e6.SGLGZDVBRF8J7NKH.SEARCH&ppt=sp&ppn=sp&ssid=ntytsc1yrk0000001686475006056&qH=2cc465e3eef5bff0',\n",
       " 'https://www.flipkart.com/nuvew-wayfarer-sunglasses/p/itma8b9bdd1c17be?pid=SGLFPKXRSGVRBFRH&lid=LSTSGLFPKXRSGVRBFRHY6EOOD&marketplace=FLIPKART&q=sunglasses&store=26x&srno=s_1_7&otracker=search&otracker1=search&fm=Search&iid=3cae9721-6553-4988-9fa4-9350b26c36e6.SGLFPKXRSGVRBFRH.SEARCH&ppt=sp&ppn=sp&ssid=ntytsc1yrk0000001686475006056&qH=2cc465e3eef5bff0',\n",
       " 'https://www.flipkart.com/rich-club-rectangular-sunglasses/p/itma16c31d395d4d?pid=SGLGMFHCYYWJPAUS&lid=LSTSGLGMFHCYYWJPAUSKQQNLZ&marketplace=FLIPKART&q=sunglasses&store=26x&srno=s_1_9&otracker=search&otracker1=search&fm=Search&iid=3cae9721-6553-4988-9fa4-9350b26c36e6.SGLGMFHCYYWJPAUS.SEARCH&ppt=sp&ppn=sp&ssid=ntytsc1yrk0000001686475006056&qH=2cc465e3eef5bff0',\n",
       " 'https://www.flipkart.com/rich-club-retro-square-sunglasses/p/itm36b32b2852761?pid=SGLGDVVBXSTKDRUQ&lid=LSTSGLGDVVBXSTKDRUQ2DLC9T&marketplace=FLIPKART&q=sunglasses&store=26x&srno=s_1_10&otracker=search&otracker1=search&fm=Search&iid=3cae9721-6553-4988-9fa4-9350b26c36e6.SGLGDVVBXSTKDRUQ.SEARCH&ppt=sp&ppn=sp&ssid=ntytsc1yrk0000001686475006056&qH=2cc465e3eef5bff0',\n",
       " 'https://www.flipkart.com/rich-club-round-sunglasses/p/itm027470f537cc5?pid=SGLFF2YC9EPWGHQS&lid=LSTSGLFF2YC9EPWGHQSBIJO0K&marketplace=FLIPKART&q=sunglasses&store=26x&srno=s_1_11&otracker=search&otracker1=search&fm=Search&iid=3cae9721-6553-4988-9fa4-9350b26c36e6.SGLFF2YC9EPWGHQS.SEARCH&ppt=sp&ppn=sp&ssid=ntytsc1yrk0000001686475006056&qH=2cc465e3eef5bff0',\n",
       " 'https://www.flipkart.com/singco-india-rectangular-sunglasses/p/itm7967491f8c1c6?pid=SGLGN3GGGFJ66ZSW&lid=LSTSGLGN3GGGFJ66ZSWDIXLAE&marketplace=FLIPKART&q=sunglasses&store=26x&srno=s_1_12&otracker=search&otracker1=search&fm=Search&iid=en_jbgSX3FR%2FgwD%2FSyW8T%2BDA5EgX35210ejSfPuIWnvgDQ0Mfwtw7L71UYJKDnTn%2BriL1VGZPzMwn56g4KatTm59w%3D%3D&ppt=sp&ppn=sp&ssid=ntytsc1yrk0000001686475006056&qH=2cc465e3eef5bff0',\n",
       " 'https://www.flipkart.com/elligator-round-sunglasses/p/itmfgu57xzab7wag?pid=SGLFGTWZYB34UACM&lid=LSTSGLFGTWZYB34UACMJPZAHD&marketplace=FLIPKART&q=sunglasses&store=26x&srno=s_1_13&otracker=search&otracker1=search&fm=Search&iid=3cae9721-6553-4988-9fa4-9350b26c36e6.SGLFGTWZYB34UACM.SEARCH&ppt=sp&ppn=sp&ssid=ntytsc1yrk0000001686475006056&qH=2cc465e3eef5bff0',\n",
       " 'https://www.flipkart.com/srpm-wayfarer-sunglasses/p/itmf7dffafeb6b90?pid=SGLGM3HCWHWZUHVA&lid=LSTSGLGM3HCWHWZUHVAMYKW78&marketplace=FLIPKART&q=sunglasses&store=26x&srno=s_1_14&otracker=search&otracker1=search&fm=Search&iid=3cae9721-6553-4988-9fa4-9350b26c36e6.SGLGM3HCWHWZUHVA.SEARCH&ppt=sp&ppn=sp&ssid=ntytsc1yrk0000001686475006056&qH=2cc465e3eef5bff0',\n",
       " 'https://www.flipkart.com/rich-club-retro-square-sunglasses/p/itm3bf97b54b6bea?pid=SGLGHRHFFH2RGTTD&lid=LSTSGLGHRHFFH2RGTTDRN1IAW&marketplace=FLIPKART&q=sunglasses&store=26x&srno=s_1_15&otracker=search&otracker1=search&fm=Search&iid=3cae9721-6553-4988-9fa4-9350b26c36e6.SGLGHRHFFH2RGTTD.SEARCH&ppt=sp&ppn=sp&ssid=ntytsc1yrk0000001686475006056&qH=2cc465e3eef5bff0',\n",
       " 'https://www.flipkart.com/vincent-chase-round-sunglasses/p/itmbcd3fdb477cfd?pid=SGLG8D9ASG5VMKGY&lid=LSTSGLG8D9ASG5VMKGY43G08U&marketplace=FLIPKART&q=sunglasses&store=26x&srno=s_1_16&otracker=search&otracker1=search&fm=Search&iid=en_jbgSX3FR%2FgwD%2FSyW8T%2BDA5EgX35210ejSfPuIWnvgDTWh%2ByYMvNFKgrZ%2FkHLUdqU7%2BS9YVQvVxtNsLDay44Y3A%3D%3D&ppt=sp&ppn=sp&ssid=ntytsc1yrk0000001686475006056&qH=2cc465e3eef5bff0',\n",
       " 'https://www.flipkart.com/piraso-round-sunglasses/p/itm629f9f56db680?pid=SGLFQ77R5S6YH2HV&lid=LSTSGLFQ77R5S6YH2HVCMRW4Y&marketplace=FLIPKART&q=sunglasses&store=26x&srno=s_1_17&otracker=search&otracker1=search&fm=Search&iid=3cae9721-6553-4988-9fa4-9350b26c36e6.SGLFQ77R5S6YH2HV.SEARCH&ppt=sp&ppn=sp&ssid=ntytsc1yrk0000001686475006056&qH=2cc465e3eef5bff0',\n",
       " 'https://www.flipkart.com/sukart-wayfarer-sunglasses/p/itm4daa54100d254?pid=SGLGMHYF5PW4BYSK&lid=LSTSGLGMHYF5PW4BYSKH76YWY&marketplace=FLIPKART&q=sunglasses&store=26x&spotlightTagId=TrendingId_26x&srno=s_1_18&otracker=search&otracker1=search&fm=Search&iid=3cae9721-6553-4988-9fa4-9350b26c36e6.SGLGMHYF5PW4BYSK.SEARCH&ppt=sp&ppn=sp&ssid=ntytsc1yrk0000001686475006056&qH=2cc465e3eef5bff0',\n",
       " 'https://www.flipkart.com/elligator-cat-eye-retro-square-oval-round-sunglasses/p/itm66596f152a3af?pid=SGLGGV2EVRWE9H9J&lid=LSTSGLGGV2EVRWE9H9JPS3A7W&marketplace=FLIPKART&q=sunglasses&store=26x&spotlightTagId=BestsellerId_26x&srno=s_1_19&otracker=search&otracker1=search&fm=Search&iid=3cae9721-6553-4988-9fa4-9350b26c36e6.SGLGGV2EVRWE9H9J.SEARCH&ppt=sp&ppn=sp&ssid=ntytsc1yrk0000001686475006056&qH=2cc465e3eef5bff0',\n",
       " 'https://www.flipkart.com/royal-son-wayfarer-retro-square-sunglasses/p/itmd7ae2e889e7aa?pid=SGLG5NC2REZF2J2Z&lid=LSTSGLG5NC2REZF2J2ZA6NY7H&marketplace=FLIPKART&q=sunglasses&store=26x&srno=s_1_20&otracker=search&otracker1=search&fm=Search&iid=en_jbgSX3FR%2FgwD%2FSyW8T%2BDA5EgX35210ejSfPuIWnvgDTGKw7z9K%2BDb%2B5yQNqMQmwaNmmMPyDouroTzqdvgCH8Xw%3D%3D&ppt=sp&ppn=sp&ssid=ntytsc1yrk0000001686475006056&qH=2cc465e3eef5bff0',\n",
       " 'https://www.flipkart.com/elligator-cat-eye-retro-square-oval-round-sunglasses/p/itmc4ec56504c25d?pid=SGLGHBTW8H9SZFWE&lid=LSTSGLGHBTW8H9SZFWECL7RUU&marketplace=FLIPKART&q=sunglasses&store=26x&srno=s_1_21&otracker=search&otracker1=search&fm=Search&iid=3cae9721-6553-4988-9fa4-9350b26c36e6.SGLGHBTW8H9SZFWE.SEARCH&ppt=sp&ppn=sp&ssid=ntytsc1yrk0000001686475006056&qH=2cc465e3eef5bff0',\n",
       " 'https://www.flipkart.com/elligator-round-sunglasses/p/itm3c981fc444358?pid=SGLFPHP5BVBJTCDB&lid=LSTSGLFPHP5BVBJTCDB7P4T6G&marketplace=FLIPKART&q=sunglasses&store=26x&srno=s_1_22&otracker=search&otracker1=search&fm=Search&iid=3cae9721-6553-4988-9fa4-9350b26c36e6.SGLFPHP5BVBJTCDB.SEARCH&ppt=sp&ppn=sp&ssid=ntytsc1yrk0000001686475006056&qH=2cc465e3eef5bff0',\n",
       " 'https://www.flipkart.com/nuvew-aviator-sunglasses/p/itmf5zfcm3uzayat?pid=SGLF5ZDGMGAFDRHR&lid=LSTSGLF5ZDGMGAFDRHRGWJJJI&marketplace=FLIPKART&q=sunglasses&store=26x&srno=s_1_23&otracker=search&otracker1=search&fm=Search&iid=3cae9721-6553-4988-9fa4-9350b26c36e6.SGLF5ZDGMGAFDRHR.SEARCH&ppt=sp&ppn=sp&ssid=ntytsc1yrk0000001686475006056&qH=2cc465e3eef5bff0',\n",
       " 'https://www.flipkart.com/vincent-chase-lenskart-round-sunglasses/p/itm5d6f43f7e4294?pid=SGLGFYDTHZHG26ZV&lid=LSTSGLGFYDTHZHG26ZV0KFHMS&marketplace=FLIPKART&q=sunglasses&store=26x&srno=s_1_24&otracker=search&otracker1=search&fm=Search&iid=en_jbgSX3FR%2FgwD%2FSyW8T%2BDA5EgX35210ejSfPuIWnvgDQxh9J3bpp%2FU6ROlUG0S04C5AtL15TGNw5BGPaGLJ5CPg%3D%3D&ppt=sp&ppn=sp&ssid=ntytsc1yrk0000001686475006056&qH=2cc465e3eef5bff0',\n",
       " 'https://www.flipkart.com/elligator-wayfarer-sunglasses/p/itm5007cea5e2a48?pid=SGLGEFTJDVDTZZBY&lid=LSTSGLGEFTJDVDTZZBYY6ROKL&marketplace=FLIPKART&q=sunglasses&store=26x&srno=s_1_25&otracker=search&otracker1=search&fm=Search&iid=3cae9721-6553-4988-9fa4-9350b26c36e6.SGLGEFTJDVDTZZBY.SEARCH&ppt=sp&ppn=sp&ssid=ntytsc1yrk0000001686475006056&qH=2cc465e3eef5bff0',\n",
       " 'https://www.flipkart.com/piraso-aviator-sunglasses/p/itme10cb1c3329df?pid=SGLFZGE6GMSXZGRP&lid=LSTSGLFZGE6GMSXZGRPN2FYWJ&marketplace=FLIPKART&q=sunglasses&store=26x&srno=s_1_26&otracker=search&otracker1=search&fm=Search&iid=3cae9721-6553-4988-9fa4-9350b26c36e6.SGLFZGE6GMSXZGRP.SEARCH&ppt=sp&ppn=sp&ssid=ntytsc1yrk0000001686475006056&qH=2cc465e3eef5bff0',\n",
       " 'https://www.flipkart.com/srpm-wayfarer-sunglasses/p/itm72f1335147fe2?pid=SGLFGBCAWZHBUPCZ&lid=LSTSGLFGBCAWZHBUPCZTIHSGU&marketplace=FLIPKART&q=sunglasses&store=26x&srno=s_1_27&otracker=search&otracker1=search&fm=Search&iid=3cae9721-6553-4988-9fa4-9350b26c36e6.SGLFGBCAWZHBUPCZ.SEARCH&ppt=sp&ppn=sp&ssid=ntytsc1yrk0000001686475006056&qH=2cc465e3eef5bff0',\n",
       " 'https://www.flipkart.com/resist-eyewear-wayfarer-sunglasses/p/itmaf0ff6008ec9b?pid=SGLGBKPVUPYZRZCF&lid=LSTSGLGBKPVUPYZRZCF5EVKHE&marketplace=FLIPKART&q=sunglasses&store=26x&srno=s_1_28&otracker=search&otracker1=search&fm=Search&iid=en_jbgSX3FR%2FgwD%2FSyW8T%2BDA5EgX35210ejSfPuIWnvgDQgpPOQLV5xEAjZLAoLRaRAquyDOVCljxGbQcVQqfhcFg%3D%3D&ppt=sp&ppn=sp&ssid=ntytsc1yrk0000001686475006056&qH=2cc465e3eef5bff0',\n",
       " 'https://www.flipkart.com/liza-angel-clubmaster-spectacle-wrap-around-retro-square-sunglasses/p/itm12d34d6c1565b?pid=SGLGJJ8W5HXF2G7W&lid=LSTSGLGJJ8W5HXF2G7WPRZD1Z&marketplace=FLIPKART&q=sunglasses&store=26x&srno=s_1_29&otracker=search&otracker1=search&fm=Search&iid=3cae9721-6553-4988-9fa4-9350b26c36e6.SGLGJJ8W5HXF2G7W.SEARCH&ppt=sp&ppn=sp&ssid=ntytsc1yrk0000001686475006056&qH=2cc465e3eef5bff0',\n",
       " 'https://www.flipkart.com/srpm-wayfarer-sunglasses/p/itmaf19ae5820c06?pid=SGLFHQPHY2GZ4HFP&lid=LSTSGLFHQPHY2GZ4HFP0AZWKY&marketplace=FLIPKART&q=sunglasses&store=26x&spotlightTagId=BestsellerId_26x&srno=s_1_30&otracker=search&otracker1=search&fm=Search&iid=3cae9721-6553-4988-9fa4-9350b26c36e6.SGLFHQPHY2GZ4HFP.SEARCH&ppt=sp&ppn=sp&ssid=ntytsc1yrk0000001686475006056&qH=2cc465e3eef5bff0',\n",
       " 'https://www.flipkart.com/metronaut-uv-protection-sunglass/p/itm55a79fec3c250?pid=SGLGEERZCJKACGMA&lid=LSTSGLGEERZCJKACGMAJXCG9S&marketplace=FLIPKART&q=sunglasses&store=26x&srno=s_1_31&otracker=search&otracker1=search&fm=Search&iid=3cae9721-6553-4988-9fa4-9350b26c36e6.SGLGEERZCJKACGMA.SEARCH&ppt=sp&ppn=sp&ssid=ntytsc1yrk0000001686475006056&qH=2cc465e3eef5bff0',\n",
       " 'https://www.flipkart.com/vincent-chase-lenskart-wayfarer-sunglasses/p/itm98a773db44f91?pid=SGLG4XY5W5GXEMHY&lid=LSTSGLG4XY5W5GXEMHYFWBQAH&marketplace=FLIPKART&q=sunglasses&store=26x&srno=s_1_32&otracker=search&otracker1=search&fm=Search&iid=en_jbgSX3FR%2FgwD%2FSyW8T%2BDA5EgX35210ejSfPuIWnvgDQrtBGAQQsGt0mvu0Zy%2FmwSSquEyJH9FH796r1r%2FdjKSg%3D%3D&ppt=sp&ppn=sp&ssid=ntytsc1yrk0000001686475006056&qH=2cc465e3eef5bff0',\n",
       " 'https://www.flipkart.com/sunbee-retro-square-sunglasses/p/itmb89a15e6ca52a?pid=SGLG3HZUQWBQTKMZ&lid=LSTSGLG3HZUQWBQTKMZIWGU63&marketplace=FLIPKART&q=sunglasses&store=26x&srno=s_1_33&otracker=search&otracker1=search&fm=Search&iid=3cae9721-6553-4988-9fa4-9350b26c36e6.SGLG3HZUQWBQTKMZ.SEARCH&ppt=sp&ppn=sp&ssid=ntytsc1yrk0000001686475006056&qH=2cc465e3eef5bff0',\n",
       " 'https://www.flipkart.com/silver-kartz-wayfarer-sunglasses/p/itmf3ykz37jypbdd?pid=SGLEXSP4CY6G2ZTY&lid=LSTSGLEXSP4CY6G2ZTYGHVAAN&marketplace=FLIPKART&q=sunglasses&store=26x&srno=s_1_34&otracker=search&otracker1=search&fm=Search&iid=3cae9721-6553-4988-9fa4-9350b26c36e6.SGLEXSP4CY6G2ZTY.SEARCH&ppt=sp&ppn=sp&ssid=ntytsc1yrk0000001686475006056&qH=2cc465e3eef5bff0',\n",
       " 'https://www.flipkart.com/kingsunglasses-rectangular-sunglasses/p/itm36dfcfe5b2f10?pid=SGLGHWSSZGEJY4WH&lid=LSTSGLGHWSSZGEJY4WHFG4B8K&marketplace=FLIPKART&q=sunglasses&store=26x&srno=s_1_35&otracker=search&otracker1=search&fm=Search&iid=3cae9721-6553-4988-9fa4-9350b26c36e6.SGLGHWSSZGEJY4WH.SEARCH&ppt=sp&ppn=sp&ssid=ntytsc1yrk0000001686475006056&qH=2cc465e3eef5bff0',\n",
       " 'https://www.flipkart.com/rich-club-retro-square-sunglasses/p/itm8e0c711c28de3?pid=SGLGMYDATMC26MMD&lid=LSTSGLGMYDATMC26MMDQ0SPBV&marketplace=FLIPKART&q=sunglasses&store=26x&srno=s_1_36&otracker=search&otracker1=search&fm=Search&iid=en_jbgSX3FR%2FgwD%2FSyW8T%2BDA5EgX35210ejSfPuIWnvgDRZnrx8LAJJbAaFv97Cpk54O8K7SWFnOdgkAF%2FXiTwU7w%3D%3D&ppt=sp&ppn=sp&ssid=ntytsc1yrk0000001686475006056&qH=2cc465e3eef5bff0',\n",
       " 'https://www.flipkart.com/sukart-wayfarer-spectacle-over-sized-retro-square-sunglasses/p/itmef6ec7c3b4d33?pid=SGLGMVJKFCQKBBYH&lid=LSTSGLGMVJKFCQKBBYHK2CPEE&marketplace=FLIPKART&q=sunglasses&store=26x&srno=s_1_37&otracker=search&otracker1=search&fm=Search&iid=3cae9721-6553-4988-9fa4-9350b26c36e6.SGLGMVJKFCQKBBYH.SEARCH&ppt=sp&ppn=sp&ssid=ntytsc1yrk0000001686475006056&qH=2cc465e3eef5bff0',\n",
       " 'https://www.flipkart.com/nuvew-sports-sunglasses/p/itm25a14991e2d37?pid=SGLG4YGYEQKTKD8U&lid=LSTSGLG4YGYEQKTKD8UPDIJCX&marketplace=FLIPKART&q=sunglasses&store=26x&srno=s_1_38&otracker=search&otracker1=search&fm=Search&iid=3cae9721-6553-4988-9fa4-9350b26c36e6.SGLG4YGYEQKTKD8U.SEARCH&ppt=sp&ppn=sp&ssid=ntytsc1yrk0000001686475006056&qH=2cc465e3eef5bff0',\n",
       " 'https://www.flipkart.com/nuvew-aviator-sunglasses/p/itmf9qm5fec5xdwv?pid=SGLF9QJ4UVX8U9GD&lid=LSTSGLF9QJ4UVX8U9GDHH9MPT&marketplace=FLIPKART&q=sunglasses&store=26x&srno=s_1_39&otracker=search&otracker1=search&fm=Search&iid=3cae9721-6553-4988-9fa4-9350b26c36e6.SGLF9QJ4UVX8U9GD.SEARCH&ppt=sp&ppn=sp&ssid=ntytsc1yrk0000001686475006056&qH=2cc465e3eef5bff0',\n",
       " 'https://www.flipkart.com/vincent-chase-round-sunglasses/p/itm660d3371266b4?pid=SGLG8D97VVNMB4HK&lid=LSTSGLG8D97VVNMB4HKPEULBS&marketplace=FLIPKART&q=sunglasses&store=26x&srno=s_1_40&otracker=search&otracker1=search&fm=Search&iid=en_jbgSX3FR%2FgwD%2FSyW8T%2BDA5EgX35210ejSfPuIWnvgDRw2NWtlz4ajumM%2FB95N%2FSkfRy66uQo8uKn9n7jJKHosQ%3D%3D&ppt=sp&ppn=sp&ssid=ntytsc1yrk0000001686475006056&qH=2cc465e3eef5bff0',\n",
       " 'https://www.flipkart.com/vincent-chase-lenskart-cat-eye-sunglasses/p/itmba54fc7e93beb?pid=SGLFZSPFKMA4HN5A&lid=LSTSGLFZSPFKMA4HN5AQZ1E6J&marketplace=FLIPKART&q=sunglasses&store=26x&srno=s_1_1&otracker=search&otracker1=search&fm=Search&iid=en_jbgSX3FR%2FgwD%2FSyW8T%2BDA5EgX35210ejSfPuIWnvgDT6txcT59OJQrLiaoIZItVbTvN4q0IsoL0SVrf6dAufww%3D%3D&ppt=sp&ppn=sp&ssid=ntytsc1yrk0000001686475006056&qH=2cc465e3eef5bff0',\n",
       " 'https://www.flipkart.com/vincent-chase-lenskart-clubmaster-sunglasses/p/itmff2248ea36e2e?pid=SGLG4XY53GBGNZGH&lid=LSTSGLG4XY53GBGNZGH3BI1UO&marketplace=FLIPKART&q=sunglasses&store=26x&srno=s_1_2&otracker=search&otracker1=search&fm=Search&iid=en_jbgSX3FR%2FgwD%2FSyW8T%2BDA5EgX35210ejSfPuIWnvgDQDjyAQ6MnLs5QK19UORDVOKYpndAXlx5yz1M7v6zh2ow%3D%3D&ppt=sp&ppn=sp&ssid=ntytsc1yrk0000001686475006056&qH=2cc465e3eef5bff0',\n",
       " 'https://www.flipkart.com/elligator-round-sunglasses/p/itmfhsbqywv36y54?pid=SGLFHRKF5GPR6ZBY&lid=LSTSGLFHRKF5GPR6ZBY1Z1BRU&marketplace=FLIPKART&q=sunglasses&store=26x&srno=s_1_3&otracker=search&otracker1=search&fm=Search&iid=3cae9721-6553-4988-9fa4-9350b26c36e6.SGLFHRKF5GPR6ZBY.SEARCH&ppt=sp&ppn=sp&ssid=ntytsc1yrk0000001686475006056&qH=2cc465e3eef5bff0',\n",
       " 'https://www.flipkart.com/bkge-retro-square-sunglasses/p/itm0581544ee32c4?pid=SGLFZEWEAWZGBFZU&lid=LSTSGLFZEWEAWZGBFZUBMQG4O&marketplace=FLIPKART&q=sunglasses&store=26x&srno=s_1_5&otracker=search&otracker1=search&fm=Search&iid=3cae9721-6553-4988-9fa4-9350b26c36e6.SGLFZEWEAWZGBFZU.SEARCH&ppt=sp&ppn=sp&ssid=ntytsc1yrk0000001686475006056&qH=2cc465e3eef5bff0',\n",
       " 'https://www.flipkart.com/icopertina-retro-square-sunglasses/p/itm90c6cb3734bc4?pid=SGLGZDVBRF8J7NKH&lid=LSTSGLGZDVBRF8J7NKHPO7BMO&marketplace=FLIPKART&q=sunglasses&store=26x&srno=s_1_6&otracker=search&otracker1=search&fm=Search&iid=3cae9721-6553-4988-9fa4-9350b26c36e6.SGLGZDVBRF8J7NKH.SEARCH&ppt=sp&ppn=sp&ssid=ntytsc1yrk0000001686475006056&qH=2cc465e3eef5bff0',\n",
       " 'https://www.flipkart.com/nuvew-wayfarer-sunglasses/p/itma8b9bdd1c17be?pid=SGLFPKXRSGVRBFRH&lid=LSTSGLFPKXRSGVRBFRHY6EOOD&marketplace=FLIPKART&q=sunglasses&store=26x&srno=s_1_7&otracker=search&otracker1=search&fm=Search&iid=3cae9721-6553-4988-9fa4-9350b26c36e6.SGLFPKXRSGVRBFRH.SEARCH&ppt=sp&ppn=sp&ssid=ntytsc1yrk0000001686475006056&qH=2cc465e3eef5bff0',\n",
       " 'https://www.flipkart.com/rich-club-rectangular-sunglasses/p/itma16c31d395d4d?pid=SGLGMFHCYYWJPAUS&lid=LSTSGLGMFHCYYWJPAUSKQQNLZ&marketplace=FLIPKART&q=sunglasses&store=26x&srno=s_1_9&otracker=search&otracker1=search&fm=Search&iid=3cae9721-6553-4988-9fa4-9350b26c36e6.SGLGMFHCYYWJPAUS.SEARCH&ppt=sp&ppn=sp&ssid=ntytsc1yrk0000001686475006056&qH=2cc465e3eef5bff0',\n",
       " 'https://www.flipkart.com/rich-club-retro-square-sunglasses/p/itm36b32b2852761?pid=SGLGDVVBXSTKDRUQ&lid=LSTSGLGDVVBXSTKDRUQ2DLC9T&marketplace=FLIPKART&q=sunglasses&store=26x&srno=s_1_10&otracker=search&otracker1=search&fm=Search&iid=3cae9721-6553-4988-9fa4-9350b26c36e6.SGLGDVVBXSTKDRUQ.SEARCH&ppt=sp&ppn=sp&ssid=ntytsc1yrk0000001686475006056&qH=2cc465e3eef5bff0',\n",
       " 'https://www.flipkart.com/rich-club-round-sunglasses/p/itm027470f537cc5?pid=SGLFF2YC9EPWGHQS&lid=LSTSGLFF2YC9EPWGHQSBIJO0K&marketplace=FLIPKART&q=sunglasses&store=26x&srno=s_1_11&otracker=search&otracker1=search&fm=Search&iid=3cae9721-6553-4988-9fa4-9350b26c36e6.SGLFF2YC9EPWGHQS.SEARCH&ppt=sp&ppn=sp&ssid=ntytsc1yrk0000001686475006056&qH=2cc465e3eef5bff0',\n",
       " 'https://www.flipkart.com/singco-india-rectangular-sunglasses/p/itm7967491f8c1c6?pid=SGLGN3GGGFJ66ZSW&lid=LSTSGLGN3GGGFJ66ZSWDIXLAE&marketplace=FLIPKART&q=sunglasses&store=26x&srno=s_1_12&otracker=search&otracker1=search&fm=Search&iid=en_jbgSX3FR%2FgwD%2FSyW8T%2BDA5EgX35210ejSfPuIWnvgDQ0Mfwtw7L71UYJKDnTn%2BriL1VGZPzMwn56g4KatTm59w%3D%3D&ppt=sp&ppn=sp&ssid=ntytsc1yrk0000001686475006056&qH=2cc465e3eef5bff0',\n",
       " 'https://www.flipkart.com/elligator-round-sunglasses/p/itmfgu57xzab7wag?pid=SGLFGTWZYB34UACM&lid=LSTSGLFGTWZYB34UACMJPZAHD&marketplace=FLIPKART&q=sunglasses&store=26x&srno=s_1_13&otracker=search&otracker1=search&fm=Search&iid=3cae9721-6553-4988-9fa4-9350b26c36e6.SGLFGTWZYB34UACM.SEARCH&ppt=sp&ppn=sp&ssid=ntytsc1yrk0000001686475006056&qH=2cc465e3eef5bff0',\n",
       " 'https://www.flipkart.com/srpm-wayfarer-sunglasses/p/itmf7dffafeb6b90?pid=SGLGM3HCWHWZUHVA&lid=LSTSGLGM3HCWHWZUHVAMYKW78&marketplace=FLIPKART&q=sunglasses&store=26x&srno=s_1_14&otracker=search&otracker1=search&fm=Search&iid=3cae9721-6553-4988-9fa4-9350b26c36e6.SGLGM3HCWHWZUHVA.SEARCH&ppt=sp&ppn=sp&ssid=ntytsc1yrk0000001686475006056&qH=2cc465e3eef5bff0',\n",
       " 'https://www.flipkart.com/rich-club-retro-square-sunglasses/p/itm3bf97b54b6bea?pid=SGLGHRHFFH2RGTTD&lid=LSTSGLGHRHFFH2RGTTDRN1IAW&marketplace=FLIPKART&q=sunglasses&store=26x&srno=s_1_15&otracker=search&otracker1=search&fm=Search&iid=3cae9721-6553-4988-9fa4-9350b26c36e6.SGLGHRHFFH2RGTTD.SEARCH&ppt=sp&ppn=sp&ssid=ntytsc1yrk0000001686475006056&qH=2cc465e3eef5bff0',\n",
       " 'https://www.flipkart.com/vincent-chase-round-sunglasses/p/itmbcd3fdb477cfd?pid=SGLG8D9ASG5VMKGY&lid=LSTSGLG8D9ASG5VMKGY43G08U&marketplace=FLIPKART&q=sunglasses&store=26x&srno=s_1_16&otracker=search&otracker1=search&fm=Search&iid=en_jbgSX3FR%2FgwD%2FSyW8T%2BDA5EgX35210ejSfPuIWnvgDTWh%2ByYMvNFKgrZ%2FkHLUdqU7%2BS9YVQvVxtNsLDay44Y3A%3D%3D&ppt=sp&ppn=sp&ssid=ntytsc1yrk0000001686475006056&qH=2cc465e3eef5bff0',\n",
       " 'https://www.flipkart.com/piraso-round-sunglasses/p/itm629f9f56db680?pid=SGLFQ77R5S6YH2HV&lid=LSTSGLFQ77R5S6YH2HVCMRW4Y&marketplace=FLIPKART&q=sunglasses&store=26x&srno=s_1_17&otracker=search&otracker1=search&fm=Search&iid=3cae9721-6553-4988-9fa4-9350b26c36e6.SGLFQ77R5S6YH2HV.SEARCH&ppt=sp&ppn=sp&ssid=ntytsc1yrk0000001686475006056&qH=2cc465e3eef5bff0',\n",
       " 'https://www.flipkart.com/sukart-wayfarer-sunglasses/p/itm4daa54100d254?pid=SGLGMHYF5PW4BYSK&lid=LSTSGLGMHYF5PW4BYSKH76YWY&marketplace=FLIPKART&q=sunglasses&store=26x&spotlightTagId=TrendingId_26x&srno=s_1_18&otracker=search&otracker1=search&fm=Search&iid=3cae9721-6553-4988-9fa4-9350b26c36e6.SGLGMHYF5PW4BYSK.SEARCH&ppt=sp&ppn=sp&ssid=ntytsc1yrk0000001686475006056&qH=2cc465e3eef5bff0',\n",
       " 'https://www.flipkart.com/elligator-cat-eye-retro-square-oval-round-sunglasses/p/itm66596f152a3af?pid=SGLGGV2EVRWE9H9J&lid=LSTSGLGGV2EVRWE9H9JPS3A7W&marketplace=FLIPKART&q=sunglasses&store=26x&spotlightTagId=BestsellerId_26x&srno=s_1_19&otracker=search&otracker1=search&fm=Search&iid=3cae9721-6553-4988-9fa4-9350b26c36e6.SGLGGV2EVRWE9H9J.SEARCH&ppt=sp&ppn=sp&ssid=ntytsc1yrk0000001686475006056&qH=2cc465e3eef5bff0',\n",
       " 'https://www.flipkart.com/royal-son-wayfarer-retro-square-sunglasses/p/itmd7ae2e889e7aa?pid=SGLG5NC2REZF2J2Z&lid=LSTSGLG5NC2REZF2J2ZA6NY7H&marketplace=FLIPKART&q=sunglasses&store=26x&srno=s_1_20&otracker=search&otracker1=search&fm=Search&iid=en_jbgSX3FR%2FgwD%2FSyW8T%2BDA5EgX35210ejSfPuIWnvgDTGKw7z9K%2BDb%2B5yQNqMQmwaNmmMPyDouroTzqdvgCH8Xw%3D%3D&ppt=sp&ppn=sp&ssid=ntytsc1yrk0000001686475006056&qH=2cc465e3eef5bff0',\n",
       " 'https://www.flipkart.com/elligator-cat-eye-retro-square-oval-round-sunglasses/p/itmc4ec56504c25d?pid=SGLGHBTW8H9SZFWE&lid=LSTSGLGHBTW8H9SZFWECL7RUU&marketplace=FLIPKART&q=sunglasses&store=26x&srno=s_1_21&otracker=search&otracker1=search&fm=Search&iid=3cae9721-6553-4988-9fa4-9350b26c36e6.SGLGHBTW8H9SZFWE.SEARCH&ppt=sp&ppn=sp&ssid=ntytsc1yrk0000001686475006056&qH=2cc465e3eef5bff0',\n",
       " 'https://www.flipkart.com/elligator-round-sunglasses/p/itm3c981fc444358?pid=SGLFPHP5BVBJTCDB&lid=LSTSGLFPHP5BVBJTCDB7P4T6G&marketplace=FLIPKART&q=sunglasses&store=26x&srno=s_1_22&otracker=search&otracker1=search&fm=Search&iid=3cae9721-6553-4988-9fa4-9350b26c36e6.SGLFPHP5BVBJTCDB.SEARCH&ppt=sp&ppn=sp&ssid=ntytsc1yrk0000001686475006056&qH=2cc465e3eef5bff0',\n",
       " 'https://www.flipkart.com/nuvew-aviator-sunglasses/p/itmf5zfcm3uzayat?pid=SGLF5ZDGMGAFDRHR&lid=LSTSGLF5ZDGMGAFDRHRGWJJJI&marketplace=FLIPKART&q=sunglasses&store=26x&srno=s_1_23&otracker=search&otracker1=search&fm=Search&iid=3cae9721-6553-4988-9fa4-9350b26c36e6.SGLF5ZDGMGAFDRHR.SEARCH&ppt=sp&ppn=sp&ssid=ntytsc1yrk0000001686475006056&qH=2cc465e3eef5bff0',\n",
       " 'https://www.flipkart.com/vincent-chase-lenskart-round-sunglasses/p/itm5d6f43f7e4294?pid=SGLGFYDTHZHG26ZV&lid=LSTSGLGFYDTHZHG26ZV0KFHMS&marketplace=FLIPKART&q=sunglasses&store=26x&srno=s_1_24&otracker=search&otracker1=search&fm=Search&iid=en_jbgSX3FR%2FgwD%2FSyW8T%2BDA5EgX35210ejSfPuIWnvgDQxh9J3bpp%2FU6ROlUG0S04C5AtL15TGNw5BGPaGLJ5CPg%3D%3D&ppt=sp&ppn=sp&ssid=ntytsc1yrk0000001686475006056&qH=2cc465e3eef5bff0',\n",
       " 'https://www.flipkart.com/elligator-wayfarer-sunglasses/p/itm5007cea5e2a48?pid=SGLGEFTJDVDTZZBY&lid=LSTSGLGEFTJDVDTZZBYY6ROKL&marketplace=FLIPKART&q=sunglasses&store=26x&srno=s_1_25&otracker=search&otracker1=search&fm=Search&iid=3cae9721-6553-4988-9fa4-9350b26c36e6.SGLGEFTJDVDTZZBY.SEARCH&ppt=sp&ppn=sp&ssid=ntytsc1yrk0000001686475006056&qH=2cc465e3eef5bff0',\n",
       " 'https://www.flipkart.com/piraso-aviator-sunglasses/p/itme10cb1c3329df?pid=SGLFZGE6GMSXZGRP&lid=LSTSGLFZGE6GMSXZGRPN2FYWJ&marketplace=FLIPKART&q=sunglasses&store=26x&srno=s_1_26&otracker=search&otracker1=search&fm=Search&iid=3cae9721-6553-4988-9fa4-9350b26c36e6.SGLFZGE6GMSXZGRP.SEARCH&ppt=sp&ppn=sp&ssid=ntytsc1yrk0000001686475006056&qH=2cc465e3eef5bff0',\n",
       " 'https://www.flipkart.com/srpm-wayfarer-sunglasses/p/itm72f1335147fe2?pid=SGLFGBCAWZHBUPCZ&lid=LSTSGLFGBCAWZHBUPCZTIHSGU&marketplace=FLIPKART&q=sunglasses&store=26x&srno=s_1_27&otracker=search&otracker1=search&fm=Search&iid=3cae9721-6553-4988-9fa4-9350b26c36e6.SGLFGBCAWZHBUPCZ.SEARCH&ppt=sp&ppn=sp&ssid=ntytsc1yrk0000001686475006056&qH=2cc465e3eef5bff0',\n",
       " 'https://www.flipkart.com/resist-eyewear-wayfarer-sunglasses/p/itmaf0ff6008ec9b?pid=SGLGBKPVUPYZRZCF&lid=LSTSGLGBKPVUPYZRZCF5EVKHE&marketplace=FLIPKART&q=sunglasses&store=26x&srno=s_1_28&otracker=search&otracker1=search&fm=Search&iid=en_jbgSX3FR%2FgwD%2FSyW8T%2BDA5EgX35210ejSfPuIWnvgDQgpPOQLV5xEAjZLAoLRaRAquyDOVCljxGbQcVQqfhcFg%3D%3D&ppt=sp&ppn=sp&ssid=ntytsc1yrk0000001686475006056&qH=2cc465e3eef5bff0',\n",
       " 'https://www.flipkart.com/liza-angel-clubmaster-spectacle-wrap-around-retro-square-sunglasses/p/itm12d34d6c1565b?pid=SGLGJJ8W5HXF2G7W&lid=LSTSGLGJJ8W5HXF2G7WPRZD1Z&marketplace=FLIPKART&q=sunglasses&store=26x&srno=s_1_29&otracker=search&otracker1=search&fm=Search&iid=3cae9721-6553-4988-9fa4-9350b26c36e6.SGLGJJ8W5HXF2G7W.SEARCH&ppt=sp&ppn=sp&ssid=ntytsc1yrk0000001686475006056&qH=2cc465e3eef5bff0',\n",
       " 'https://www.flipkart.com/srpm-wayfarer-sunglasses/p/itmaf19ae5820c06?pid=SGLFHQPHY2GZ4HFP&lid=LSTSGLFHQPHY2GZ4HFP0AZWKY&marketplace=FLIPKART&q=sunglasses&store=26x&spotlightTagId=BestsellerId_26x&srno=s_1_30&otracker=search&otracker1=search&fm=Search&iid=3cae9721-6553-4988-9fa4-9350b26c36e6.SGLFHQPHY2GZ4HFP.SEARCH&ppt=sp&ppn=sp&ssid=ntytsc1yrk0000001686475006056&qH=2cc465e3eef5bff0',\n",
       " 'https://www.flipkart.com/metronaut-uv-protection-sunglass/p/itm55a79fec3c250?pid=SGLGEERZCJKACGMA&lid=LSTSGLGEERZCJKACGMAJXCG9S&marketplace=FLIPKART&q=sunglasses&store=26x&srno=s_1_31&otracker=search&otracker1=search&fm=Search&iid=3cae9721-6553-4988-9fa4-9350b26c36e6.SGLGEERZCJKACGMA.SEARCH&ppt=sp&ppn=sp&ssid=ntytsc1yrk0000001686475006056&qH=2cc465e3eef5bff0',\n",
       " 'https://www.flipkart.com/vincent-chase-lenskart-wayfarer-sunglasses/p/itm98a773db44f91?pid=SGLG4XY5W5GXEMHY&lid=LSTSGLG4XY5W5GXEMHYFWBQAH&marketplace=FLIPKART&q=sunglasses&store=26x&srno=s_1_32&otracker=search&otracker1=search&fm=Search&iid=en_jbgSX3FR%2FgwD%2FSyW8T%2BDA5EgX35210ejSfPuIWnvgDQrtBGAQQsGt0mvu0Zy%2FmwSSquEyJH9FH796r1r%2FdjKSg%3D%3D&ppt=sp&ppn=sp&ssid=ntytsc1yrk0000001686475006056&qH=2cc465e3eef5bff0',\n",
       " 'https://www.flipkart.com/sunbee-retro-square-sunglasses/p/itmb89a15e6ca52a?pid=SGLG3HZUQWBQTKMZ&lid=LSTSGLG3HZUQWBQTKMZIWGU63&marketplace=FLIPKART&q=sunglasses&store=26x&srno=s_1_33&otracker=search&otracker1=search&fm=Search&iid=3cae9721-6553-4988-9fa4-9350b26c36e6.SGLG3HZUQWBQTKMZ.SEARCH&ppt=sp&ppn=sp&ssid=ntytsc1yrk0000001686475006056&qH=2cc465e3eef5bff0',\n",
       " 'https://www.flipkart.com/silver-kartz-wayfarer-sunglasses/p/itmf3ykz37jypbdd?pid=SGLEXSP4CY6G2ZTY&lid=LSTSGLEXSP4CY6G2ZTYGHVAAN&marketplace=FLIPKART&q=sunglasses&store=26x&srno=s_1_34&otracker=search&otracker1=search&fm=Search&iid=3cae9721-6553-4988-9fa4-9350b26c36e6.SGLEXSP4CY6G2ZTY.SEARCH&ppt=sp&ppn=sp&ssid=ntytsc1yrk0000001686475006056&qH=2cc465e3eef5bff0',\n",
       " 'https://www.flipkart.com/kingsunglasses-rectangular-sunglasses/p/itm36dfcfe5b2f10?pid=SGLGHWSSZGEJY4WH&lid=LSTSGLGHWSSZGEJY4WHFG4B8K&marketplace=FLIPKART&q=sunglasses&store=26x&srno=s_1_35&otracker=search&otracker1=search&fm=Search&iid=3cae9721-6553-4988-9fa4-9350b26c36e6.SGLGHWSSZGEJY4WH.SEARCH&ppt=sp&ppn=sp&ssid=ntytsc1yrk0000001686475006056&qH=2cc465e3eef5bff0',\n",
       " 'https://www.flipkart.com/rich-club-retro-square-sunglasses/p/itm8e0c711c28de3?pid=SGLGMYDATMC26MMD&lid=LSTSGLGMYDATMC26MMDQ0SPBV&marketplace=FLIPKART&q=sunglasses&store=26x&srno=s_1_36&otracker=search&otracker1=search&fm=Search&iid=en_jbgSX3FR%2FgwD%2FSyW8T%2BDA5EgX35210ejSfPuIWnvgDRZnrx8LAJJbAaFv97Cpk54O8K7SWFnOdgkAF%2FXiTwU7w%3D%3D&ppt=sp&ppn=sp&ssid=ntytsc1yrk0000001686475006056&qH=2cc465e3eef5bff0',\n",
       " 'https://www.flipkart.com/sukart-wayfarer-spectacle-over-sized-retro-square-sunglasses/p/itmef6ec7c3b4d33?pid=SGLGMVJKFCQKBBYH&lid=LSTSGLGMVJKFCQKBBYHK2CPEE&marketplace=FLIPKART&q=sunglasses&store=26x&srno=s_1_37&otracker=search&otracker1=search&fm=Search&iid=3cae9721-6553-4988-9fa4-9350b26c36e6.SGLGMVJKFCQKBBYH.SEARCH&ppt=sp&ppn=sp&ssid=ntytsc1yrk0000001686475006056&qH=2cc465e3eef5bff0',\n",
       " 'https://www.flipkart.com/nuvew-sports-sunglasses/p/itm25a14991e2d37?pid=SGLG4YGYEQKTKD8U&lid=LSTSGLG4YGYEQKTKD8UPDIJCX&marketplace=FLIPKART&q=sunglasses&store=26x&srno=s_1_38&otracker=search&otracker1=search&fm=Search&iid=3cae9721-6553-4988-9fa4-9350b26c36e6.SGLG4YGYEQKTKD8U.SEARCH&ppt=sp&ppn=sp&ssid=ntytsc1yrk0000001686475006056&qH=2cc465e3eef5bff0',\n",
       " 'https://www.flipkart.com/nuvew-aviator-sunglasses/p/itmf9qm5fec5xdwv?pid=SGLF9QJ4UVX8U9GD&lid=LSTSGLF9QJ4UVX8U9GDHH9MPT&marketplace=FLIPKART&q=sunglasses&store=26x&srno=s_1_39&otracker=search&otracker1=search&fm=Search&iid=3cae9721-6553-4988-9fa4-9350b26c36e6.SGLF9QJ4UVX8U9GD.SEARCH&ppt=sp&ppn=sp&ssid=ntytsc1yrk0000001686475006056&qH=2cc465e3eef5bff0',\n",
       " 'https://www.flipkart.com/vincent-chase-round-sunglasses/p/itm660d3371266b4?pid=SGLG8D97VVNMB4HK&lid=LSTSGLG8D97VVNMB4HKPEULBS&marketplace=FLIPKART&q=sunglasses&store=26x&srno=s_1_40&otracker=search&otracker1=search&fm=Search&iid=en_jbgSX3FR%2FgwD%2FSyW8T%2BDA5EgX35210ejSfPuIWnvgDRw2NWtlz4ajumM%2FB95N%2FSkfRy66uQo8uKn9n7jJKHosQ%3D%3D&ppt=sp&ppn=sp&ssid=ntytsc1yrk0000001686475006056&qH=2cc465e3eef5bff0']"
      ]
     },
     "execution_count": 188,
     "metadata": {},
     "output_type": "execute_result"
    }
   ],
   "source": [
    "URL"
   ]
  },
  {
   "cell_type": "code",
   "execution_count": 193,
   "id": "b5f1054a",
   "metadata": {},
   "outputs": [
    {
     "ename": "WebDriverException",
     "evalue": "Message: disconnected: not connected to DevTools\n  (failed to check if window was closed: disconnected: not connected to DevTools)\n  (Session info: chrome=114.0.5735.110)\nStacktrace:\nBacktrace:\n\tGetHandleVerifier [0x00ECA813+48355]\n\t(No symbol) [0x00E5C4B1]\n\t(No symbol) [0x00D65358]\n\t(No symbol) [0x00D57D96]\n\t(No symbol) [0x00D57AB9]\n\t(No symbol) [0x00D667C0]\n\t(No symbol) [0x00DBC4D8]\n\t(No symbol) [0x00DAA536]\n\t(No symbol) [0x00D882DC]\n\t(No symbol) [0x00D893DD]\n\tGetHandleVerifier [0x0112AABD+2539405]\n\tGetHandleVerifier [0x0116A78F+2800735]\n\tGetHandleVerifier [0x0116456C+2775612]\n\tGetHandleVerifier [0x00F551E0+616112]\n\t(No symbol) [0x00E65F8C]\n\t(No symbol) [0x00E62328]\n\t(No symbol) [0x00E6240B]\n\t(No symbol) [0x00E54FF7]\n\tBaseThreadInitThunk [0x757C7D59+25]\n\tRtlInitializeExceptionChain [0x7711B74B+107]\n\tRtlClearBits [0x7711B6CF+191]\n",
     "output_type": "error",
     "traceback": [
      "\u001b[1;31m---------------------------------------------------------------------------\u001b[0m",
      "\u001b[1;31mWebDriverException\u001b[0m                        Traceback (most recent call last)",
      "\u001b[1;32m~\\AppData\\Local\\Temp\\ipykernel_14068\\4217200543.py\u001b[0m in \u001b[0;36m<module>\u001b[1;34m\u001b[0m\n\u001b[0;32m      2\u001b[0m \u001b[1;33m\u001b[0m\u001b[0m\n\u001b[0;32m      3\u001b[0m \u001b[1;32mfor\u001b[0m \u001b[0mi\u001b[0m \u001b[1;32min\u001b[0m \u001b[0mURL\u001b[0m\u001b[1;33m:\u001b[0m\u001b[1;33m\u001b[0m\u001b[1;33m\u001b[0m\u001b[0m\n\u001b[1;32m----> 4\u001b[1;33m     \u001b[0mdriver\u001b[0m\u001b[1;33m.\u001b[0m\u001b[0mget\u001b[0m\u001b[1;33m(\u001b[0m\u001b[0mi\u001b[0m\u001b[1;33m)\u001b[0m\u001b[1;33m\u001b[0m\u001b[1;33m\u001b[0m\u001b[0m\n\u001b[0m\u001b[0;32m      5\u001b[0m     \u001b[0mtime\u001b[0m\u001b[1;33m.\u001b[0m\u001b[0msleep\u001b[0m\u001b[1;33m(\u001b[0m\u001b[1;36m5\u001b[0m\u001b[1;33m)\u001b[0m\u001b[1;33m\u001b[0m\u001b[1;33m\u001b[0m\u001b[0m\n\u001b[0;32m      6\u001b[0m     \u001b[1;32mtry\u001b[0m\u001b[1;33m:\u001b[0m\u001b[1;33m\u001b[0m\u001b[1;33m\u001b[0m\u001b[0m\n",
      "\u001b[1;32m~\\anaconda3\\lib\\site-packages\\selenium\\webdriver\\remote\\webdriver.py\u001b[0m in \u001b[0;36mget\u001b[1;34m(self, url)\u001b[0m\n\u001b[0;32m    447\u001b[0m     \u001b[1;32mdef\u001b[0m \u001b[0mget\u001b[0m\u001b[1;33m(\u001b[0m\u001b[0mself\u001b[0m\u001b[1;33m,\u001b[0m \u001b[0murl\u001b[0m\u001b[1;33m:\u001b[0m \u001b[0mstr\u001b[0m\u001b[1;33m)\u001b[0m \u001b[1;33m->\u001b[0m \u001b[1;32mNone\u001b[0m\u001b[1;33m:\u001b[0m\u001b[1;33m\u001b[0m\u001b[1;33m\u001b[0m\u001b[0m\n\u001b[0;32m    448\u001b[0m         \u001b[1;34m\"\"\"Loads a web page in the current browser session.\"\"\"\u001b[0m\u001b[1;33m\u001b[0m\u001b[1;33m\u001b[0m\u001b[0m\n\u001b[1;32m--> 449\u001b[1;33m         \u001b[0mself\u001b[0m\u001b[1;33m.\u001b[0m\u001b[0mexecute\u001b[0m\u001b[1;33m(\u001b[0m\u001b[0mCommand\u001b[0m\u001b[1;33m.\u001b[0m\u001b[0mGET\u001b[0m\u001b[1;33m,\u001b[0m \u001b[1;33m{\u001b[0m\u001b[1;34m\"url\"\u001b[0m\u001b[1;33m:\u001b[0m \u001b[0murl\u001b[0m\u001b[1;33m}\u001b[0m\u001b[1;33m)\u001b[0m\u001b[1;33m\u001b[0m\u001b[1;33m\u001b[0m\u001b[0m\n\u001b[0m\u001b[0;32m    450\u001b[0m \u001b[1;33m\u001b[0m\u001b[0m\n\u001b[0;32m    451\u001b[0m     \u001b[1;33m@\u001b[0m\u001b[0mproperty\u001b[0m\u001b[1;33m\u001b[0m\u001b[1;33m\u001b[0m\u001b[0m\n",
      "\u001b[1;32m~\\anaconda3\\lib\\site-packages\\selenium\\webdriver\\remote\\webdriver.py\u001b[0m in \u001b[0;36mexecute\u001b[1;34m(self, driver_command, params)\u001b[0m\n\u001b[0;32m    438\u001b[0m         \u001b[0mresponse\u001b[0m \u001b[1;33m=\u001b[0m \u001b[0mself\u001b[0m\u001b[1;33m.\u001b[0m\u001b[0mcommand_executor\u001b[0m\u001b[1;33m.\u001b[0m\u001b[0mexecute\u001b[0m\u001b[1;33m(\u001b[0m\u001b[0mdriver_command\u001b[0m\u001b[1;33m,\u001b[0m \u001b[0mparams\u001b[0m\u001b[1;33m)\u001b[0m\u001b[1;33m\u001b[0m\u001b[1;33m\u001b[0m\u001b[0m\n\u001b[0;32m    439\u001b[0m         \u001b[1;32mif\u001b[0m \u001b[0mresponse\u001b[0m\u001b[1;33m:\u001b[0m\u001b[1;33m\u001b[0m\u001b[1;33m\u001b[0m\u001b[0m\n\u001b[1;32m--> 440\u001b[1;33m             \u001b[0mself\u001b[0m\u001b[1;33m.\u001b[0m\u001b[0merror_handler\u001b[0m\u001b[1;33m.\u001b[0m\u001b[0mcheck_response\u001b[0m\u001b[1;33m(\u001b[0m\u001b[0mresponse\u001b[0m\u001b[1;33m)\u001b[0m\u001b[1;33m\u001b[0m\u001b[1;33m\u001b[0m\u001b[0m\n\u001b[0m\u001b[0;32m    441\u001b[0m             \u001b[0mresponse\u001b[0m\u001b[1;33m[\u001b[0m\u001b[1;34m\"value\"\u001b[0m\u001b[1;33m]\u001b[0m \u001b[1;33m=\u001b[0m \u001b[0mself\u001b[0m\u001b[1;33m.\u001b[0m\u001b[0m_unwrap_value\u001b[0m\u001b[1;33m(\u001b[0m\u001b[0mresponse\u001b[0m\u001b[1;33m.\u001b[0m\u001b[0mget\u001b[0m\u001b[1;33m(\u001b[0m\u001b[1;34m\"value\"\u001b[0m\u001b[1;33m,\u001b[0m \u001b[1;32mNone\u001b[0m\u001b[1;33m)\u001b[0m\u001b[1;33m)\u001b[0m\u001b[1;33m\u001b[0m\u001b[1;33m\u001b[0m\u001b[0m\n\u001b[0;32m    442\u001b[0m             \u001b[1;32mreturn\u001b[0m \u001b[0mresponse\u001b[0m\u001b[1;33m\u001b[0m\u001b[1;33m\u001b[0m\u001b[0m\n",
      "\u001b[1;32m~\\anaconda3\\lib\\site-packages\\selenium\\webdriver\\remote\\errorhandler.py\u001b[0m in \u001b[0;36mcheck_response\u001b[1;34m(self, response)\u001b[0m\n\u001b[0;32m    243\u001b[0m                 \u001b[0malert_text\u001b[0m \u001b[1;33m=\u001b[0m \u001b[0mvalue\u001b[0m\u001b[1;33m[\u001b[0m\u001b[1;34m\"alert\"\u001b[0m\u001b[1;33m]\u001b[0m\u001b[1;33m.\u001b[0m\u001b[0mget\u001b[0m\u001b[1;33m(\u001b[0m\u001b[1;34m\"text\"\u001b[0m\u001b[1;33m)\u001b[0m\u001b[1;33m\u001b[0m\u001b[1;33m\u001b[0m\u001b[0m\n\u001b[0;32m    244\u001b[0m             \u001b[1;32mraise\u001b[0m \u001b[0mexception_class\u001b[0m\u001b[1;33m(\u001b[0m\u001b[0mmessage\u001b[0m\u001b[1;33m,\u001b[0m \u001b[0mscreen\u001b[0m\u001b[1;33m,\u001b[0m \u001b[0mstacktrace\u001b[0m\u001b[1;33m,\u001b[0m \u001b[0malert_text\u001b[0m\u001b[1;33m)\u001b[0m  \u001b[1;31m# type: ignore[call-arg]  # mypy is not smart enough here\u001b[0m\u001b[1;33m\u001b[0m\u001b[1;33m\u001b[0m\u001b[0m\n\u001b[1;32m--> 245\u001b[1;33m         \u001b[1;32mraise\u001b[0m \u001b[0mexception_class\u001b[0m\u001b[1;33m(\u001b[0m\u001b[0mmessage\u001b[0m\u001b[1;33m,\u001b[0m \u001b[0mscreen\u001b[0m\u001b[1;33m,\u001b[0m \u001b[0mstacktrace\u001b[0m\u001b[1;33m)\u001b[0m\u001b[1;33m\u001b[0m\u001b[1;33m\u001b[0m\u001b[0m\n\u001b[0m",
      "\u001b[1;31mWebDriverException\u001b[0m: Message: disconnected: not connected to DevTools\n  (failed to check if window was closed: disconnected: not connected to DevTools)\n  (Session info: chrome=114.0.5735.110)\nStacktrace:\nBacktrace:\n\tGetHandleVerifier [0x00ECA813+48355]\n\t(No symbol) [0x00E5C4B1]\n\t(No symbol) [0x00D65358]\n\t(No symbol) [0x00D57D96]\n\t(No symbol) [0x00D57AB9]\n\t(No symbol) [0x00D667C0]\n\t(No symbol) [0x00DBC4D8]\n\t(No symbol) [0x00DAA536]\n\t(No symbol) [0x00D882DC]\n\t(No symbol) [0x00D893DD]\n\tGetHandleVerifier [0x0112AABD+2539405]\n\tGetHandleVerifier [0x0116A78F+2800735]\n\tGetHandleVerifier [0x0116456C+2775612]\n\tGetHandleVerifier [0x00F551E0+616112]\n\t(No symbol) [0x00E65F8C]\n\t(No symbol) [0x00E62328]\n\t(No symbol) [0x00E6240B]\n\t(No symbol) [0x00E54FF7]\n\tBaseThreadInitThunk [0x757C7D59+25]\n\tRtlInitializeExceptionChain [0x7711B74B+107]\n\tRtlClearBits [0x7711B6CF+191]\n"
     ]
    }
   ],
   "source": [
    "Product_Description1=[]\n",
    "\n",
    "for i in URL:\n",
    "    driver.get(i)\n",
    "    time.sleep(5)\n",
    "    try:\n",
    "        description = driver.find_element(By.XPATH,'/html/body/div[1]/div/div[3]/div[1]/div[2]/div[7]/div[3]/div/div/div[2]/div/div/div[2]')\n",
    "        Product_Description1.append(description.text)\n",
    "    except NoSuchElementException:\n",
    "        Product_Description1.append('Not Present')\n",
    "        "
   ]
  },
  {
   "cell_type": "code",
   "execution_count": null,
   "id": "bcd958e4",
   "metadata": {},
   "outputs": [],
   "source": []
  },
  {
   "cell_type": "raw",
   "id": "65512176",
   "metadata": {},
   "source": [
    "Question-5"
   ]
  },
  {
   "cell_type": "raw",
   "id": "f7df5589",
   "metadata": {},
   "source": [
    "Scrape 100 reviews data from flipkart.com for iphone11 phone. You have to go the link: \n",
    "https://www.flipkart.com/apple-iphone-11-black-64-gb/product\u0002reviews/itm4e5041ba101fd?pid=MOBFWQ6BXGJCEYNY&lid=LSTMOBFWQ6BXGJCEYNYZXSHRJ&market\n",
    "place=FLIPKAR"
   ]
  },
  {
   "cell_type": "code",
   "execution_count": 194,
   "id": "1e6c9b05",
   "metadata": {},
   "outputs": [],
   "source": [
    "driver=webdriver.Chrome(r\"chromedriver.exe\")"
   ]
  },
  {
   "cell_type": "code",
   "execution_count": 195,
   "id": "d75fe8c2",
   "metadata": {},
   "outputs": [],
   "source": [
    "driver.get(\"https://www.flipkart.com/apple-iphone-11-black-64-gb/product-reviews/itm4e5041ba101fd?pid=MOBFWQ6BXGJCEYNY&lid=LSTMOBFWQ6BXGJCEYNYZXSHRJ&market\")"
   ]
  },
  {
   "cell_type": "code",
   "execution_count": 196,
   "id": "9016f172",
   "metadata": {},
   "outputs": [],
   "source": [
    "Iphone_rating=[]\n",
    "Iph_review_summary=[]\n",
    "Iphone_Full_review=[]"
   ]
  },
  {
   "cell_type": "code",
   "execution_count": 200,
   "id": "bdb76d5b",
   "metadata": {},
   "outputs": [],
   "source": [
    "Iphone_rating=[]\n",
    "start=0\n",
    "end=6\n",
    "for page in range(start,end):\n",
    "    Irates=driver.find_elements(By.XPATH,'//div[@class=\"_3LWZlK _1BLPMq\"]')\n",
    "    for i in Irates:\n",
    "        Iphone_rating.append(i.text)\n",
    "    next_button=driver.find_element(By.XPATH,'//a[@class=\"_1LKTO3\"]')\n",
    "    next_button.click()\n",
    "    time.sleep(5)"
   ]
  },
  {
   "cell_type": "code",
   "execution_count": 201,
   "id": "9eb62ccf",
   "metadata": {},
   "outputs": [
    {
     "data": {
      "text/plain": [
       "100"
      ]
     },
     "execution_count": 201,
     "metadata": {},
     "output_type": "execute_result"
    }
   ],
   "source": [
    "len(Iphone_rating)"
   ]
  },
  {
   "cell_type": "code",
   "execution_count": 209,
   "id": "a682fd2d",
   "metadata": {},
   "outputs": [],
   "source": [
    "Iph_review_summary=[]\n",
    "start=0\n",
    "end=10\n",
    "for page in range(start,end):\n",
    "    Ireview=driver.find_elements(By.XPATH,'//p[@class=\"_2-N8zT\"]')\n",
    "    for i in Ireview:\n",
    "        Iph_review_summary.append(i.text)\n",
    "    next_button=driver.find_element(By.XPATH,'//a[@class=\"_1LKTO3\"]')\n",
    "    next_button.click()\n",
    "    time.sleep(5)"
   ]
  },
  {
   "cell_type": "code",
   "execution_count": 210,
   "id": "f6479769",
   "metadata": {},
   "outputs": [
    {
     "data": {
      "text/plain": [
       "100"
      ]
     },
     "execution_count": 210,
     "metadata": {},
     "output_type": "execute_result"
    }
   ],
   "source": [
    "len(Iph_review_summary)"
   ]
  },
  {
   "cell_type": "code",
   "execution_count": 211,
   "id": "91cdad5b",
   "metadata": {},
   "outputs": [],
   "source": [
    "Iphone_Full_review=[]\n",
    "start=0\n",
    "end=10\n",
    "for page in range(start,end):\n",
    "    Ifull=driver.find_elements(By.XPATH,'//div[@class=\"t-ZTKy\"]')\n",
    "    for i in Ifull:\n",
    "        Iphone_Full_review.append(i.text)\n",
    "    next_button=driver.find_element(By.XPATH,'//a[@class=\"_1LKTO3\"]')\n",
    "    next_button.click()\n",
    "    time.sleep(5)"
   ]
  },
  {
   "cell_type": "code",
   "execution_count": 212,
   "id": "9392cc5a",
   "metadata": {},
   "outputs": [
    {
     "data": {
      "text/plain": [
       "100"
      ]
     },
     "execution_count": 212,
     "metadata": {},
     "output_type": "execute_result"
    }
   ],
   "source": [
    "len(Iphone_Full_review)"
   ]
  },
  {
   "cell_type": "code",
   "execution_count": 213,
   "id": "855fec85",
   "metadata": {},
   "outputs": [
    {
     "data": {
      "text/plain": [
       "['Really satisfied with the Product I received... It’s totally genuine and the packaging was also really good so if ur planning to buy just go for it.',\n",
       " 'Amazing phone with great cameras and better battery which gives you the best performance. I just love the camera .',\n",
       " 'Great iPhone very snappy experience as apple kind. Upgraded from iPhone 7.\\nPros\\n-Camera top class\\n- Battery top performed\\n-Chipset no need to say as apple kind\\n-Security as you expect from apple\\n- Display super bright industry leading colour\\naccuracy and super responsive\\n-Build quality as expect from apple sturdy\\npremium durable beautiful stylish.\\n-Os most stable os in smartphone industry\\n\\nCons\\n-No 5G\\n-Display is not based on OLED technology\\n-Charger headphones and 1 apple stic...\\nREAD MORE',\n",
       " \"It's my first time to use iOS phone and I am loving my upgradation 😍😍 I love the color, I love the assebility of the phone....I need to learn more about its functionality, but as far as I have seen, it's quite easy and it has a lot of functions to work on, specially if you are a content writer or a blogger you get a lot of content creation platforms and they are really amazing.\\n\\nThis phone not only for good quality photography but a lot of other task too.😍💯\",\n",
       " \"I'm Really happy with the product\\nDelivery was fast as well\\n..it was a gift for my sister and she loved it so much.\",\n",
       " 'Previously I was using one plus 3t it was a great phone\\nAnd then I decided to upgrade I am stuck between Samsung s10 plus or iPhone 11\\nI have seen the specs and everything were good except the display it’s somewhere between 720-1080 and it’s not even an amoled it’s an LCD display\\nBut I decided to go with iPhone because I have never used an IOS device I have Been an android user from the past 9 years I ordered IPhone 11 (128gb) product red\\nMy experience after using 3 weeks\\n1. The delivery ...\\nREAD MORE',\n",
       " 'I was using Iphone 6s and also Oneplus 6t. Both mobiles were perfectly alright in Photos, gaming, and smooth interface . My 6s mobile getting battery issue. thought upgrade to 11. Really like this mobile of its Internal storage (compare to 6s) , camera and its touch feeling. Its a worth buying mobile for me.',\n",
       " 'Value for money\\n5 star rating\\nExcellent camera\\nBattery backup full day in single charge.\\n\\nTougher and water resistant design, glossy back.\\nThe screen has excellent brightness and contrast.\\nApple A13 Bionic is the fastest smartphone chip on the planet.\\nExcellent battery life, fast charging support.\\nStereo speakers with great quality.',\n",
       " 'What a camera .....just awesome ..you can feel this iPhone just awesome . Good for gaming also ...try pubg in hd it’s just wow',\n",
       " 'Amazing Powerful and Durable Gadget.\\n\\nI’m am very happy with the camera picture quality, Amazing face id unlocked in dark room, Strong battery with perfect screen size as you can carry easily in pocket. This is my third iPhone.\\n\\nI shifted from android Samsung Note series to iPhone because of the strong build quality and peace of mind for next 3-4 years.\\n\\nDon’t think to much just go for it and I suggest you to go for minimum 128gb variant or more 256gb.\\n\\nI’ve attached my puppy pics and no fi...\\nREAD MORE',\n",
       " 'This is my first iOS phone. I am very happy with this product. Very much satisfied with this. I love this phone.',\n",
       " 'Best and amazing product.....phone looks so premium.... battary is also good as expected .... Wide angle camera is so addictive ...if you are a IOS lover....then this phone will be the best choice for you all!!💯🔥',\n",
       " 'It’s a must buy who is looking for an upgrade from previous generation of iPhones. If you are using XR then still you can hold on for sometime and upgrade to 2020 model else this phone is a must buy . Camera quality is amazing and wide angle is something to count upon. Performance wise it’s amazing and feels premium while holding in hand. So a big YES for this device. Go for 128 GB variant as the 4K videos will occupy lots of space and the storage can get over very quickly. Try to buy it with...\\nREAD MORE',\n",
       " 'i11 is worthy to buy, too much happy with the product. Thank u flipkart I received the item on time..loved it..',\n",
       " 'So far it’s been an AMAZING experience coming back to iOS after nearly a decade but it’s not as versatile as android though phone is sturdy dropped it accidentally a couple of times and nothing happened fortunately camera is awesome',\n",
       " 'Value for money❤️❤️\\nIts awesome mobile phone in the world ...\\nDisplay was very good and bright ..\\nTrust me freinds you r never regret after Buying..\\nJust go for it....\\nI love this phone and i switch to iphone x to 11',\n",
       " 'Amazing camera quality as expected, battery also has very good performance. Display, body, and touch experience is the best I’ve ever had. Sound quality of speakers is more than sufficient. Apple is known for it’s customer friendly security services and I can see it how. The A13 processor is the best in its work. So I would definitely recommend it for everyone who are looking for it, just go for it without delay.\\n\\nThe most amazing thing it the delivery. Flipkart has delivered it in the span ...\\nREAD MORE',\n",
       " 'iphone 11 is a very good phone to buy only if you can compromise for the display. The display on this is device is pretty good but you can get other options with better displays in this price segment.\\nIf you can survive with an HD+ LCD panel with thicker bezels and a notch up top then this is a very good phone for you.\\nCameras are awesome, battery backup excellent, great performance and a decent premium look. Good job Apple !',\n",
       " \"Just got this iphone 11\\nAnd it is most powerful mobile phone I have used ever\\n\\nSo,go for it if you want a phone with best specification like camera,battery backup,display, A13 bionic chip\\n\\nThat's my review about this phone but yours can be differ from me....\",\n",
       " 'It is just awesome mobile for this price from Apple,\\n\\nAfter 10 days review\\n\\nBattery enough for 1 day even 24*7 Internet will be on and mostly internet usage\\n\\nCamera is just awesome cool , android 64 MP is equal to this just 12 MP\\n\\nA13 Bionic chip will give more high performance without hanging\\n\\nAudio stereo speakers will give Dolby atoms sound with crystal clear\\n\\nVideo recording is like cinematic shots of every sec can be a 4K 60fps. Just awesome this phone\\niPhone 11 loved one',\n",
       " 'Really satisfied with the Product I received... It’s totally genuine and the packaging was also really good so if ur planning to buy just go for it.',\n",
       " 'Amazing phone with great cameras and better battery which gives you the best performance. I just love the camera .',\n",
       " 'Great iPhone very snappy experience as apple kind. Upgraded from iPhone 7.\\nPros\\n-Camera top class\\n- Battery top performed\\n-Chipset no need to say as apple kind\\n-Security as you expect from apple\\n- Display super bright industry leading colour\\naccuracy and super responsive\\n-Build quality as expect from apple sturdy\\npremium durable beautiful stylish.\\n-Os most stable os in smartphone industry\\n\\nCons\\n-No 5G\\n-Display is not based on OLED technology\\n-Charger headphones and 1 apple stic...\\nREAD MORE',\n",
       " \"It's my first time to use iOS phone and I am loving my upgradation 😍😍 I love the color, I love the assebility of the phone....I need to learn more about its functionality, but as far as I have seen, it's quite easy and it has a lot of functions to work on, specially if you are a content writer or a blogger you get a lot of content creation platforms and they are really amazing.\\n\\nThis phone not only for good quality photography but a lot of other task too.😍💯\",\n",
       " \"I'm Really happy with the product\\nDelivery was fast as well\\n..it was a gift for my sister and she loved it so much.\",\n",
       " 'Previously I was using one plus 3t it was a great phone\\nAnd then I decided to upgrade I am stuck between Samsung s10 plus or iPhone 11\\nI have seen the specs and everything were good except the display it’s somewhere between 720-1080 and it’s not even an amoled it’s an LCD display\\nBut I decided to go with iPhone because I have never used an IOS device I have Been an android user from the past 9 years I ordered IPhone 11 (128gb) product red\\nMy experience after using 3 weeks\\n1. The delivery ...\\nREAD MORE',\n",
       " 'I was using Iphone 6s and also Oneplus 6t. Both mobiles were perfectly alright in Photos, gaming, and smooth interface . My 6s mobile getting battery issue. thought upgrade to 11. Really like this mobile of its Internal storage (compare to 6s) , camera and its touch feeling. Its a worth buying mobile for me.',\n",
       " 'Value for money\\n5 star rating\\nExcellent camera\\nBattery backup full day in single charge.\\n\\nTougher and water resistant design, glossy back.\\nThe screen has excellent brightness and contrast.\\nApple A13 Bionic is the fastest smartphone chip on the planet.\\nExcellent battery life, fast charging support.\\nStereo speakers with great quality.',\n",
       " 'What a camera .....just awesome ..you can feel this iPhone just awesome . Good for gaming also ...try pubg in hd it’s just wow',\n",
       " 'Amazing Powerful and Durable Gadget.\\n\\nI’m am very happy with the camera picture quality, Amazing face id unlocked in dark room, Strong battery with perfect screen size as you can carry easily in pocket. This is my third iPhone.\\n\\nI shifted from android Samsung Note series to iPhone because of the strong build quality and peace of mind for next 3-4 years.\\n\\nDon’t think to much just go for it and I suggest you to go for minimum 128gb variant or more 256gb.\\n\\nI’ve attached my puppy pics and no fi...\\nREAD MORE',\n",
       " 'This is my first iOS phone. I am very happy with this product. Very much satisfied with this. I love this phone.',\n",
       " 'Best and amazing product.....phone looks so premium.... battary is also good as expected .... Wide angle camera is so addictive ...if you are a IOS lover....then this phone will be the best choice for you all!!💯🔥',\n",
       " 'It’s a must buy who is looking for an upgrade from previous generation of iPhones. If you are using XR then still you can hold on for sometime and upgrade to 2020 model else this phone is a must buy . Camera quality is amazing and wide angle is something to count upon. Performance wise it’s amazing and feels premium while holding in hand. So a big YES for this device. Go for 128 GB variant as the 4K videos will occupy lots of space and the storage can get over very quickly. Try to buy it with...\\nREAD MORE',\n",
       " 'i11 is worthy to buy, too much happy with the product. Thank u flipkart I received the item on time..loved it..',\n",
       " 'So far it’s been an AMAZING experience coming back to iOS after nearly a decade but it’s not as versatile as android though phone is sturdy dropped it accidentally a couple of times and nothing happened fortunately camera is awesome',\n",
       " 'Value for money❤️❤️\\nIts awesome mobile phone in the world ...\\nDisplay was very good and bright ..\\nTrust me freinds you r never regret after Buying..\\nJust go for it....\\nI love this phone and i switch to iphone x to 11',\n",
       " 'Amazing camera quality as expected, battery also has very good performance. Display, body, and touch experience is the best I’ve ever had. Sound quality of speakers is more than sufficient. Apple is known for it’s customer friendly security services and I can see it how. The A13 processor is the best in its work. So I would definitely recommend it for everyone who are looking for it, just go for it without delay.\\n\\nThe most amazing thing it the delivery. Flipkart has delivered it in the span ...\\nREAD MORE',\n",
       " 'iphone 11 is a very good phone to buy only if you can compromise for the display. The display on this is device is pretty good but you can get other options with better displays in this price segment.\\nIf you can survive with an HD+ LCD panel with thicker bezels and a notch up top then this is a very good phone for you.\\nCameras are awesome, battery backup excellent, great performance and a decent premium look. Good job Apple !',\n",
       " \"Just got this iphone 11\\nAnd it is most powerful mobile phone I have used ever\\n\\nSo,go for it if you want a phone with best specification like camera,battery backup,display, A13 bionic chip\\n\\nThat's my review about this phone but yours can be differ from me....\",\n",
       " 'It is just awesome mobile for this price from Apple,\\n\\nAfter 10 days review\\n\\nBattery enough for 1 day even 24*7 Internet will be on and mostly internet usage\\n\\nCamera is just awesome cool , android 64 MP is equal to this just 12 MP\\n\\nA13 Bionic chip will give more high performance without hanging\\n\\nAudio stereo speakers will give Dolby atoms sound with crystal clear\\n\\nVideo recording is like cinematic shots of every sec can be a 4K 60fps. Just awesome this phone\\niPhone 11 loved one',\n",
       " 'Really satisfied with the Product I received... It’s totally genuine and the packaging was also really good so if ur planning to buy just go for it.',\n",
       " 'Amazing phone with great cameras and better battery which gives you the best performance. I just love the camera .',\n",
       " 'Great iPhone very snappy experience as apple kind. Upgraded from iPhone 7.\\nPros\\n-Camera top class\\n- Battery top performed\\n-Chipset no need to say as apple kind\\n-Security as you expect from apple\\n- Display super bright industry leading colour\\naccuracy and super responsive\\n-Build quality as expect from apple sturdy\\npremium durable beautiful stylish.\\n-Os most stable os in smartphone industry\\n\\nCons\\n-No 5G\\n-Display is not based on OLED technology\\n-Charger headphones and 1 apple stic...\\nREAD MORE',\n",
       " \"It's my first time to use iOS phone and I am loving my upgradation 😍😍 I love the color, I love the assebility of the phone....I need to learn more about its functionality, but as far as I have seen, it's quite easy and it has a lot of functions to work on, specially if you are a content writer or a blogger you get a lot of content creation platforms and they are really amazing.\\n\\nThis phone not only for good quality photography but a lot of other task too.😍💯\",\n",
       " \"I'm Really happy with the product\\nDelivery was fast as well\\n..it was a gift for my sister and she loved it so much.\",\n",
       " 'Previously I was using one plus 3t it was a great phone\\nAnd then I decided to upgrade I am stuck between Samsung s10 plus or iPhone 11\\nI have seen the specs and everything were good except the display it’s somewhere between 720-1080 and it’s not even an amoled it’s an LCD display\\nBut I decided to go with iPhone because I have never used an IOS device I have Been an android user from the past 9 years I ordered IPhone 11 (128gb) product red\\nMy experience after using 3 weeks\\n1. The delivery ...\\nREAD MORE',\n",
       " 'I was using Iphone 6s and also Oneplus 6t. Both mobiles were perfectly alright in Photos, gaming, and smooth interface . My 6s mobile getting battery issue. thought upgrade to 11. Really like this mobile of its Internal storage (compare to 6s) , camera and its touch feeling. Its a worth buying mobile for me.',\n",
       " 'Value for money\\n5 star rating\\nExcellent camera\\nBattery backup full day in single charge.\\n\\nTougher and water resistant design, glossy back.\\nThe screen has excellent brightness and contrast.\\nApple A13 Bionic is the fastest smartphone chip on the planet.\\nExcellent battery life, fast charging support.\\nStereo speakers with great quality.',\n",
       " 'What a camera .....just awesome ..you can feel this iPhone just awesome . Good for gaming also ...try pubg in hd it’s just wow',\n",
       " 'Amazing Powerful and Durable Gadget.\\n\\nI’m am very happy with the camera picture quality, Amazing face id unlocked in dark room, Strong battery with perfect screen size as you can carry easily in pocket. This is my third iPhone.\\n\\nI shifted from android Samsung Note series to iPhone because of the strong build quality and peace of mind for next 3-4 years.\\n\\nDon’t think to much just go for it and I suggest you to go for minimum 128gb variant or more 256gb.\\n\\nI’ve attached my puppy pics and no fi...\\nREAD MORE',\n",
       " 'This is my first iOS phone. I am very happy with this product. Very much satisfied with this. I love this phone.',\n",
       " 'Best and amazing product.....phone looks so premium.... battary is also good as expected .... Wide angle camera is so addictive ...if you are a IOS lover....then this phone will be the best choice for you all!!💯🔥',\n",
       " 'It’s a must buy who is looking for an upgrade from previous generation of iPhones. If you are using XR then still you can hold on for sometime and upgrade to 2020 model else this phone is a must buy . Camera quality is amazing and wide angle is something to count upon. Performance wise it’s amazing and feels premium while holding in hand. So a big YES for this device. Go for 128 GB variant as the 4K videos will occupy lots of space and the storage can get over very quickly. Try to buy it with...\\nREAD MORE',\n",
       " 'i11 is worthy to buy, too much happy with the product. Thank u flipkart I received the item on time..loved it..',\n",
       " 'So far it’s been an AMAZING experience coming back to iOS after nearly a decade but it’s not as versatile as android though phone is sturdy dropped it accidentally a couple of times and nothing happened fortunately camera is awesome',\n",
       " 'Value for money❤️❤️\\nIts awesome mobile phone in the world ...\\nDisplay was very good and bright ..\\nTrust me freinds you r never regret after Buying..\\nJust go for it....\\nI love this phone and i switch to iphone x to 11',\n",
       " 'Amazing camera quality as expected, battery also has very good performance. Display, body, and touch experience is the best I’ve ever had. Sound quality of speakers is more than sufficient. Apple is known for it’s customer friendly security services and I can see it how. The A13 processor is the best in its work. So I would definitely recommend it for everyone who are looking for it, just go for it without delay.\\n\\nThe most amazing thing it the delivery. Flipkart has delivered it in the span ...\\nREAD MORE',\n",
       " 'iphone 11 is a very good phone to buy only if you can compromise for the display. The display on this is device is pretty good but you can get other options with better displays in this price segment.\\nIf you can survive with an HD+ LCD panel with thicker bezels and a notch up top then this is a very good phone for you.\\nCameras are awesome, battery backup excellent, great performance and a decent premium look. Good job Apple !',\n",
       " \"Just got this iphone 11\\nAnd it is most powerful mobile phone I have used ever\\n\\nSo,go for it if you want a phone with best specification like camera,battery backup,display, A13 bionic chip\\n\\nThat's my review about this phone but yours can be differ from me....\",\n",
       " 'It is just awesome mobile for this price from Apple,\\n\\nAfter 10 days review\\n\\nBattery enough for 1 day even 24*7 Internet will be on and mostly internet usage\\n\\nCamera is just awesome cool , android 64 MP is equal to this just 12 MP\\n\\nA13 Bionic chip will give more high performance without hanging\\n\\nAudio stereo speakers will give Dolby atoms sound with crystal clear\\n\\nVideo recording is like cinematic shots of every sec can be a 4K 60fps. Just awesome this phone\\niPhone 11 loved one',\n",
       " 'Really satisfied with the Product I received... It’s totally genuine and the packaging was also really good so if ur planning to buy just go for it.',\n",
       " 'Amazing phone with great cameras and better battery which gives you the best performance. I just love the camera .',\n",
       " 'Great iPhone very snappy experience as apple kind. Upgraded from iPhone 7.\\nPros\\n-Camera top class\\n- Battery top performed\\n-Chipset no need to say as apple kind\\n-Security as you expect from apple\\n- Display super bright industry leading colour\\naccuracy and super responsive\\n-Build quality as expect from apple sturdy\\npremium durable beautiful stylish.\\n-Os most stable os in smartphone industry\\n\\nCons\\n-No 5G\\n-Display is not based on OLED technology\\n-Charger headphones and 1 apple stic...\\nREAD MORE',\n",
       " \"It's my first time to use iOS phone and I am loving my upgradation 😍😍 I love the color, I love the assebility of the phone....I need to learn more about its functionality, but as far as I have seen, it's quite easy and it has a lot of functions to work on, specially if you are a content writer or a blogger you get a lot of content creation platforms and they are really amazing.\\n\\nThis phone not only for good quality photography but a lot of other task too.😍💯\",\n",
       " \"I'm Really happy with the product\\nDelivery was fast as well\\n..it was a gift for my sister and she loved it so much.\",\n",
       " 'Previously I was using one plus 3t it was a great phone\\nAnd then I decided to upgrade I am stuck between Samsung s10 plus or iPhone 11\\nI have seen the specs and everything were good except the display it’s somewhere between 720-1080 and it’s not even an amoled it’s an LCD display\\nBut I decided to go with iPhone because I have never used an IOS device I have Been an android user from the past 9 years I ordered IPhone 11 (128gb) product red\\nMy experience after using 3 weeks\\n1. The delivery ...\\nREAD MORE',\n",
       " 'I was using Iphone 6s and also Oneplus 6t. Both mobiles were perfectly alright in Photos, gaming, and smooth interface . My 6s mobile getting battery issue. thought upgrade to 11. Really like this mobile of its Internal storage (compare to 6s) , camera and its touch feeling. Its a worth buying mobile for me.',\n",
       " 'Value for money\\n5 star rating\\nExcellent camera\\nBattery backup full day in single charge.\\n\\nTougher and water resistant design, glossy back.\\nThe screen has excellent brightness and contrast.\\nApple A13 Bionic is the fastest smartphone chip on the planet.\\nExcellent battery life, fast charging support.\\nStereo speakers with great quality.',\n",
       " 'What a camera .....just awesome ..you can feel this iPhone just awesome . Good for gaming also ...try pubg in hd it’s just wow',\n",
       " 'Amazing Powerful and Durable Gadget.\\n\\nI’m am very happy with the camera picture quality, Amazing face id unlocked in dark room, Strong battery with perfect screen size as you can carry easily in pocket. This is my third iPhone.\\n\\nI shifted from android Samsung Note series to iPhone because of the strong build quality and peace of mind for next 3-4 years.\\n\\nDon’t think to much just go for it and I suggest you to go for minimum 128gb variant or more 256gb.\\n\\nI’ve attached my puppy pics and no fi...\\nREAD MORE',\n",
       " 'This is my first iOS phone. I am very happy with this product. Very much satisfied with this. I love this phone.',\n",
       " 'Best and amazing product.....phone looks so premium.... battary is also good as expected .... Wide angle camera is so addictive ...if you are a IOS lover....then this phone will be the best choice for you all!!💯🔥',\n",
       " 'It’s a must buy who is looking for an upgrade from previous generation of iPhones. If you are using XR then still you can hold on for sometime and upgrade to 2020 model else this phone is a must buy . Camera quality is amazing and wide angle is something to count upon. Performance wise it’s amazing and feels premium while holding in hand. So a big YES for this device. Go for 128 GB variant as the 4K videos will occupy lots of space and the storage can get over very quickly. Try to buy it with...\\nREAD MORE',\n",
       " 'i11 is worthy to buy, too much happy with the product. Thank u flipkart I received the item on time..loved it..',\n",
       " 'So far it’s been an AMAZING experience coming back to iOS after nearly a decade but it’s not as versatile as android though phone is sturdy dropped it accidentally a couple of times and nothing happened fortunately camera is awesome',\n",
       " 'Value for money❤️❤️\\nIts awesome mobile phone in the world ...\\nDisplay was very good and bright ..\\nTrust me freinds you r never regret after Buying..\\nJust go for it....\\nI love this phone and i switch to iphone x to 11',\n",
       " 'Amazing camera quality as expected, battery also has very good performance. Display, body, and touch experience is the best I’ve ever had. Sound quality of speakers is more than sufficient. Apple is known for it’s customer friendly security services and I can see it how. The A13 processor is the best in its work. So I would definitely recommend it for everyone who are looking for it, just go for it without delay.\\n\\nThe most amazing thing it the delivery. Flipkart has delivered it in the span ...\\nREAD MORE',\n",
       " 'iphone 11 is a very good phone to buy only if you can compromise for the display. The display on this is device is pretty good but you can get other options with better displays in this price segment.\\nIf you can survive with an HD+ LCD panel with thicker bezels and a notch up top then this is a very good phone for you.\\nCameras are awesome, battery backup excellent, great performance and a decent premium look. Good job Apple !',\n",
       " \"Just got this iphone 11\\nAnd it is most powerful mobile phone I have used ever\\n\\nSo,go for it if you want a phone with best specification like camera,battery backup,display, A13 bionic chip\\n\\nThat's my review about this phone but yours can be differ from me....\",\n",
       " 'It is just awesome mobile for this price from Apple,\\n\\nAfter 10 days review\\n\\nBattery enough for 1 day even 24*7 Internet will be on and mostly internet usage\\n\\nCamera is just awesome cool , android 64 MP is equal to this just 12 MP\\n\\nA13 Bionic chip will give more high performance without hanging\\n\\nAudio stereo speakers will give Dolby atoms sound with crystal clear\\n\\nVideo recording is like cinematic shots of every sec can be a 4K 60fps. Just awesome this phone\\niPhone 11 loved one',\n",
       " 'Really satisfied with the Product I received... It’s totally genuine and the packaging was also really good so if ur planning to buy just go for it.',\n",
       " 'Amazing phone with great cameras and better battery which gives you the best performance. I just love the camera .',\n",
       " 'Great iPhone very snappy experience as apple kind. Upgraded from iPhone 7.\\nPros\\n-Camera top class\\n- Battery top performed\\n-Chipset no need to say as apple kind\\n-Security as you expect from apple\\n- Display super bright industry leading colour\\naccuracy and super responsive\\n-Build quality as expect from apple sturdy\\npremium durable beautiful stylish.\\n-Os most stable os in smartphone industry\\n\\nCons\\n-No 5G\\n-Display is not based on OLED technology\\n-Charger headphones and 1 apple stic...\\nREAD MORE',\n",
       " \"It's my first time to use iOS phone and I am loving my upgradation 😍😍 I love the color, I love the assebility of the phone....I need to learn more about its functionality, but as far as I have seen, it's quite easy and it has a lot of functions to work on, specially if you are a content writer or a blogger you get a lot of content creation platforms and they are really amazing.\\n\\nThis phone not only for good quality photography but a lot of other task too.😍💯\",\n",
       " \"I'm Really happy with the product\\nDelivery was fast as well\\n..it was a gift for my sister and she loved it so much.\",\n",
       " 'Previously I was using one plus 3t it was a great phone\\nAnd then I decided to upgrade I am stuck between Samsung s10 plus or iPhone 11\\nI have seen the specs and everything were good except the display it’s somewhere between 720-1080 and it’s not even an amoled it’s an LCD display\\nBut I decided to go with iPhone because I have never used an IOS device I have Been an android user from the past 9 years I ordered IPhone 11 (128gb) product red\\nMy experience after using 3 weeks\\n1. The delivery ...\\nREAD MORE',\n",
       " 'I was using Iphone 6s and also Oneplus 6t. Both mobiles were perfectly alright in Photos, gaming, and smooth interface . My 6s mobile getting battery issue. thought upgrade to 11. Really like this mobile of its Internal storage (compare to 6s) , camera and its touch feeling. Its a worth buying mobile for me.',\n",
       " 'Value for money\\n5 star rating\\nExcellent camera\\nBattery backup full day in single charge.\\n\\nTougher and water resistant design, glossy back.\\nThe screen has excellent brightness and contrast.\\nApple A13 Bionic is the fastest smartphone chip on the planet.\\nExcellent battery life, fast charging support.\\nStereo speakers with great quality.',\n",
       " 'What a camera .....just awesome ..you can feel this iPhone just awesome . Good for gaming also ...try pubg in hd it’s just wow',\n",
       " 'Amazing Powerful and Durable Gadget.\\n\\nI’m am very happy with the camera picture quality, Amazing face id unlocked in dark room, Strong battery with perfect screen size as you can carry easily in pocket. This is my third iPhone.\\n\\nI shifted from android Samsung Note series to iPhone because of the strong build quality and peace of mind for next 3-4 years.\\n\\nDon’t think to much just go for it and I suggest you to go for minimum 128gb variant or more 256gb.\\n\\nI’ve attached my puppy pics and no fi...\\nREAD MORE',\n",
       " 'This is my first iOS phone. I am very happy with this product. Very much satisfied with this. I love this phone.',\n",
       " 'Best and amazing product.....phone looks so premium.... battary is also good as expected .... Wide angle camera is so addictive ...if you are a IOS lover....then this phone will be the best choice for you all!!💯🔥',\n",
       " 'It’s a must buy who is looking for an upgrade from previous generation of iPhones. If you are using XR then still you can hold on for sometime and upgrade to 2020 model else this phone is a must buy . Camera quality is amazing and wide angle is something to count upon. Performance wise it’s amazing and feels premium while holding in hand. So a big YES for this device. Go for 128 GB variant as the 4K videos will occupy lots of space and the storage can get over very quickly. Try to buy it with...\\nREAD MORE',\n",
       " 'i11 is worthy to buy, too much happy with the product. Thank u flipkart I received the item on time..loved it..',\n",
       " 'So far it’s been an AMAZING experience coming back to iOS after nearly a decade but it’s not as versatile as android though phone is sturdy dropped it accidentally a couple of times and nothing happened fortunately camera is awesome',\n",
       " 'Value for money❤️❤️\\nIts awesome mobile phone in the world ...\\nDisplay was very good and bright ..\\nTrust me freinds you r never regret after Buying..\\nJust go for it....\\nI love this phone and i switch to iphone x to 11',\n",
       " 'Amazing camera quality as expected, battery also has very good performance. Display, body, and touch experience is the best I’ve ever had. Sound quality of speakers is more than sufficient. Apple is known for it’s customer friendly security services and I can see it how. The A13 processor is the best in its work. So I would definitely recommend it for everyone who are looking for it, just go for it without delay.\\n\\nThe most amazing thing it the delivery. Flipkart has delivered it in the span ...\\nREAD MORE',\n",
       " 'iphone 11 is a very good phone to buy only if you can compromise for the display. The display on this is device is pretty good but you can get other options with better displays in this price segment.\\nIf you can survive with an HD+ LCD panel with thicker bezels and a notch up top then this is a very good phone for you.\\nCameras are awesome, battery backup excellent, great performance and a decent premium look. Good job Apple !',\n",
       " \"Just got this iphone 11\\nAnd it is most powerful mobile phone I have used ever\\n\\nSo,go for it if you want a phone with best specification like camera,battery backup,display, A13 bionic chip\\n\\nThat's my review about this phone but yours can be differ from me....\",\n",
       " 'It is just awesome mobile for this price from Apple,\\n\\nAfter 10 days review\\n\\nBattery enough for 1 day even 24*7 Internet will be on and mostly internet usage\\n\\nCamera is just awesome cool , android 64 MP is equal to this just 12 MP\\n\\nA13 Bionic chip will give more high performance without hanging\\n\\nAudio stereo speakers will give Dolby atoms sound with crystal clear\\n\\nVideo recording is like cinematic shots of every sec can be a 4K 60fps. Just awesome this phone\\niPhone 11 loved one']"
      ]
     },
     "execution_count": 213,
     "metadata": {},
     "output_type": "execute_result"
    }
   ],
   "source": [
    "Iphone_Full_review"
   ]
  },
  {
   "cell_type": "code",
   "execution_count": null,
   "id": "f3845149",
   "metadata": {},
   "outputs": [],
   "source": []
  },
  {
   "cell_type": "raw",
   "id": "215750e0",
   "metadata": {},
   "source": [
    "Question-6"
   ]
  },
  {
   "cell_type": "raw",
   "id": "041df334",
   "metadata": {},
   "source": [
    "Q6: Scrape data forfirst 100 sneakers you find when you visit flipkart.com and search for “sneakers” in the \n",
    "search field.\n",
    "You have to scrape 3 attributes of each sneaker:\n",
    "1. Brand\n",
    "2. ProductDescription\n",
    "3. Price"
   ]
  },
  {
   "cell_type": "code",
   "execution_count": 285,
   "id": "290568be",
   "metadata": {},
   "outputs": [],
   "source": [
    "driver=webdriver.Chrome(r\"chromedriver.exe\")"
   ]
  },
  {
   "cell_type": "code",
   "execution_count": 286,
   "id": "b07554f0",
   "metadata": {},
   "outputs": [],
   "source": [
    "driver.get(\"https://www.flipkart.com/\")"
   ]
  },
  {
   "cell_type": "code",
   "execution_count": 287,
   "id": "e08d21e5",
   "metadata": {},
   "outputs": [],
   "source": [
    "designation=driver.find_element(By.CLASS_NAME,\"_3704LK\")\n",
    "designation.send_keys('sneakers')"
   ]
  },
  {
   "cell_type": "code",
   "execution_count": 288,
   "id": "9fecafc2",
   "metadata": {},
   "outputs": [],
   "source": [
    "search=driver.find_element(By.CLASS_NAME,\"_34RNph\")\n",
    "search.click()"
   ]
  },
  {
   "cell_type": "code",
   "execution_count": 289,
   "id": "4e72efde",
   "metadata": {},
   "outputs": [],
   "source": [
    "Sneakers_Brand=[]\n",
    "Sneakers_Price=[]\n",
    "Sneakers_Description=[]"
   ]
  },
  {
   "cell_type": "code",
   "execution_count": 259,
   "id": "c1ff47ce",
   "metadata": {},
   "outputs": [],
   "source": [
    "Sneakers_Brand=[]\n",
    "start=0\n",
    "end=3\n",
    "for page in range(start,end):\n",
    "    Sneaker=driver.find_elements(By.XPATH,'//div[@class=\"_2WkVRV\"]')\n",
    "    for i in Sneaker:\n",
    "        Sneakers_Brand.append(i.text)\n",
    "    next_button=driver.find_element(By.XPATH,'//a[@class=\"_1LKTO3\"]')\n",
    "    next_button.click()\n",
    "    time.sleep(5)"
   ]
  },
  {
   "cell_type": "code",
   "execution_count": 260,
   "id": "997c8de1",
   "metadata": {},
   "outputs": [
    {
     "data": {
      "text/plain": [
       "120"
      ]
     },
     "execution_count": 260,
     "metadata": {},
     "output_type": "execute_result"
    }
   ],
   "source": [
    "len(Sneakers_Brand)"
   ]
  },
  {
   "cell_type": "code",
   "execution_count": 261,
   "id": "2314bfce",
   "metadata": {},
   "outputs": [],
   "source": [
    "Sneakers_Price=[]\n",
    "start=0\n",
    "end=3\n",
    "for page in range(start,end):\n",
    "    SneakerP=driver.find_elements(By.XPATH,'//div[@class=\"_30jeq3\"]')\n",
    "    for i in SneakerP:\n",
    "        Sneakers_Price.append(i.text)\n",
    "    next_button=driver.find_element(By.XPATH,'//a[@class=\"_1LKTO3\"]')\n",
    "    next_button.click()\n",
    "    time.sleep(5)"
   ]
  },
  {
   "cell_type": "code",
   "execution_count": 262,
   "id": "ce0a4f61",
   "metadata": {},
   "outputs": [
    {
     "data": {
      "text/plain": [
       "120"
      ]
     },
     "execution_count": 262,
     "metadata": {},
     "output_type": "execute_result"
    }
   ],
   "source": [
    "len(Sneakers_Price)"
   ]
  },
  {
   "cell_type": "code",
   "execution_count": 281,
   "id": "32cbeae9",
   "metadata": {},
   "outputs": [],
   "source": [
    "URL_Sneaker= []\n",
    "start=0\n",
    "end=3\n",
    "\n",
    "for page in range(start,end):\n",
    "    url1=driver.find_elements(By.XPATH,'//a[@class=\"IRpwTa\"]')\n",
    "    for i in url1:\n",
    "        URL_Sneaker.append(i.get_attribute('href'))\n",
    "    next_button=driver.find_elements(By.XPATH,'/html/body/div[1]/div/div[3]/div[1]/div[2]/div[12]/div/div/nav/a[11]')   "
   ]
  },
  {
   "cell_type": "code",
   "execution_count": 282,
   "id": "5a37e06e",
   "metadata": {},
   "outputs": [
    {
     "data": {
      "text/plain": [
       "['https://www.flipkart.com/airson-junior-zero1-sports-sneakers-men-running-gym-training-walking-shoes/p/itm8a937516b3153?pid=SHOGMYDQC9WUVZUY&lid=LSTSHOGMYDQC9WUVZUYZBNAKV&marketplace=FLIPKART&q=sneakers&store=osp&srno=s_1_1&otracker=search&otracker1=search&fm=Search&iid=en_d%2FKn6yHDQ80d5Dx5VzUoKJ84EEgya2UeQa2xBLyiXgqBG273JOJ3nLYvepwZ9wAHQacBc5OyI17HOIC9WzCmkw%3D%3D&ppt=sp&ppn=sp&ssid=igwgopey0w0000001686490738060&qH=a1743c0d39461290',\n",
       " 'https://www.flipkart.com/world-wear-footwear-trendy-stylish-comfortable-lightweight-casual-high-tops-sneakers-shoes-men/p/itm98336ff1bad6e?pid=SHOGFYMCTQ2JJBTZ&lid=LSTSHOGFYMCTQ2JJBTZV2EKCQ&marketplace=FLIPKART&q=sneakers&store=osp&srno=s_1_2&otracker=search&otracker1=search&fm=Search&iid=en_d%2FKn6yHDQ80d5Dx5VzUoKJ84EEgya2UeQa2xBLyiXgpmkTWYdn%2BYJHlMmXf4%2FWz8WccdlDG8qJOP4OeVgwIvug%3D%3D&ppt=sp&ppn=sp&ssid=igwgopey0w0000001686490738060&qH=a1743c0d39461290',\n",
       " 'https://www.flipkart.com/layasa-sneakers-men/p/itm033899612ce4c?pid=SHOGHK9SPMVG59HB&lid=LSTSHOGHK9SPMVG59HBKS49E8&marketplace=FLIPKART&q=sneakers&store=osp&srno=s_1_3&otracker=search&otracker1=search&fm=Search&iid=04719673-82e9-4289-b1f5-5633c7df15fe.SHOGHK9SPMVG59HB.SEARCH&ppt=sp&ppn=sp&ssid=igwgopey0w0000001686490738060&qH=a1743c0d39461290',\n",
       " 'https://www.flipkart.com/liberty-jump-02-sneakers-men/p/itm1cf16c7c3d837?pid=SHOGGMR3CFQNZWFY&lid=LSTSHOGGMR3CFQNZWFYP3XHU0&marketplace=FLIPKART&q=sneakers&store=osp&srno=s_1_4&otracker=search&otracker1=search&fm=Search&iid=04719673-82e9-4289-b1f5-5633c7df15fe.SHOGGMR3CFQNZWFY.SEARCH&ppt=sp&ppn=sp&ssid=igwgopey0w0000001686490738060&qH=a1743c0d39461290',\n",
       " 'https://www.flipkart.com/asian-thunder-01-white-color-change-sneakers-casuals-loafer-sneakers-men/p/itm5a5bd3b7ba955?pid=SHOGN5AF3J7ZBA27&lid=LSTSHOGN5AF3J7ZBA27Q6YDOK&marketplace=FLIPKART&q=sneakers&store=osp&spotlightTagId=BestsellerId_osp&srno=s_1_5&otracker=search&otracker1=search&fm=search-autosuggest&iid=04719673-82e9-4289-b1f5-5633c7df15fe.SHOGN5AF3J7ZBA27.SEARCH&ppt=sp&ppn=sp&ssid=igwgopey0w0000001686490738060&qH=a1743c0d39461290',\n",
       " 'https://www.flipkart.com/birde-combo-pack-2-casual-shoes-sneakers-men/p/itm93aa075293535?pid=SHOGHYWHG2BZ9R9H&lid=LSTSHOGHYWHG2BZ9R9HCT4WWB&marketplace=FLIPKART&q=sneakers&store=osp&srno=s_1_6&otracker=search&otracker1=search&fm=search-autosuggest&iid=04719673-82e9-4289-b1f5-5633c7df15fe.SHOGHYWHG2BZ9R9H.SEARCH&ppt=sp&ppn=sp&ssid=igwgopey0w0000001686490738060&qH=a1743c0d39461290',\n",
       " 'https://www.flipkart.com/robbie-jones-casual-sneakers-shoes-men-boys/p/itmb460ca0260dd0?pid=SHOG3DK2EJCX8GWM&lid=LSTSHOG3DK2EJCX8GWMLFBWR2&marketplace=FLIPKART&q=sneakers&store=osp&srno=s_1_8&otracker=search&otracker1=search&fm=search-autosuggest&iid=en_d%2FKn6yHDQ80d5Dx5VzUoKJ84EEgya2UeQa2xBLyiXgqSTp5yZS%2FgAm2Ps3UqSW6L3%2FFDrSq56zcukV8RCij89A%3D%3D&ppt=sp&ppn=sp&ssid=igwgopey0w0000001686490738060&qH=a1743c0d39461290',\n",
       " 'https://www.flipkart.com/layasa-sneakers-men/p/itm4bfb14824c769?pid=SHOGBHR8BQKGZT7R&lid=LSTSHOGBHR8BQKGZT7RKO77VQ&marketplace=FLIPKART&q=sneakers&store=osp&srno=s_1_9&otracker=search&otracker1=search&fm=search-autosuggest&iid=04719673-82e9-4289-b1f5-5633c7df15fe.SHOGBHR8BQKGZT7R.SEARCH&ppt=sp&ppn=sp&ssid=igwgopey0w0000001686490738060&qH=a1743c0d39461290',\n",
       " 'https://www.flipkart.com/aadi-lightweight-comfort-summer-trendy-walking-outdoor-stylish-training-daily-use-sneakers-men/p/itma442bf9226209?pid=SHOGMYMKPBWAXB4K&lid=LSTSHOGMYMKPBWAXB4KZIW0ZG&marketplace=FLIPKART&q=sneakers&store=osp&srno=s_1_10&otracker=search&otracker1=search&fm=search-autosuggest&iid=04719673-82e9-4289-b1f5-5633c7df15fe.SHOGMYMKPBWAXB4K.SEARCH&ppt=sp&ppn=sp&ssid=igwgopey0w0000001686490738060&qH=a1743c0d39461290',\n",
       " 'https://www.flipkart.com/robbie-jones-casual-sneakers-white-shoes-men/p/itm1cd015e596af2?pid=SHOG3HTSZWEKKAZM&lid=LSTSHOG3HTSZWEKKAZMWWX3VX&marketplace=FLIPKART&q=sneakers&store=osp&srno=s_1_11&otracker=search&otracker1=search&fm=search-autosuggest&iid=en_d%2FKn6yHDQ80d5Dx5VzUoKJ84EEgya2UeQa2xBLyiXgrm%2FqB51VL7nRBrOVxU5NMX065S8NmLx5klQ5cIcmoz2w%3D%3D&ppt=sp&ppn=sp&ssid=igwgopey0w0000001686490738060&qH=a1743c0d39461290',\n",
       " 'https://www.flipkart.com/robbie-jones-casual-sneakers-shoes-men-boys/p/itm63089f27865b6?pid=SHOG3FFG5CDVGZWG&lid=LSTSHOG3FFG5CDVGZWGEFMCGK&marketplace=FLIPKART&q=sneakers&store=osp&srno=s_1_12&otracker=search&otracker1=search&fm=search-autosuggest&iid=en_d%2FKn6yHDQ80d5Dx5VzUoKJ84EEgya2UeQa2xBLyiXgr0pScArheJ5wsyXOve0XkiW5bmEBjh6RrwGm4s79NS8Q%3D%3D&ppt=sp&ppn=sp&ssid=igwgopey0w0000001686490738060&qH=a1743c0d39461290',\n",
       " 'https://www.flipkart.com/liberty-jump-02-sneakers-men/p/itm5d213d5f8de3d?pid=SHOGGMR3QUTSASY8&lid=LSTSHOGGMR3QUTSASY8REJWJL&marketplace=FLIPKART&q=sneakers&store=osp&srno=s_1_13&otracker=search&otracker1=search&fm=search-autosuggest&iid=04719673-82e9-4289-b1f5-5633c7df15fe.SHOGGMR3QUTSASY8.SEARCH&ppt=sp&ppn=sp&ssid=igwgopey0w0000001686490738060&qH=a1743c0d39461290',\n",
       " 'https://www.flipkart.com/shozie-stylish-walking-partywear-sneakers-casual-shoes-women/p/itma93ebdf084596?pid=SHOGEGDBJWNH5TNQ&lid=LSTSHOGEGDBJWNH5TNQUANG1Z&marketplace=FLIPKART&q=sneakers&store=osp&srno=s_1_14&otracker=search&otracker1=search&fm=search-autosuggest&iid=04719673-82e9-4289-b1f5-5633c7df15fe.SHOGEGDBJWNH5TNQ.SEARCH&ppt=sp&ppn=sp&ssid=igwgopey0w0000001686490738060&qH=a1743c0d39461290',\n",
       " 'https://www.flipkart.com/liberty-jump-02-sneakers-men/p/itm18dab062caaa1?pid=SHOGGMR3AE5YDY5U&lid=LSTSHOGGMR3AE5YDY5UPJZREE&marketplace=FLIPKART&q=sneakers&store=osp&srno=s_1_15&otracker=search&otracker1=search&fm=search-autosuggest&iid=04719673-82e9-4289-b1f5-5633c7df15fe.SHOGGMR3AE5YDY5U.SEARCH&ppt=sp&ppn=sp&ssid=igwgopey0w0000001686490738060&qH=a1743c0d39461290',\n",
       " 'https://www.flipkart.com/kraasa-sneakers-women/p/itm414d255dba994?pid=SHOGEXNFPZHSWVRW&lid=LSTSHOGEXNFPZHSWVRW7NYNMM&marketplace=FLIPKART&q=sneakers&store=osp&srno=s_1_16&otracker=search&otracker1=search&fm=search-autosuggest&iid=04719673-82e9-4289-b1f5-5633c7df15fe.SHOGEXNFPZHSWVRW.SEARCH&ppt=sp&ppn=sp&ssid=igwgopey0w0000001686490738060&qH=a1743c0d39461290',\n",
       " 'https://www.flipkart.com/robbie-jones-sneakers-men/p/itmf729cda1a580d?pid=SHOG6YH4JDYZKGGJ&lid=LSTSHOG6YH4JDYZKGGJQG5RSU&marketplace=FLIPKART&q=sneakers&store=osp&srno=s_1_17&otracker=search&otracker1=search&fm=search-autosuggest&iid=en_d%2FKn6yHDQ80d5Dx5VzUoKJ84EEgya2UeQa2xBLyiXgrnW3k4IW4gDtg7LiI88qLyyzD7daHhQP7cC6pSmRBzrw%3D%3D&ppt=sp&ppn=sp&ssid=igwgopey0w0000001686490738060&qH=a1743c0d39461290',\n",
       " 'https://www.flipkart.com/birde-premium-white-sneakers-women/p/itm63af2361b1952?pid=SHOGK7UH6J8J3FFZ&lid=LSTSHOGK7UH6J8J3FFZUXEEFD&marketplace=FLIPKART&q=sneakers&store=osp&srno=s_1_18&otracker=search&otracker1=search&fm=search-autosuggest&iid=en_d%2FKn6yHDQ80d5Dx5VzUoKJ84EEgya2UeQa2xBLyiXgrzUJa9DvqahFTfUwF2w9ePJgfvmEUOiaFVQ7BNXzp4BQ%3D%3D&ppt=sp&ppn=sp&ssid=igwgopey0w0000001686490738060&qH=a1743c0d39461290',\n",
       " 'https://www.flipkart.com/asian-men-s-running-shoes-sneakers-men/p/itm659b44f291cfa?pid=SHOGP7KUEU7T7PZZ&lid=LSTSHOGP7KUEU7T7PZZLETE8H&marketplace=FLIPKART&q=sneakers&store=osp&srno=s_1_19&otracker=search&otracker1=search&fm=search-autosuggest&iid=04719673-82e9-4289-b1f5-5633c7df15fe.SHOGP7KUEU7T7PZZ.SEARCH&ppt=sp&ppn=sp&ssid=igwgopey0w0000001686490738060&qH=a1743c0d39461290',\n",
       " 'https://www.flipkart.com/kraasa-casuals-canvas-partywear-sneakers-men/p/itm3b6ebb856eb64?pid=SHOFGGF7GVP9C2Q6&lid=LSTSHOFGGF7GVP9C2Q6ZXHY8F&marketplace=FLIPKART&q=sneakers&store=osp&srno=s_1_20&otracker=search&otracker1=search&fm=search-autosuggest&iid=04719673-82e9-4289-b1f5-5633c7df15fe.SHOFGGF7GVP9C2Q6.SEARCH&ppt=sp&ppn=sp&ssid=igwgopey0w0000001686490738060&qH=a1743c0d39461290',\n",
       " 'https://www.flipkart.com/lejano-sneakers-men/p/itmcd653eb77401f?pid=SHOGH4DVFXVQDGUV&lid=LSTSHOGH4DVFXVQDGUVJUAYPH&marketplace=FLIPKART&q=sneakers&store=osp&srno=s_1_21&otracker=search&otracker1=search&fm=search-autosuggest&iid=en_d%2FKn6yHDQ80d5Dx5VzUoKJ84EEgya2UeQa2xBLyiXgop2kDiUEgH6RkuidpCA7QW1VICaW7B99oMArLT4Ng%2BTg%3D%3D&ppt=sp&ppn=sp&ssid=igwgopey0w0000001686490738060&qH=a1743c0d39461290',\n",
       " 'https://www.flipkart.com/k-footlance-modern-trendy-sneakers-boot-men/p/itm42e888af5ec2e?pid=SHOGG5925XAJYY7C&lid=LSTSHOGG5925XAJYY7CEZS4AZ&marketplace=FLIPKART&q=sneakers&store=osp&srno=s_1_22&otracker=search&otracker1=search&fm=search-autosuggest&iid=en_d%2FKn6yHDQ80d5Dx5VzUoKJ84EEgya2UeQa2xBLyiXgrWDXDkVUqWdI8%2FH%2FKTpagmJXSA6daDHXNjzzR1YxJe1A%3D%3D&ppt=sp&ppn=sp&ssid=igwgopey0w0000001686490738060&qH=a1743c0d39461290',\n",
       " 'https://www.flipkart.com/birde-combo-pack-2-casual-shoes-sneakers-men/p/itm9470c144c4484?pid=SHOGMHKYH4EWW4GY&lid=LSTSHOGMHKYH4EWW4GYZBJ5KZ&marketplace=FLIPKART&q=sneakers&store=osp&srno=s_1_23&otracker=search&otracker1=search&fm=search-autosuggest&iid=04719673-82e9-4289-b1f5-5633c7df15fe.SHOGMHKYH4EWW4GY.SEARCH&ppt=sp&ppn=sp&ssid=igwgopey0w0000001686490738060&qH=a1743c0d39461290',\n",
       " 'https://www.flipkart.com/aadi-lightweight-comfort-summer-trendy-walking-outdoor-stylish-training-daily-use-sneakers-men/p/itm62a28aae2ef59?pid=SHOGMYMRUZHD2AYR&lid=LSTSHOGMYMRUZHD2AYR9UFN94&marketplace=FLIPKART&q=sneakers&store=osp&srno=s_1_24&otracker=search&otracker1=search&fm=search-autosuggest&iid=04719673-82e9-4289-b1f5-5633c7df15fe.SHOGMYMRUZHD2AYR.SEARCH&ppt=sp&ppn=sp&ssid=igwgopey0w0000001686490738060&qH=a1743c0d39461290',\n",
       " 'https://www.flipkart.com/bruton-modern-trendy-shoes-sneakers-men/p/itm6036f913ec47f?pid=SHOG293HAHJ9HCTE&lid=LSTSHOG293HAHJ9HCTEQD9JPA&marketplace=FLIPKART&q=sneakers&store=osp&srno=s_1_25&otracker=search&otracker1=search&fm=search-autosuggest&iid=04719673-82e9-4289-b1f5-5633c7df15fe.SHOG293HAHJ9HCTE.SEARCH&ppt=sp&ppn=sp&ssid=igwgopey0w0000001686490738060&qH=a1743c0d39461290',\n",
       " 'https://www.flipkart.com/hrx-hrithik-roshan-men-retro-basket-ball-sneakers/p/itmf879ea64632cd?pid=SHOFZYWWZGRYHYPJ&lid=LSTSHOFZYWWZGRYHYPJ63UL2K&marketplace=FLIPKART&q=sneakers&store=osp&srno=s_1_26&otracker=search&otracker1=search&fm=search-autosuggest&iid=04719673-82e9-4289-b1f5-5633c7df15fe.SHOFZYWWZGRYHYPJ.SEARCH&ppt=sp&ppn=sp&ssid=igwgopey0w0000001686490738060&qH=a1743c0d39461290',\n",
       " 'https://www.flipkart.com/bruton-2-combo-sneaker-shoes-sneakers-men/p/itm0c547953aedf0?pid=SHOGG9ZUUCBQK73Z&lid=LSTSHOGG9ZUUCBQK73Z0QVA9W&marketplace=FLIPKART&q=sneakers&store=osp&srno=s_1_27&otracker=search&otracker1=search&fm=search-autosuggest&iid=en_d%2FKn6yHDQ80d5Dx5VzUoKJ84EEgya2UeQa2xBLyiXgrQCZG97ptgCy1FyDOBc1MM%2BT%2FbZUmGIV3gX4fHqG4X%2Bg%3D%3D&ppt=sp&ppn=sp&ssid=igwgopey0w0000001686490738060&qH=a1743c0d39461290',\n",
       " 'https://www.flipkart.com/lee-won-sneakers-men/p/itma51238bb01f4f?pid=SHOFYYKFB7HNTHVD&lid=LSTSHOFYYKFB7HNTHVDCK71WE&marketplace=FLIPKART&q=sneakers&store=osp&srno=s_1_28&otracker=search&otracker1=search&fm=search-autosuggest&iid=en_d%2FKn6yHDQ80d5Dx5VzUoKJ84EEgya2UeQa2xBLyiXgpbcFtYVlew1f4TCoygN0b86aQGYX%2FhvY3Js8vwW9RRSw%3D%3D&ppt=sp&ppn=sp&ssid=igwgopey0w0000001686490738060&qH=a1743c0d39461290',\n",
       " 'https://www.flipkart.com/hotstyle-combo-pack-2-sneakers-men/p/itm09a2ff408f8de?pid=SHOGZU9PDQCEWAXH&lid=LSTSHOGZU9PDQCEWAXHWDAIVK&marketplace=FLIPKART&q=sneakers&store=osp&spotlightTagId=FkPickId_osp&srno=s_1_29&otracker=search&otracker1=search&fm=search-autosuggest&iid=04719673-82e9-4289-b1f5-5633c7df15fe.SHOGZU9PDQCEWAXH.SEARCH&ppt=sp&ppn=sp&ssid=igwgopey0w0000001686490738060&qH=a1743c0d39461290',\n",
       " 'https://www.flipkart.com/brainer-sneakers-men/p/itm779f7b528005c?pid=SHOGDEANSDMSYHFP&lid=LSTSHOGDEANSDMSYHFPXLNWZZ&marketplace=FLIPKART&q=sneakers&store=osp&srno=s_1_30&otracker=search&otracker1=search&fm=search-autosuggest&iid=04719673-82e9-4289-b1f5-5633c7df15fe.SHOGDEANSDMSYHFP.SEARCH&ppt=sp&ppn=sp&ssid=igwgopey0w0000001686490738060&qH=a1743c0d39461290',\n",
       " 'https://www.flipkart.com/rapidbox-sneakers-men/p/itm3e9655a4a9be5?pid=SHOG6WUHWE3CQCGW&lid=LSTSHOG6WUHWE3CQCGWKTSX7C&marketplace=FLIPKART&q=sneakers&store=osp&srno=s_1_31&otracker=search&otracker1=search&fm=search-autosuggest&iid=en_d%2FKn6yHDQ80d5Dx5VzUoKJ84EEgya2UeQa2xBLyiXgpD801hT4KHyT4wJDhCXW62gs1pd9uKHh373ZKpYd4atw%3D%3D&ppt=sp&ppn=sp&ssid=igwgopey0w0000001686490738060&qH=a1743c0d39461290',\n",
       " 'https://www.flipkart.com/sfr-mid-top-combo-pack-02-pairs-lace-ups-trainer-shoes-sneakers-men/p/itm073f86826f4a2?pid=SHOGGF8KMDKHFZCY&lid=LSTSHOGGF8KMDKHFZCYXI9R1U&marketplace=FLIPKART&q=sneakers&store=osp&srno=s_1_32&otracker=search&otracker1=search&fm=search-autosuggest&iid=en_d%2FKn6yHDQ80d5Dx5VzUoKJ84EEgya2UeQa2xBLyiXgr8zQ%2B3Dtru%2FWkSkHc6WTofMGSU84Grw0owLYdDLUizPA%3D%3D&ppt=sp&ppn=sp&ssid=igwgopey0w0000001686490738060&qH=a1743c0d39461290',\n",
       " 'https://www.flipkart.com/asian-sm-162-black-walking-training-sneakers-loafers-canvas-casual-shoes-sneakers-sneakers-men/p/itmf428qrhbxddvd?pid=SHOF42FKWTSZJS4G&lid=LSTSHOF42FKWTSZJS4GCAGAFV&marketplace=FLIPKART&q=sneakers&store=osp&srno=s_1_33&otracker=search&otracker1=search&fm=search-autosuggest&iid=04719673-82e9-4289-b1f5-5633c7df15fe.SHOF42FKWTSZJS4G.SEARCH&ppt=sp&ppn=sp&ssid=igwgopey0w0000001686490738060&qH=a1743c0d39461290',\n",
       " 'https://www.flipkart.com/white-walkers-stylish-trending-outdoor-walking-comfortable-sneakers-men/p/itmb05f2f0511794?pid=SHOG5Y96BZZTPGVM&lid=LSTSHOG5Y96BZZTPGVMV3RB2L&marketplace=FLIPKART&q=sneakers&store=osp&srno=s_1_34&otracker=search&otracker1=search&fm=search-autosuggest&iid=04719673-82e9-4289-b1f5-5633c7df15fe.SHOG5Y96BZZTPGVM.SEARCH&ppt=sp&ppn=sp&ssid=igwgopey0w0000001686490738060&qH=a1743c0d39461290',\n",
       " 'https://www.flipkart.com/puma-hustle-v2-sneakers-men/p/itm7827dd756c4f3?pid=SHOG4JEYSTAUAVEG&lid=LSTSHOG4JEYSTAUAVEGRLHYO5&marketplace=FLIPKART&q=sneakers&store=osp&srno=s_1_36&otracker=search&otracker1=search&fm=search-autosuggest&iid=04719673-82e9-4289-b1f5-5633c7df15fe.SHOG4JEYSTAUAVEG.SEARCH&ppt=sp&ppn=sp&ssid=igwgopey0w0000001686490738060&qH=a1743c0d39461290',\n",
       " 'https://www.flipkart.com/bruton-2-combo-sneaker-shoes-sneakers-men/p/itme81ecdf46c4a5?pid=SHOGG9HUP8GTYHPV&lid=LSTSHOGG9HUP8GTYHPVZQNRQJ&marketplace=FLIPKART&q=sneakers&store=osp&srno=s_1_37&otracker=search&otracker1=search&fm=search-autosuggest&iid=en_d%2FKn6yHDQ80d5Dx5VzUoKJ84EEgya2UeQa2xBLyiXgqV%2Ft75VL5C8qLLX4ACjSn015vf%2FXdlrFpoolPjbeicrA%3D%3D&ppt=sp&ppn=sp&ssid=igwgopey0w0000001686490738060&qH=a1743c0d39461290',\n",
       " 'https://www.flipkart.com/wugatti-new-fashion-outdoor-trendy-lightweight-casual-stylish-jordan-high-ankle-boot-sneakers-men/p/itm7797d6b44965c?pid=SHOGN8ZFTKV5ZY4Y&lid=LSTSHOGN8ZFTKV5ZY4YVWQ2PD&marketplace=FLIPKART&q=sneakers&store=osp&srno=s_1_38&otracker=search&otracker1=search&fm=search-autosuggest&iid=en_d%2FKn6yHDQ80d5Dx5VzUoKJ84EEgya2UeQa2xBLyiXgoK3NgFjjw5f0zM8MWbgnm8UCBdn4JGf%2Fm9NSSmLBPD%2Bg%3D%3D&ppt=sp&ppn=sp&ssid=igwgopey0w0000001686490738060&qH=a1743c0d39461290',\n",
       " 'https://www.flipkart.com/puma-hustle-v2-sneakers-men/p/itm0a2e21e25e27c?pid=SHOG4JEYNZSDJFFT&lid=LSTSHOG4JEYNZSDJFFTUKY6CQ&marketplace=FLIPKART&q=sneakers&store=osp&srno=s_1_39&otracker=search&otracker1=search&fm=search-autosuggest&iid=04719673-82e9-4289-b1f5-5633c7df15fe.SHOG4JEYNZSDJFFT.SEARCH&ppt=sp&ppn=sp&ssid=igwgopey0w0000001686490738060&qH=a1743c0d39461290',\n",
       " 'https://www.flipkart.com/asian-men-s-w-05-casual-white-sneaker-shoes-waterproof-synthetic-upper-sneakers-men/p/itm030b374a7fff9?pid=SHOG6YHFFZR7P7HH&lid=LSTSHOG6YHFFZR7P7HHQ88FLV&marketplace=FLIPKART&q=sneakers&store=osp&srno=s_1_40&otracker=search&otracker1=search&fm=search-autosuggest&iid=04719673-82e9-4289-b1f5-5633c7df15fe.SHOG6YHFFZR7P7HH.SEARCH&ppt=sp&ppn=sp&ssid=igwgopey0w0000001686490738060&qH=a1743c0d39461290',\n",
       " 'https://www.flipkart.com/airson-junior-zero1-sports-sneakers-men-running-gym-training-walking-shoes/p/itm8a937516b3153?pid=SHOGMYDQC9WUVZUY&lid=LSTSHOGMYDQC9WUVZUYZBNAKV&marketplace=FLIPKART&q=sneakers&store=osp&srno=s_1_1&otracker=search&otracker1=search&fm=Search&iid=en_d%2FKn6yHDQ80d5Dx5VzUoKJ84EEgya2UeQa2xBLyiXgqBG273JOJ3nLYvepwZ9wAHQacBc5OyI17HOIC9WzCmkw%3D%3D&ppt=sp&ppn=sp&ssid=igwgopey0w0000001686490738060&qH=a1743c0d39461290',\n",
       " 'https://www.flipkart.com/world-wear-footwear-trendy-stylish-comfortable-lightweight-casual-high-tops-sneakers-shoes-men/p/itm98336ff1bad6e?pid=SHOGFYMCTQ2JJBTZ&lid=LSTSHOGFYMCTQ2JJBTZV2EKCQ&marketplace=FLIPKART&q=sneakers&store=osp&srno=s_1_2&otracker=search&otracker1=search&fm=Search&iid=en_d%2FKn6yHDQ80d5Dx5VzUoKJ84EEgya2UeQa2xBLyiXgpmkTWYdn%2BYJHlMmXf4%2FWz8WccdlDG8qJOP4OeVgwIvug%3D%3D&ppt=sp&ppn=sp&ssid=igwgopey0w0000001686490738060&qH=a1743c0d39461290',\n",
       " 'https://www.flipkart.com/layasa-sneakers-men/p/itm033899612ce4c?pid=SHOGHK9SPMVG59HB&lid=LSTSHOGHK9SPMVG59HBKS49E8&marketplace=FLIPKART&q=sneakers&store=osp&srno=s_1_3&otracker=search&otracker1=search&fm=Search&iid=04719673-82e9-4289-b1f5-5633c7df15fe.SHOGHK9SPMVG59HB.SEARCH&ppt=sp&ppn=sp&ssid=igwgopey0w0000001686490738060&qH=a1743c0d39461290',\n",
       " 'https://www.flipkart.com/liberty-jump-02-sneakers-men/p/itm1cf16c7c3d837?pid=SHOGGMR3CFQNZWFY&lid=LSTSHOGGMR3CFQNZWFYP3XHU0&marketplace=FLIPKART&q=sneakers&store=osp&srno=s_1_4&otracker=search&otracker1=search&fm=Search&iid=04719673-82e9-4289-b1f5-5633c7df15fe.SHOGGMR3CFQNZWFY.SEARCH&ppt=sp&ppn=sp&ssid=igwgopey0w0000001686490738060&qH=a1743c0d39461290',\n",
       " 'https://www.flipkart.com/asian-thunder-01-white-color-change-sneakers-casuals-loafer-sneakers-men/p/itm5a5bd3b7ba955?pid=SHOGN5AF3J7ZBA27&lid=LSTSHOGN5AF3J7ZBA27Q6YDOK&marketplace=FLIPKART&q=sneakers&store=osp&spotlightTagId=BestsellerId_osp&srno=s_1_5&otracker=search&otracker1=search&fm=search-autosuggest&iid=04719673-82e9-4289-b1f5-5633c7df15fe.SHOGN5AF3J7ZBA27.SEARCH&ppt=sp&ppn=sp&ssid=igwgopey0w0000001686490738060&qH=a1743c0d39461290',\n",
       " 'https://www.flipkart.com/birde-combo-pack-2-casual-shoes-sneakers-men/p/itm93aa075293535?pid=SHOGHYWHG2BZ9R9H&lid=LSTSHOGHYWHG2BZ9R9HCT4WWB&marketplace=FLIPKART&q=sneakers&store=osp&srno=s_1_6&otracker=search&otracker1=search&fm=search-autosuggest&iid=04719673-82e9-4289-b1f5-5633c7df15fe.SHOGHYWHG2BZ9R9H.SEARCH&ppt=sp&ppn=sp&ssid=igwgopey0w0000001686490738060&qH=a1743c0d39461290',\n",
       " 'https://www.flipkart.com/robbie-jones-casual-sneakers-shoes-men-boys/p/itmb460ca0260dd0?pid=SHOG3DK2EJCX8GWM&lid=LSTSHOG3DK2EJCX8GWMLFBWR2&marketplace=FLIPKART&q=sneakers&store=osp&srno=s_1_8&otracker=search&otracker1=search&fm=search-autosuggest&iid=en_d%2FKn6yHDQ80d5Dx5VzUoKJ84EEgya2UeQa2xBLyiXgqSTp5yZS%2FgAm2Ps3UqSW6L3%2FFDrSq56zcukV8RCij89A%3D%3D&ppt=sp&ppn=sp&ssid=igwgopey0w0000001686490738060&qH=a1743c0d39461290',\n",
       " 'https://www.flipkart.com/layasa-sneakers-men/p/itm4bfb14824c769?pid=SHOGBHR8BQKGZT7R&lid=LSTSHOGBHR8BQKGZT7RKO77VQ&marketplace=FLIPKART&q=sneakers&store=osp&srno=s_1_9&otracker=search&otracker1=search&fm=search-autosuggest&iid=04719673-82e9-4289-b1f5-5633c7df15fe.SHOGBHR8BQKGZT7R.SEARCH&ppt=sp&ppn=sp&ssid=igwgopey0w0000001686490738060&qH=a1743c0d39461290',\n",
       " 'https://www.flipkart.com/aadi-lightweight-comfort-summer-trendy-walking-outdoor-stylish-training-daily-use-sneakers-men/p/itma442bf9226209?pid=SHOGMYMKPBWAXB4K&lid=LSTSHOGMYMKPBWAXB4KZIW0ZG&marketplace=FLIPKART&q=sneakers&store=osp&srno=s_1_10&otracker=search&otracker1=search&fm=search-autosuggest&iid=04719673-82e9-4289-b1f5-5633c7df15fe.SHOGMYMKPBWAXB4K.SEARCH&ppt=sp&ppn=sp&ssid=igwgopey0w0000001686490738060&qH=a1743c0d39461290',\n",
       " 'https://www.flipkart.com/robbie-jones-casual-sneakers-white-shoes-men/p/itm1cd015e596af2?pid=SHOG3HTSZWEKKAZM&lid=LSTSHOG3HTSZWEKKAZMWWX3VX&marketplace=FLIPKART&q=sneakers&store=osp&srno=s_1_11&otracker=search&otracker1=search&fm=search-autosuggest&iid=en_d%2FKn6yHDQ80d5Dx5VzUoKJ84EEgya2UeQa2xBLyiXgrm%2FqB51VL7nRBrOVxU5NMX065S8NmLx5klQ5cIcmoz2w%3D%3D&ppt=sp&ppn=sp&ssid=igwgopey0w0000001686490738060&qH=a1743c0d39461290',\n",
       " 'https://www.flipkart.com/robbie-jones-casual-sneakers-shoes-men-boys/p/itm63089f27865b6?pid=SHOG3FFG5CDVGZWG&lid=LSTSHOG3FFG5CDVGZWGEFMCGK&marketplace=FLIPKART&q=sneakers&store=osp&srno=s_1_12&otracker=search&otracker1=search&fm=search-autosuggest&iid=en_d%2FKn6yHDQ80d5Dx5VzUoKJ84EEgya2UeQa2xBLyiXgr0pScArheJ5wsyXOve0XkiW5bmEBjh6RrwGm4s79NS8Q%3D%3D&ppt=sp&ppn=sp&ssid=igwgopey0w0000001686490738060&qH=a1743c0d39461290',\n",
       " 'https://www.flipkart.com/liberty-jump-02-sneakers-men/p/itm5d213d5f8de3d?pid=SHOGGMR3QUTSASY8&lid=LSTSHOGGMR3QUTSASY8REJWJL&marketplace=FLIPKART&q=sneakers&store=osp&srno=s_1_13&otracker=search&otracker1=search&fm=search-autosuggest&iid=04719673-82e9-4289-b1f5-5633c7df15fe.SHOGGMR3QUTSASY8.SEARCH&ppt=sp&ppn=sp&ssid=igwgopey0w0000001686490738060&qH=a1743c0d39461290',\n",
       " 'https://www.flipkart.com/shozie-stylish-walking-partywear-sneakers-casual-shoes-women/p/itma93ebdf084596?pid=SHOGEGDBJWNH5TNQ&lid=LSTSHOGEGDBJWNH5TNQUANG1Z&marketplace=FLIPKART&q=sneakers&store=osp&srno=s_1_14&otracker=search&otracker1=search&fm=search-autosuggest&iid=04719673-82e9-4289-b1f5-5633c7df15fe.SHOGEGDBJWNH5TNQ.SEARCH&ppt=sp&ppn=sp&ssid=igwgopey0w0000001686490738060&qH=a1743c0d39461290',\n",
       " 'https://www.flipkart.com/liberty-jump-02-sneakers-men/p/itm18dab062caaa1?pid=SHOGGMR3AE5YDY5U&lid=LSTSHOGGMR3AE5YDY5UPJZREE&marketplace=FLIPKART&q=sneakers&store=osp&srno=s_1_15&otracker=search&otracker1=search&fm=search-autosuggest&iid=04719673-82e9-4289-b1f5-5633c7df15fe.SHOGGMR3AE5YDY5U.SEARCH&ppt=sp&ppn=sp&ssid=igwgopey0w0000001686490738060&qH=a1743c0d39461290',\n",
       " 'https://www.flipkart.com/kraasa-sneakers-women/p/itm414d255dba994?pid=SHOGEXNFPZHSWVRW&lid=LSTSHOGEXNFPZHSWVRW7NYNMM&marketplace=FLIPKART&q=sneakers&store=osp&srno=s_1_16&otracker=search&otracker1=search&fm=search-autosuggest&iid=04719673-82e9-4289-b1f5-5633c7df15fe.SHOGEXNFPZHSWVRW.SEARCH&ppt=sp&ppn=sp&ssid=igwgopey0w0000001686490738060&qH=a1743c0d39461290',\n",
       " 'https://www.flipkart.com/robbie-jones-sneakers-men/p/itmf729cda1a580d?pid=SHOG6YH4JDYZKGGJ&lid=LSTSHOG6YH4JDYZKGGJQG5RSU&marketplace=FLIPKART&q=sneakers&store=osp&srno=s_1_17&otracker=search&otracker1=search&fm=search-autosuggest&iid=en_d%2FKn6yHDQ80d5Dx5VzUoKJ84EEgya2UeQa2xBLyiXgrnW3k4IW4gDtg7LiI88qLyyzD7daHhQP7cC6pSmRBzrw%3D%3D&ppt=sp&ppn=sp&ssid=igwgopey0w0000001686490738060&qH=a1743c0d39461290',\n",
       " 'https://www.flipkart.com/birde-premium-white-sneakers-women/p/itm63af2361b1952?pid=SHOGK7UH6J8J3FFZ&lid=LSTSHOGK7UH6J8J3FFZUXEEFD&marketplace=FLIPKART&q=sneakers&store=osp&srno=s_1_18&otracker=search&otracker1=search&fm=search-autosuggest&iid=en_d%2FKn6yHDQ80d5Dx5VzUoKJ84EEgya2UeQa2xBLyiXgrzUJa9DvqahFTfUwF2w9ePJgfvmEUOiaFVQ7BNXzp4BQ%3D%3D&ppt=sp&ppn=sp&ssid=igwgopey0w0000001686490738060&qH=a1743c0d39461290',\n",
       " 'https://www.flipkart.com/asian-men-s-running-shoes-sneakers-men/p/itm659b44f291cfa?pid=SHOGP7KUEU7T7PZZ&lid=LSTSHOGP7KUEU7T7PZZLETE8H&marketplace=FLIPKART&q=sneakers&store=osp&srno=s_1_19&otracker=search&otracker1=search&fm=search-autosuggest&iid=04719673-82e9-4289-b1f5-5633c7df15fe.SHOGP7KUEU7T7PZZ.SEARCH&ppt=sp&ppn=sp&ssid=igwgopey0w0000001686490738060&qH=a1743c0d39461290',\n",
       " 'https://www.flipkart.com/kraasa-casuals-canvas-partywear-sneakers-men/p/itm3b6ebb856eb64?pid=SHOFGGF7GVP9C2Q6&lid=LSTSHOFGGF7GVP9C2Q6ZXHY8F&marketplace=FLIPKART&q=sneakers&store=osp&srno=s_1_20&otracker=search&otracker1=search&fm=search-autosuggest&iid=04719673-82e9-4289-b1f5-5633c7df15fe.SHOFGGF7GVP9C2Q6.SEARCH&ppt=sp&ppn=sp&ssid=igwgopey0w0000001686490738060&qH=a1743c0d39461290',\n",
       " 'https://www.flipkart.com/lejano-sneakers-men/p/itmcd653eb77401f?pid=SHOGH4DVFXVQDGUV&lid=LSTSHOGH4DVFXVQDGUVJUAYPH&marketplace=FLIPKART&q=sneakers&store=osp&srno=s_1_21&otracker=search&otracker1=search&fm=search-autosuggest&iid=en_d%2FKn6yHDQ80d5Dx5VzUoKJ84EEgya2UeQa2xBLyiXgop2kDiUEgH6RkuidpCA7QW1VICaW7B99oMArLT4Ng%2BTg%3D%3D&ppt=sp&ppn=sp&ssid=igwgopey0w0000001686490738060&qH=a1743c0d39461290',\n",
       " 'https://www.flipkart.com/k-footlance-modern-trendy-sneakers-boot-men/p/itm42e888af5ec2e?pid=SHOGG5925XAJYY7C&lid=LSTSHOGG5925XAJYY7CEZS4AZ&marketplace=FLIPKART&q=sneakers&store=osp&srno=s_1_22&otracker=search&otracker1=search&fm=search-autosuggest&iid=en_d%2FKn6yHDQ80d5Dx5VzUoKJ84EEgya2UeQa2xBLyiXgrWDXDkVUqWdI8%2FH%2FKTpagmJXSA6daDHXNjzzR1YxJe1A%3D%3D&ppt=sp&ppn=sp&ssid=igwgopey0w0000001686490738060&qH=a1743c0d39461290',\n",
       " 'https://www.flipkart.com/birde-combo-pack-2-casual-shoes-sneakers-men/p/itm9470c144c4484?pid=SHOGMHKYH4EWW4GY&lid=LSTSHOGMHKYH4EWW4GYZBJ5KZ&marketplace=FLIPKART&q=sneakers&store=osp&srno=s_1_23&otracker=search&otracker1=search&fm=search-autosuggest&iid=04719673-82e9-4289-b1f5-5633c7df15fe.SHOGMHKYH4EWW4GY.SEARCH&ppt=sp&ppn=sp&ssid=igwgopey0w0000001686490738060&qH=a1743c0d39461290',\n",
       " 'https://www.flipkart.com/aadi-lightweight-comfort-summer-trendy-walking-outdoor-stylish-training-daily-use-sneakers-men/p/itm62a28aae2ef59?pid=SHOGMYMRUZHD2AYR&lid=LSTSHOGMYMRUZHD2AYR9UFN94&marketplace=FLIPKART&q=sneakers&store=osp&srno=s_1_24&otracker=search&otracker1=search&fm=search-autosuggest&iid=04719673-82e9-4289-b1f5-5633c7df15fe.SHOGMYMRUZHD2AYR.SEARCH&ppt=sp&ppn=sp&ssid=igwgopey0w0000001686490738060&qH=a1743c0d39461290',\n",
       " 'https://www.flipkart.com/bruton-modern-trendy-shoes-sneakers-men/p/itm6036f913ec47f?pid=SHOG293HAHJ9HCTE&lid=LSTSHOG293HAHJ9HCTEQD9JPA&marketplace=FLIPKART&q=sneakers&store=osp&srno=s_1_25&otracker=search&otracker1=search&fm=search-autosuggest&iid=04719673-82e9-4289-b1f5-5633c7df15fe.SHOG293HAHJ9HCTE.SEARCH&ppt=sp&ppn=sp&ssid=igwgopey0w0000001686490738060&qH=a1743c0d39461290',\n",
       " 'https://www.flipkart.com/hrx-hrithik-roshan-men-retro-basket-ball-sneakers/p/itmf879ea64632cd?pid=SHOFZYWWZGRYHYPJ&lid=LSTSHOFZYWWZGRYHYPJ63UL2K&marketplace=FLIPKART&q=sneakers&store=osp&srno=s_1_26&otracker=search&otracker1=search&fm=search-autosuggest&iid=04719673-82e9-4289-b1f5-5633c7df15fe.SHOFZYWWZGRYHYPJ.SEARCH&ppt=sp&ppn=sp&ssid=igwgopey0w0000001686490738060&qH=a1743c0d39461290',\n",
       " 'https://www.flipkart.com/bruton-2-combo-sneaker-shoes-sneakers-men/p/itm0c547953aedf0?pid=SHOGG9ZUUCBQK73Z&lid=LSTSHOGG9ZUUCBQK73Z0QVA9W&marketplace=FLIPKART&q=sneakers&store=osp&srno=s_1_27&otracker=search&otracker1=search&fm=search-autosuggest&iid=en_d%2FKn6yHDQ80d5Dx5VzUoKJ84EEgya2UeQa2xBLyiXgrQCZG97ptgCy1FyDOBc1MM%2BT%2FbZUmGIV3gX4fHqG4X%2Bg%3D%3D&ppt=sp&ppn=sp&ssid=igwgopey0w0000001686490738060&qH=a1743c0d39461290',\n",
       " 'https://www.flipkart.com/lee-won-sneakers-men/p/itma51238bb01f4f?pid=SHOFYYKFB7HNTHVD&lid=LSTSHOFYYKFB7HNTHVDCK71WE&marketplace=FLIPKART&q=sneakers&store=osp&srno=s_1_28&otracker=search&otracker1=search&fm=search-autosuggest&iid=en_d%2FKn6yHDQ80d5Dx5VzUoKJ84EEgya2UeQa2xBLyiXgpbcFtYVlew1f4TCoygN0b86aQGYX%2FhvY3Js8vwW9RRSw%3D%3D&ppt=sp&ppn=sp&ssid=igwgopey0w0000001686490738060&qH=a1743c0d39461290',\n",
       " 'https://www.flipkart.com/hotstyle-combo-pack-2-sneakers-men/p/itm09a2ff408f8de?pid=SHOGZU9PDQCEWAXH&lid=LSTSHOGZU9PDQCEWAXHWDAIVK&marketplace=FLIPKART&q=sneakers&store=osp&spotlightTagId=FkPickId_osp&srno=s_1_29&otracker=search&otracker1=search&fm=search-autosuggest&iid=04719673-82e9-4289-b1f5-5633c7df15fe.SHOGZU9PDQCEWAXH.SEARCH&ppt=sp&ppn=sp&ssid=igwgopey0w0000001686490738060&qH=a1743c0d39461290',\n",
       " 'https://www.flipkart.com/brainer-sneakers-men/p/itm779f7b528005c?pid=SHOGDEANSDMSYHFP&lid=LSTSHOGDEANSDMSYHFPXLNWZZ&marketplace=FLIPKART&q=sneakers&store=osp&srno=s_1_30&otracker=search&otracker1=search&fm=search-autosuggest&iid=04719673-82e9-4289-b1f5-5633c7df15fe.SHOGDEANSDMSYHFP.SEARCH&ppt=sp&ppn=sp&ssid=igwgopey0w0000001686490738060&qH=a1743c0d39461290',\n",
       " 'https://www.flipkart.com/rapidbox-sneakers-men/p/itm3e9655a4a9be5?pid=SHOG6WUHWE3CQCGW&lid=LSTSHOG6WUHWE3CQCGWKTSX7C&marketplace=FLIPKART&q=sneakers&store=osp&srno=s_1_31&otracker=search&otracker1=search&fm=search-autosuggest&iid=en_d%2FKn6yHDQ80d5Dx5VzUoKJ84EEgya2UeQa2xBLyiXgpD801hT4KHyT4wJDhCXW62gs1pd9uKHh373ZKpYd4atw%3D%3D&ppt=sp&ppn=sp&ssid=igwgopey0w0000001686490738060&qH=a1743c0d39461290',\n",
       " 'https://www.flipkart.com/sfr-mid-top-combo-pack-02-pairs-lace-ups-trainer-shoes-sneakers-men/p/itm073f86826f4a2?pid=SHOGGF8KMDKHFZCY&lid=LSTSHOGGF8KMDKHFZCYXI9R1U&marketplace=FLIPKART&q=sneakers&store=osp&srno=s_1_32&otracker=search&otracker1=search&fm=search-autosuggest&iid=en_d%2FKn6yHDQ80d5Dx5VzUoKJ84EEgya2UeQa2xBLyiXgr8zQ%2B3Dtru%2FWkSkHc6WTofMGSU84Grw0owLYdDLUizPA%3D%3D&ppt=sp&ppn=sp&ssid=igwgopey0w0000001686490738060&qH=a1743c0d39461290',\n",
       " 'https://www.flipkart.com/asian-sm-162-black-walking-training-sneakers-loafers-canvas-casual-shoes-sneakers-sneakers-men/p/itmf428qrhbxddvd?pid=SHOF42FKWTSZJS4G&lid=LSTSHOF42FKWTSZJS4GCAGAFV&marketplace=FLIPKART&q=sneakers&store=osp&srno=s_1_33&otracker=search&otracker1=search&fm=search-autosuggest&iid=04719673-82e9-4289-b1f5-5633c7df15fe.SHOF42FKWTSZJS4G.SEARCH&ppt=sp&ppn=sp&ssid=igwgopey0w0000001686490738060&qH=a1743c0d39461290',\n",
       " 'https://www.flipkart.com/white-walkers-stylish-trending-outdoor-walking-comfortable-sneakers-men/p/itmb05f2f0511794?pid=SHOG5Y96BZZTPGVM&lid=LSTSHOG5Y96BZZTPGVMV3RB2L&marketplace=FLIPKART&q=sneakers&store=osp&srno=s_1_34&otracker=search&otracker1=search&fm=search-autosuggest&iid=04719673-82e9-4289-b1f5-5633c7df15fe.SHOG5Y96BZZTPGVM.SEARCH&ppt=sp&ppn=sp&ssid=igwgopey0w0000001686490738060&qH=a1743c0d39461290',\n",
       " 'https://www.flipkart.com/puma-hustle-v2-sneakers-men/p/itm7827dd756c4f3?pid=SHOG4JEYSTAUAVEG&lid=LSTSHOG4JEYSTAUAVEGRLHYO5&marketplace=FLIPKART&q=sneakers&store=osp&srno=s_1_36&otracker=search&otracker1=search&fm=search-autosuggest&iid=04719673-82e9-4289-b1f5-5633c7df15fe.SHOG4JEYSTAUAVEG.SEARCH&ppt=sp&ppn=sp&ssid=igwgopey0w0000001686490738060&qH=a1743c0d39461290',\n",
       " 'https://www.flipkart.com/bruton-2-combo-sneaker-shoes-sneakers-men/p/itme81ecdf46c4a5?pid=SHOGG9HUP8GTYHPV&lid=LSTSHOGG9HUP8GTYHPVZQNRQJ&marketplace=FLIPKART&q=sneakers&store=osp&srno=s_1_37&otracker=search&otracker1=search&fm=search-autosuggest&iid=en_d%2FKn6yHDQ80d5Dx5VzUoKJ84EEgya2UeQa2xBLyiXgqV%2Ft75VL5C8qLLX4ACjSn015vf%2FXdlrFpoolPjbeicrA%3D%3D&ppt=sp&ppn=sp&ssid=igwgopey0w0000001686490738060&qH=a1743c0d39461290',\n",
       " 'https://www.flipkart.com/wugatti-new-fashion-outdoor-trendy-lightweight-casual-stylish-jordan-high-ankle-boot-sneakers-men/p/itm7797d6b44965c?pid=SHOGN8ZFTKV5ZY4Y&lid=LSTSHOGN8ZFTKV5ZY4YVWQ2PD&marketplace=FLIPKART&q=sneakers&store=osp&srno=s_1_38&otracker=search&otracker1=search&fm=search-autosuggest&iid=en_d%2FKn6yHDQ80d5Dx5VzUoKJ84EEgya2UeQa2xBLyiXgoK3NgFjjw5f0zM8MWbgnm8UCBdn4JGf%2Fm9NSSmLBPD%2Bg%3D%3D&ppt=sp&ppn=sp&ssid=igwgopey0w0000001686490738060&qH=a1743c0d39461290',\n",
       " 'https://www.flipkart.com/puma-hustle-v2-sneakers-men/p/itm0a2e21e25e27c?pid=SHOG4JEYNZSDJFFT&lid=LSTSHOG4JEYNZSDJFFTUKY6CQ&marketplace=FLIPKART&q=sneakers&store=osp&srno=s_1_39&otracker=search&otracker1=search&fm=search-autosuggest&iid=04719673-82e9-4289-b1f5-5633c7df15fe.SHOG4JEYNZSDJFFT.SEARCH&ppt=sp&ppn=sp&ssid=igwgopey0w0000001686490738060&qH=a1743c0d39461290',\n",
       " 'https://www.flipkart.com/asian-men-s-w-05-casual-white-sneaker-shoes-waterproof-synthetic-upper-sneakers-men/p/itm030b374a7fff9?pid=SHOG6YHFFZR7P7HH&lid=LSTSHOG6YHFFZR7P7HHQ88FLV&marketplace=FLIPKART&q=sneakers&store=osp&srno=s_1_40&otracker=search&otracker1=search&fm=search-autosuggest&iid=04719673-82e9-4289-b1f5-5633c7df15fe.SHOG6YHFFZR7P7HH.SEARCH&ppt=sp&ppn=sp&ssid=igwgopey0w0000001686490738060&qH=a1743c0d39461290',\n",
       " 'https://www.flipkart.com/airson-junior-zero1-sports-sneakers-men-running-gym-training-walking-shoes/p/itm8a937516b3153?pid=SHOGMYDQC9WUVZUY&lid=LSTSHOGMYDQC9WUVZUYZBNAKV&marketplace=FLIPKART&q=sneakers&store=osp&srno=s_1_1&otracker=search&otracker1=search&fm=Search&iid=en_d%2FKn6yHDQ80d5Dx5VzUoKJ84EEgya2UeQa2xBLyiXgqBG273JOJ3nLYvepwZ9wAHQacBc5OyI17HOIC9WzCmkw%3D%3D&ppt=sp&ppn=sp&ssid=igwgopey0w0000001686490738060&qH=a1743c0d39461290',\n",
       " 'https://www.flipkart.com/world-wear-footwear-trendy-stylish-comfortable-lightweight-casual-high-tops-sneakers-shoes-men/p/itm98336ff1bad6e?pid=SHOGFYMCTQ2JJBTZ&lid=LSTSHOGFYMCTQ2JJBTZV2EKCQ&marketplace=FLIPKART&q=sneakers&store=osp&srno=s_1_2&otracker=search&otracker1=search&fm=Search&iid=en_d%2FKn6yHDQ80d5Dx5VzUoKJ84EEgya2UeQa2xBLyiXgpmkTWYdn%2BYJHlMmXf4%2FWz8WccdlDG8qJOP4OeVgwIvug%3D%3D&ppt=sp&ppn=sp&ssid=igwgopey0w0000001686490738060&qH=a1743c0d39461290',\n",
       " 'https://www.flipkart.com/layasa-sneakers-men/p/itm033899612ce4c?pid=SHOGHK9SPMVG59HB&lid=LSTSHOGHK9SPMVG59HBKS49E8&marketplace=FLIPKART&q=sneakers&store=osp&srno=s_1_3&otracker=search&otracker1=search&fm=Search&iid=04719673-82e9-4289-b1f5-5633c7df15fe.SHOGHK9SPMVG59HB.SEARCH&ppt=sp&ppn=sp&ssid=igwgopey0w0000001686490738060&qH=a1743c0d39461290',\n",
       " 'https://www.flipkart.com/liberty-jump-02-sneakers-men/p/itm1cf16c7c3d837?pid=SHOGGMR3CFQNZWFY&lid=LSTSHOGGMR3CFQNZWFYP3XHU0&marketplace=FLIPKART&q=sneakers&store=osp&srno=s_1_4&otracker=search&otracker1=search&fm=Search&iid=04719673-82e9-4289-b1f5-5633c7df15fe.SHOGGMR3CFQNZWFY.SEARCH&ppt=sp&ppn=sp&ssid=igwgopey0w0000001686490738060&qH=a1743c0d39461290',\n",
       " 'https://www.flipkart.com/asian-thunder-01-white-color-change-sneakers-casuals-loafer-sneakers-men/p/itm5a5bd3b7ba955?pid=SHOGN5AF3J7ZBA27&lid=LSTSHOGN5AF3J7ZBA27Q6YDOK&marketplace=FLIPKART&q=sneakers&store=osp&spotlightTagId=BestsellerId_osp&srno=s_1_5&otracker=search&otracker1=search&fm=search-autosuggest&iid=04719673-82e9-4289-b1f5-5633c7df15fe.SHOGN5AF3J7ZBA27.SEARCH&ppt=sp&ppn=sp&ssid=igwgopey0w0000001686490738060&qH=a1743c0d39461290',\n",
       " 'https://www.flipkart.com/birde-combo-pack-2-casual-shoes-sneakers-men/p/itm93aa075293535?pid=SHOGHYWHG2BZ9R9H&lid=LSTSHOGHYWHG2BZ9R9HCT4WWB&marketplace=FLIPKART&q=sneakers&store=osp&srno=s_1_6&otracker=search&otracker1=search&fm=search-autosuggest&iid=04719673-82e9-4289-b1f5-5633c7df15fe.SHOGHYWHG2BZ9R9H.SEARCH&ppt=sp&ppn=sp&ssid=igwgopey0w0000001686490738060&qH=a1743c0d39461290',\n",
       " 'https://www.flipkart.com/robbie-jones-casual-sneakers-shoes-men-boys/p/itmb460ca0260dd0?pid=SHOG3DK2EJCX8GWM&lid=LSTSHOG3DK2EJCX8GWMLFBWR2&marketplace=FLIPKART&q=sneakers&store=osp&srno=s_1_8&otracker=search&otracker1=search&fm=search-autosuggest&iid=en_d%2FKn6yHDQ80d5Dx5VzUoKJ84EEgya2UeQa2xBLyiXgqSTp5yZS%2FgAm2Ps3UqSW6L3%2FFDrSq56zcukV8RCij89A%3D%3D&ppt=sp&ppn=sp&ssid=igwgopey0w0000001686490738060&qH=a1743c0d39461290',\n",
       " 'https://www.flipkart.com/layasa-sneakers-men/p/itm4bfb14824c769?pid=SHOGBHR8BQKGZT7R&lid=LSTSHOGBHR8BQKGZT7RKO77VQ&marketplace=FLIPKART&q=sneakers&store=osp&srno=s_1_9&otracker=search&otracker1=search&fm=search-autosuggest&iid=04719673-82e9-4289-b1f5-5633c7df15fe.SHOGBHR8BQKGZT7R.SEARCH&ppt=sp&ppn=sp&ssid=igwgopey0w0000001686490738060&qH=a1743c0d39461290',\n",
       " 'https://www.flipkart.com/aadi-lightweight-comfort-summer-trendy-walking-outdoor-stylish-training-daily-use-sneakers-men/p/itma442bf9226209?pid=SHOGMYMKPBWAXB4K&lid=LSTSHOGMYMKPBWAXB4KZIW0ZG&marketplace=FLIPKART&q=sneakers&store=osp&srno=s_1_10&otracker=search&otracker1=search&fm=search-autosuggest&iid=04719673-82e9-4289-b1f5-5633c7df15fe.SHOGMYMKPBWAXB4K.SEARCH&ppt=sp&ppn=sp&ssid=igwgopey0w0000001686490738060&qH=a1743c0d39461290',\n",
       " 'https://www.flipkart.com/robbie-jones-casual-sneakers-white-shoes-men/p/itm1cd015e596af2?pid=SHOG3HTSZWEKKAZM&lid=LSTSHOG3HTSZWEKKAZMWWX3VX&marketplace=FLIPKART&q=sneakers&store=osp&srno=s_1_11&otracker=search&otracker1=search&fm=search-autosuggest&iid=en_d%2FKn6yHDQ80d5Dx5VzUoKJ84EEgya2UeQa2xBLyiXgrm%2FqB51VL7nRBrOVxU5NMX065S8NmLx5klQ5cIcmoz2w%3D%3D&ppt=sp&ppn=sp&ssid=igwgopey0w0000001686490738060&qH=a1743c0d39461290',\n",
       " 'https://www.flipkart.com/robbie-jones-casual-sneakers-shoes-men-boys/p/itm63089f27865b6?pid=SHOG3FFG5CDVGZWG&lid=LSTSHOG3FFG5CDVGZWGEFMCGK&marketplace=FLIPKART&q=sneakers&store=osp&srno=s_1_12&otracker=search&otracker1=search&fm=search-autosuggest&iid=en_d%2FKn6yHDQ80d5Dx5VzUoKJ84EEgya2UeQa2xBLyiXgr0pScArheJ5wsyXOve0XkiW5bmEBjh6RrwGm4s79NS8Q%3D%3D&ppt=sp&ppn=sp&ssid=igwgopey0w0000001686490738060&qH=a1743c0d39461290',\n",
       " 'https://www.flipkart.com/liberty-jump-02-sneakers-men/p/itm5d213d5f8de3d?pid=SHOGGMR3QUTSASY8&lid=LSTSHOGGMR3QUTSASY8REJWJL&marketplace=FLIPKART&q=sneakers&store=osp&srno=s_1_13&otracker=search&otracker1=search&fm=search-autosuggest&iid=04719673-82e9-4289-b1f5-5633c7df15fe.SHOGGMR3QUTSASY8.SEARCH&ppt=sp&ppn=sp&ssid=igwgopey0w0000001686490738060&qH=a1743c0d39461290',\n",
       " 'https://www.flipkart.com/shozie-stylish-walking-partywear-sneakers-casual-shoes-women/p/itma93ebdf084596?pid=SHOGEGDBJWNH5TNQ&lid=LSTSHOGEGDBJWNH5TNQUANG1Z&marketplace=FLIPKART&q=sneakers&store=osp&srno=s_1_14&otracker=search&otracker1=search&fm=search-autosuggest&iid=04719673-82e9-4289-b1f5-5633c7df15fe.SHOGEGDBJWNH5TNQ.SEARCH&ppt=sp&ppn=sp&ssid=igwgopey0w0000001686490738060&qH=a1743c0d39461290',\n",
       " 'https://www.flipkart.com/liberty-jump-02-sneakers-men/p/itm18dab062caaa1?pid=SHOGGMR3AE5YDY5U&lid=LSTSHOGGMR3AE5YDY5UPJZREE&marketplace=FLIPKART&q=sneakers&store=osp&srno=s_1_15&otracker=search&otracker1=search&fm=search-autosuggest&iid=04719673-82e9-4289-b1f5-5633c7df15fe.SHOGGMR3AE5YDY5U.SEARCH&ppt=sp&ppn=sp&ssid=igwgopey0w0000001686490738060&qH=a1743c0d39461290',\n",
       " 'https://www.flipkart.com/kraasa-sneakers-women/p/itm414d255dba994?pid=SHOGEXNFPZHSWVRW&lid=LSTSHOGEXNFPZHSWVRW7NYNMM&marketplace=FLIPKART&q=sneakers&store=osp&srno=s_1_16&otracker=search&otracker1=search&fm=search-autosuggest&iid=04719673-82e9-4289-b1f5-5633c7df15fe.SHOGEXNFPZHSWVRW.SEARCH&ppt=sp&ppn=sp&ssid=igwgopey0w0000001686490738060&qH=a1743c0d39461290',\n",
       " 'https://www.flipkart.com/robbie-jones-sneakers-men/p/itmf729cda1a580d?pid=SHOG6YH4JDYZKGGJ&lid=LSTSHOG6YH4JDYZKGGJQG5RSU&marketplace=FLIPKART&q=sneakers&store=osp&srno=s_1_17&otracker=search&otracker1=search&fm=search-autosuggest&iid=en_d%2FKn6yHDQ80d5Dx5VzUoKJ84EEgya2UeQa2xBLyiXgrnW3k4IW4gDtg7LiI88qLyyzD7daHhQP7cC6pSmRBzrw%3D%3D&ppt=sp&ppn=sp&ssid=igwgopey0w0000001686490738060&qH=a1743c0d39461290',\n",
       " 'https://www.flipkart.com/birde-premium-white-sneakers-women/p/itm63af2361b1952?pid=SHOGK7UH6J8J3FFZ&lid=LSTSHOGK7UH6J8J3FFZUXEEFD&marketplace=FLIPKART&q=sneakers&store=osp&srno=s_1_18&otracker=search&otracker1=search&fm=search-autosuggest&iid=en_d%2FKn6yHDQ80d5Dx5VzUoKJ84EEgya2UeQa2xBLyiXgrzUJa9DvqahFTfUwF2w9ePJgfvmEUOiaFVQ7BNXzp4BQ%3D%3D&ppt=sp&ppn=sp&ssid=igwgopey0w0000001686490738060&qH=a1743c0d39461290',\n",
       " 'https://www.flipkart.com/asian-men-s-running-shoes-sneakers-men/p/itm659b44f291cfa?pid=SHOGP7KUEU7T7PZZ&lid=LSTSHOGP7KUEU7T7PZZLETE8H&marketplace=FLIPKART&q=sneakers&store=osp&srno=s_1_19&otracker=search&otracker1=search&fm=search-autosuggest&iid=04719673-82e9-4289-b1f5-5633c7df15fe.SHOGP7KUEU7T7PZZ.SEARCH&ppt=sp&ppn=sp&ssid=igwgopey0w0000001686490738060&qH=a1743c0d39461290',\n",
       " 'https://www.flipkart.com/kraasa-casuals-canvas-partywear-sneakers-men/p/itm3b6ebb856eb64?pid=SHOFGGF7GVP9C2Q6&lid=LSTSHOFGGF7GVP9C2Q6ZXHY8F&marketplace=FLIPKART&q=sneakers&store=osp&srno=s_1_20&otracker=search&otracker1=search&fm=search-autosuggest&iid=04719673-82e9-4289-b1f5-5633c7df15fe.SHOFGGF7GVP9C2Q6.SEARCH&ppt=sp&ppn=sp&ssid=igwgopey0w0000001686490738060&qH=a1743c0d39461290',\n",
       " 'https://www.flipkart.com/lejano-sneakers-men/p/itmcd653eb77401f?pid=SHOGH4DVFXVQDGUV&lid=LSTSHOGH4DVFXVQDGUVJUAYPH&marketplace=FLIPKART&q=sneakers&store=osp&srno=s_1_21&otracker=search&otracker1=search&fm=search-autosuggest&iid=en_d%2FKn6yHDQ80d5Dx5VzUoKJ84EEgya2UeQa2xBLyiXgop2kDiUEgH6RkuidpCA7QW1VICaW7B99oMArLT4Ng%2BTg%3D%3D&ppt=sp&ppn=sp&ssid=igwgopey0w0000001686490738060&qH=a1743c0d39461290',\n",
       " 'https://www.flipkart.com/k-footlance-modern-trendy-sneakers-boot-men/p/itm42e888af5ec2e?pid=SHOGG5925XAJYY7C&lid=LSTSHOGG5925XAJYY7CEZS4AZ&marketplace=FLIPKART&q=sneakers&store=osp&srno=s_1_22&otracker=search&otracker1=search&fm=search-autosuggest&iid=en_d%2FKn6yHDQ80d5Dx5VzUoKJ84EEgya2UeQa2xBLyiXgrWDXDkVUqWdI8%2FH%2FKTpagmJXSA6daDHXNjzzR1YxJe1A%3D%3D&ppt=sp&ppn=sp&ssid=igwgopey0w0000001686490738060&qH=a1743c0d39461290',\n",
       " 'https://www.flipkart.com/birde-combo-pack-2-casual-shoes-sneakers-men/p/itm9470c144c4484?pid=SHOGMHKYH4EWW4GY&lid=LSTSHOGMHKYH4EWW4GYZBJ5KZ&marketplace=FLIPKART&q=sneakers&store=osp&srno=s_1_23&otracker=search&otracker1=search&fm=search-autosuggest&iid=04719673-82e9-4289-b1f5-5633c7df15fe.SHOGMHKYH4EWW4GY.SEARCH&ppt=sp&ppn=sp&ssid=igwgopey0w0000001686490738060&qH=a1743c0d39461290',\n",
       " 'https://www.flipkart.com/aadi-lightweight-comfort-summer-trendy-walking-outdoor-stylish-training-daily-use-sneakers-men/p/itm62a28aae2ef59?pid=SHOGMYMRUZHD2AYR&lid=LSTSHOGMYMRUZHD2AYR9UFN94&marketplace=FLIPKART&q=sneakers&store=osp&srno=s_1_24&otracker=search&otracker1=search&fm=search-autosuggest&iid=04719673-82e9-4289-b1f5-5633c7df15fe.SHOGMYMRUZHD2AYR.SEARCH&ppt=sp&ppn=sp&ssid=igwgopey0w0000001686490738060&qH=a1743c0d39461290',\n",
       " 'https://www.flipkart.com/bruton-modern-trendy-shoes-sneakers-men/p/itm6036f913ec47f?pid=SHOG293HAHJ9HCTE&lid=LSTSHOG293HAHJ9HCTEQD9JPA&marketplace=FLIPKART&q=sneakers&store=osp&srno=s_1_25&otracker=search&otracker1=search&fm=search-autosuggest&iid=04719673-82e9-4289-b1f5-5633c7df15fe.SHOG293HAHJ9HCTE.SEARCH&ppt=sp&ppn=sp&ssid=igwgopey0w0000001686490738060&qH=a1743c0d39461290',\n",
       " 'https://www.flipkart.com/hrx-hrithik-roshan-men-retro-basket-ball-sneakers/p/itmf879ea64632cd?pid=SHOFZYWWZGRYHYPJ&lid=LSTSHOFZYWWZGRYHYPJ63UL2K&marketplace=FLIPKART&q=sneakers&store=osp&srno=s_1_26&otracker=search&otracker1=search&fm=search-autosuggest&iid=04719673-82e9-4289-b1f5-5633c7df15fe.SHOFZYWWZGRYHYPJ.SEARCH&ppt=sp&ppn=sp&ssid=igwgopey0w0000001686490738060&qH=a1743c0d39461290',\n",
       " 'https://www.flipkart.com/bruton-2-combo-sneaker-shoes-sneakers-men/p/itm0c547953aedf0?pid=SHOGG9ZUUCBQK73Z&lid=LSTSHOGG9ZUUCBQK73Z0QVA9W&marketplace=FLIPKART&q=sneakers&store=osp&srno=s_1_27&otracker=search&otracker1=search&fm=search-autosuggest&iid=en_d%2FKn6yHDQ80d5Dx5VzUoKJ84EEgya2UeQa2xBLyiXgrQCZG97ptgCy1FyDOBc1MM%2BT%2FbZUmGIV3gX4fHqG4X%2Bg%3D%3D&ppt=sp&ppn=sp&ssid=igwgopey0w0000001686490738060&qH=a1743c0d39461290',\n",
       " 'https://www.flipkart.com/lee-won-sneakers-men/p/itma51238bb01f4f?pid=SHOFYYKFB7HNTHVD&lid=LSTSHOFYYKFB7HNTHVDCK71WE&marketplace=FLIPKART&q=sneakers&store=osp&srno=s_1_28&otracker=search&otracker1=search&fm=search-autosuggest&iid=en_d%2FKn6yHDQ80d5Dx5VzUoKJ84EEgya2UeQa2xBLyiXgpbcFtYVlew1f4TCoygN0b86aQGYX%2FhvY3Js8vwW9RRSw%3D%3D&ppt=sp&ppn=sp&ssid=igwgopey0w0000001686490738060&qH=a1743c0d39461290',\n",
       " 'https://www.flipkart.com/hotstyle-combo-pack-2-sneakers-men/p/itm09a2ff408f8de?pid=SHOGZU9PDQCEWAXH&lid=LSTSHOGZU9PDQCEWAXHWDAIVK&marketplace=FLIPKART&q=sneakers&store=osp&spotlightTagId=FkPickId_osp&srno=s_1_29&otracker=search&otracker1=search&fm=search-autosuggest&iid=04719673-82e9-4289-b1f5-5633c7df15fe.SHOGZU9PDQCEWAXH.SEARCH&ppt=sp&ppn=sp&ssid=igwgopey0w0000001686490738060&qH=a1743c0d39461290',\n",
       " 'https://www.flipkart.com/brainer-sneakers-men/p/itm779f7b528005c?pid=SHOGDEANSDMSYHFP&lid=LSTSHOGDEANSDMSYHFPXLNWZZ&marketplace=FLIPKART&q=sneakers&store=osp&srno=s_1_30&otracker=search&otracker1=search&fm=search-autosuggest&iid=04719673-82e9-4289-b1f5-5633c7df15fe.SHOGDEANSDMSYHFP.SEARCH&ppt=sp&ppn=sp&ssid=igwgopey0w0000001686490738060&qH=a1743c0d39461290',\n",
       " 'https://www.flipkart.com/rapidbox-sneakers-men/p/itm3e9655a4a9be5?pid=SHOG6WUHWE3CQCGW&lid=LSTSHOG6WUHWE3CQCGWKTSX7C&marketplace=FLIPKART&q=sneakers&store=osp&srno=s_1_31&otracker=search&otracker1=search&fm=search-autosuggest&iid=en_d%2FKn6yHDQ80d5Dx5VzUoKJ84EEgya2UeQa2xBLyiXgpD801hT4KHyT4wJDhCXW62gs1pd9uKHh373ZKpYd4atw%3D%3D&ppt=sp&ppn=sp&ssid=igwgopey0w0000001686490738060&qH=a1743c0d39461290',\n",
       " 'https://www.flipkart.com/sfr-mid-top-combo-pack-02-pairs-lace-ups-trainer-shoes-sneakers-men/p/itm073f86826f4a2?pid=SHOGGF8KMDKHFZCY&lid=LSTSHOGGF8KMDKHFZCYXI9R1U&marketplace=FLIPKART&q=sneakers&store=osp&srno=s_1_32&otracker=search&otracker1=search&fm=search-autosuggest&iid=en_d%2FKn6yHDQ80d5Dx5VzUoKJ84EEgya2UeQa2xBLyiXgr8zQ%2B3Dtru%2FWkSkHc6WTofMGSU84Grw0owLYdDLUizPA%3D%3D&ppt=sp&ppn=sp&ssid=igwgopey0w0000001686490738060&qH=a1743c0d39461290',\n",
       " 'https://www.flipkart.com/asian-sm-162-black-walking-training-sneakers-loafers-canvas-casual-shoes-sneakers-sneakers-men/p/itmf428qrhbxddvd?pid=SHOF42FKWTSZJS4G&lid=LSTSHOF42FKWTSZJS4GCAGAFV&marketplace=FLIPKART&q=sneakers&store=osp&srno=s_1_33&otracker=search&otracker1=search&fm=search-autosuggest&iid=04719673-82e9-4289-b1f5-5633c7df15fe.SHOF42FKWTSZJS4G.SEARCH&ppt=sp&ppn=sp&ssid=igwgopey0w0000001686490738060&qH=a1743c0d39461290',\n",
       " 'https://www.flipkart.com/white-walkers-stylish-trending-outdoor-walking-comfortable-sneakers-men/p/itmb05f2f0511794?pid=SHOG5Y96BZZTPGVM&lid=LSTSHOG5Y96BZZTPGVMV3RB2L&marketplace=FLIPKART&q=sneakers&store=osp&srno=s_1_34&otracker=search&otracker1=search&fm=search-autosuggest&iid=04719673-82e9-4289-b1f5-5633c7df15fe.SHOG5Y96BZZTPGVM.SEARCH&ppt=sp&ppn=sp&ssid=igwgopey0w0000001686490738060&qH=a1743c0d39461290',\n",
       " 'https://www.flipkart.com/puma-hustle-v2-sneakers-men/p/itm7827dd756c4f3?pid=SHOG4JEYSTAUAVEG&lid=LSTSHOG4JEYSTAUAVEGRLHYO5&marketplace=FLIPKART&q=sneakers&store=osp&srno=s_1_36&otracker=search&otracker1=search&fm=search-autosuggest&iid=04719673-82e9-4289-b1f5-5633c7df15fe.SHOG4JEYSTAUAVEG.SEARCH&ppt=sp&ppn=sp&ssid=igwgopey0w0000001686490738060&qH=a1743c0d39461290',\n",
       " 'https://www.flipkart.com/bruton-2-combo-sneaker-shoes-sneakers-men/p/itme81ecdf46c4a5?pid=SHOGG9HUP8GTYHPV&lid=LSTSHOGG9HUP8GTYHPVZQNRQJ&marketplace=FLIPKART&q=sneakers&store=osp&srno=s_1_37&otracker=search&otracker1=search&fm=search-autosuggest&iid=en_d%2FKn6yHDQ80d5Dx5VzUoKJ84EEgya2UeQa2xBLyiXgqV%2Ft75VL5C8qLLX4ACjSn015vf%2FXdlrFpoolPjbeicrA%3D%3D&ppt=sp&ppn=sp&ssid=igwgopey0w0000001686490738060&qH=a1743c0d39461290',\n",
       " 'https://www.flipkart.com/wugatti-new-fashion-outdoor-trendy-lightweight-casual-stylish-jordan-high-ankle-boot-sneakers-men/p/itm7797d6b44965c?pid=SHOGN8ZFTKV5ZY4Y&lid=LSTSHOGN8ZFTKV5ZY4YVWQ2PD&marketplace=FLIPKART&q=sneakers&store=osp&srno=s_1_38&otracker=search&otracker1=search&fm=search-autosuggest&iid=en_d%2FKn6yHDQ80d5Dx5VzUoKJ84EEgya2UeQa2xBLyiXgoK3NgFjjw5f0zM8MWbgnm8UCBdn4JGf%2Fm9NSSmLBPD%2Bg%3D%3D&ppt=sp&ppn=sp&ssid=igwgopey0w0000001686490738060&qH=a1743c0d39461290',\n",
       " 'https://www.flipkart.com/puma-hustle-v2-sneakers-men/p/itm0a2e21e25e27c?pid=SHOG4JEYNZSDJFFT&lid=LSTSHOG4JEYNZSDJFFTUKY6CQ&marketplace=FLIPKART&q=sneakers&store=osp&srno=s_1_39&otracker=search&otracker1=search&fm=search-autosuggest&iid=04719673-82e9-4289-b1f5-5633c7df15fe.SHOG4JEYNZSDJFFT.SEARCH&ppt=sp&ppn=sp&ssid=igwgopey0w0000001686490738060&qH=a1743c0d39461290',\n",
       " 'https://www.flipkart.com/asian-men-s-w-05-casual-white-sneaker-shoes-waterproof-synthetic-upper-sneakers-men/p/itm030b374a7fff9?pid=SHOG6YHFFZR7P7HH&lid=LSTSHOG6YHFFZR7P7HHQ88FLV&marketplace=FLIPKART&q=sneakers&store=osp&srno=s_1_40&otracker=search&otracker1=search&fm=search-autosuggest&iid=04719673-82e9-4289-b1f5-5633c7df15fe.SHOG6YHFFZR7P7HH.SEARCH&ppt=sp&ppn=sp&ssid=igwgopey0w0000001686490738060&qH=a1743c0d39461290']"
      ]
     },
     "execution_count": 282,
     "metadata": {},
     "output_type": "execute_result"
    }
   ],
   "source": [
    "URL_Sneaker"
   ]
  },
  {
   "cell_type": "code",
   "execution_count": 283,
   "id": "27149c5c",
   "metadata": {},
   "outputs": [],
   "source": [
    "Sneakers_Description=[]\n",
    "\n",
    "for i in URL_Sneaker:\n",
    "    driver.get(i)\n",
    "    time.sleep(5)\n",
    "    try:\n",
    "        description1 = driver.find_element(By.XPATH,'/html/body/div[1]/div/div[3]/div[1]/div[2]/div[6]/div[3]/div/div/div[1]/div[1]')\n",
    "        Sneakers_Description.append(description1.text)\n",
    "    except NoSuchElementException:\n",
    "        Product_Description1.append('Not Present')"
   ]
  },
  {
   "cell_type": "code",
   "execution_count": 284,
   "id": "f80c204c",
   "metadata": {},
   "outputs": [
    {
     "data": {
      "text/plain": [
       "['Product Details',\n",
       " 'Product Details',\n",
       " 'Product Details',\n",
       " 'Product Details',\n",
       " 'Product Details',\n",
       " 'Product Details',\n",
       " 'Product Details',\n",
       " 'Product Details',\n",
       " 'Product Details',\n",
       " 'Product Details',\n",
       " 'Product Details',\n",
       " 'Product Details',\n",
       " 'Product Details',\n",
       " 'Product Details',\n",
       " 'Product Details',\n",
       " 'Product Details',\n",
       " 'Product Details',\n",
       " 'Product Details',\n",
       " 'Product Details',\n",
       " 'Product Details',\n",
       " 'Product Details',\n",
       " 'Product Details',\n",
       " 'Product Details',\n",
       " 'Product Details',\n",
       " 'Product Details',\n",
       " 'Product Details',\n",
       " 'Product Details',\n",
       " 'Product Details',\n",
       " 'Product Details',\n",
       " 'Product Details',\n",
       " 'Product Details',\n",
       " 'Product Details',\n",
       " 'Product Details',\n",
       " 'Product Details',\n",
       " 'Product Details',\n",
       " 'Product Details',\n",
       " 'Product Details',\n",
       " 'Product Details',\n",
       " 'Product Details',\n",
       " 'Product Details',\n",
       " 'Product Details',\n",
       " 'Product Details',\n",
       " 'Product Details',\n",
       " 'Product Details',\n",
       " 'Product Details',\n",
       " 'Product Details',\n",
       " 'Product Details',\n",
       " 'Product Details',\n",
       " 'Product Details',\n",
       " 'Product Details',\n",
       " 'Product Details',\n",
       " 'Product Details',\n",
       " 'Product Details',\n",
       " 'Product Details',\n",
       " 'Product Details',\n",
       " 'Product Details',\n",
       " 'Product Details',\n",
       " 'Product Details',\n",
       " 'Product Details',\n",
       " 'Product Details',\n",
       " 'Product Details',\n",
       " 'Product Details',\n",
       " 'Product Details',\n",
       " 'Product Details',\n",
       " 'Product Details',\n",
       " 'Product Details',\n",
       " 'Product Details',\n",
       " 'Product Details',\n",
       " 'Product Details',\n",
       " 'Product Details',\n",
       " 'Product Details',\n",
       " 'Product Details',\n",
       " 'Product Details',\n",
       " 'Product Details',\n",
       " 'Product Details',\n",
       " 'Product Details',\n",
       " 'Product Details',\n",
       " 'Product Details',\n",
       " 'Product Details',\n",
       " 'Product Details',\n",
       " 'Product Details',\n",
       " 'Product Details',\n",
       " 'Product Details',\n",
       " 'Product Details',\n",
       " 'Product Details',\n",
       " 'Product Details',\n",
       " 'Product Details',\n",
       " 'Product Details',\n",
       " 'Product Details',\n",
       " 'Product Details',\n",
       " 'Product Details',\n",
       " 'Product Details',\n",
       " 'Product Details',\n",
       " 'Product Details',\n",
       " 'Product Details',\n",
       " 'Product Details',\n",
       " 'Product Details',\n",
       " 'Product Details',\n",
       " 'Product Details',\n",
       " 'Product Details',\n",
       " 'Product Details',\n",
       " 'Product Details',\n",
       " 'Product Details',\n",
       " 'Product Details',\n",
       " 'Product Details',\n",
       " 'Product Details',\n",
       " 'Product Details',\n",
       " 'Product Details',\n",
       " 'Product Details',\n",
       " 'Product Details',\n",
       " 'Product Details',\n",
       " 'Product Details',\n",
       " 'Product Details',\n",
       " 'Product Details']"
      ]
     },
     "execution_count": 284,
     "metadata": {},
     "output_type": "execute_result"
    }
   ],
   "source": [
    "Sneakers_Description"
   ]
  }
 ],
 "metadata": {
  "kernelspec": {
   "display_name": "Python 3 (ipykernel)",
   "language": "python",
   "name": "python3"
  },
  "language_info": {
   "codemirror_mode": {
    "name": "ipython",
    "version": 3
   },
   "file_extension": ".py",
   "mimetype": "text/x-python",
   "name": "python",
   "nbconvert_exporter": "python",
   "pygments_lexer": "ipython3",
   "version": "3.9.13"
  }
 },
 "nbformat": 4,
 "nbformat_minor": 5
}
